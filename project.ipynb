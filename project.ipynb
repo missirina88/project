{
 "cells": [
  {
   "cell_type": "markdown",
   "metadata": {
    "toc": true
   },
   "source": [
    "<h1>Содержание<span class=\"tocSkip\"></span></h1>\n",
    "<div class=\"toc\"><ul class=\"toc-item\"><li><span><a href=\"#Подготовка-данных\" data-toc-modified-id=\"Подготовка-данных-1\"><span class=\"toc-item-num\">1&nbsp;&nbsp;</span>Подготовка данных</a></span><ul class=\"toc-item\"><li><span><a href=\"#Предварительный-итог:\" data-toc-modified-id=\"Предварительный-итог:-1.1\"><span class=\"toc-item-num\">1.1&nbsp;&nbsp;</span>Предварительный итог:</a></span></li></ul></li><li><span><a href=\"#Исследование-задачи\" data-toc-modified-id=\"Исследование-задачи-2\"><span class=\"toc-item-num\">2&nbsp;&nbsp;</span>Исследование задачи</a></span><ul class=\"toc-item\"><li><span><a href=\"#Применение-демми-признаков-(ohe)\" data-toc-modified-id=\"Применение-демми-признаков-(ohe)-2.1\"><span class=\"toc-item-num\">2.1&nbsp;&nbsp;</span>Применение демми-признаков (ohe)</a></span></li><li><span><a href=\"#Модель-c-дисбалансом\" data-toc-modified-id=\"Модель-c-дисбалансом-2.2\"><span class=\"toc-item-num\">2.2&nbsp;&nbsp;</span>Модель c дисбалансом</a></span><ul class=\"toc-item\"><li><span><a href=\"#Дерево-решения\" data-toc-modified-id=\"Дерево-решения-2.2.1\"><span class=\"toc-item-num\">2.2.1&nbsp;&nbsp;</span>Дерево решения</a></span></li><li><span><a href=\"#Случайный-лес\" data-toc-modified-id=\"Случайный-лес-2.2.2\"><span class=\"toc-item-num\">2.2.2&nbsp;&nbsp;</span>Случайный лес</a></span></li><li><span><a href=\"#Логистическая-регрессия\" data-toc-modified-id=\"Логистическая-регрессия-2.2.3\"><span class=\"toc-item-num\">2.2.3&nbsp;&nbsp;</span>Логистическая регрессия</a></span></li></ul></li><li><span><a href=\"#График-ROC\" data-toc-modified-id=\"График-ROC-2.3\"><span class=\"toc-item-num\">2.3&nbsp;&nbsp;</span>График ROC</a></span><ul class=\"toc-item\"><li><span><a href=\"#Дерево-решения\" data-toc-modified-id=\"Дерево-решения-2.3.1\"><span class=\"toc-item-num\">2.3.1&nbsp;&nbsp;</span>Дерево решения</a></span></li><li><span><a href=\"#Случайный-лес\" data-toc-modified-id=\"Случайный-лес-2.3.2\"><span class=\"toc-item-num\">2.3.2&nbsp;&nbsp;</span>Случайный лес</a></span></li><li><span><a href=\"#Логистическая-регрессия\" data-toc-modified-id=\"Логистическая-регрессия-2.3.3\"><span class=\"toc-item-num\">2.3.3&nbsp;&nbsp;</span>Логистическая регрессия</a></span></li></ul></li></ul></li><li><span><a href=\"#Борьба-с-дисбалансом\" data-toc-modified-id=\"Борьба-с-дисбалансом-3\"><span class=\"toc-item-num\">3&nbsp;&nbsp;</span>Борьба с дисбалансом</a></span><ul class=\"toc-item\"><li><span><a href=\"#Upsampling\" data-toc-modified-id=\"Upsampling-3.1\"><span class=\"toc-item-num\">3.1&nbsp;&nbsp;</span>Upsampling</a></span></li><li><span><a href=\"#Downsampling\" data-toc-modified-id=\"Downsampling-3.2\"><span class=\"toc-item-num\">3.2&nbsp;&nbsp;</span>Downsampling</a></span></li><li><span><a href=\"#Модель-после-работы-с-дисбалансом\" data-toc-modified-id=\"Модель-после-работы-с-дисбалансом-3.3\"><span class=\"toc-item-num\">3.3&nbsp;&nbsp;</span>Модель после работы с дисбалансом</a></span><ul class=\"toc-item\"><li><span><a href=\"#Дерево-решения\" data-toc-modified-id=\"Дерево-решения-3.3.1\"><span class=\"toc-item-num\">3.3.1&nbsp;&nbsp;</span>Дерево решения</a></span></li><li><span><a href=\"#Случайный-лес\" data-toc-modified-id=\"Случайный-лес-3.3.2\"><span class=\"toc-item-num\">3.3.2&nbsp;&nbsp;</span>Случайный лес</a></span></li><li><span><a href=\"#Логистическая-регрессия\" data-toc-modified-id=\"Логистическая-регрессия-3.3.3\"><span class=\"toc-item-num\">3.3.3&nbsp;&nbsp;</span>Логистическая регрессия</a></span></li></ul></li><li><span><a href=\"#график-AUC-ROC\" data-toc-modified-id=\"график-AUC-ROC-3.4\"><span class=\"toc-item-num\">3.4&nbsp;&nbsp;</span>график AUC-ROC</a></span><ul class=\"toc-item\"><li><span><a href=\"#Дерево-решения\" data-toc-modified-id=\"Дерево-решения-3.4.1\"><span class=\"toc-item-num\">3.4.1&nbsp;&nbsp;</span>Дерево решения</a></span></li><li><span><a href=\"#Случайный-лес\" data-toc-modified-id=\"Случайный-лес-3.4.2\"><span class=\"toc-item-num\">3.4.2&nbsp;&nbsp;</span>Случайный лес</a></span></li><li><span><a href=\"#Логистичекая-регрессия\" data-toc-modified-id=\"Логистичекая-регрессия-3.4.3\"><span class=\"toc-item-num\">3.4.3&nbsp;&nbsp;</span>Логистичекая регрессия</a></span></li></ul></li><li><span><a href=\"#обучение-моделей-с-уменьшенным-классом\" data-toc-modified-id=\"обучение-моделей-с-уменьшенным-классом-3.5\"><span class=\"toc-item-num\">3.5&nbsp;&nbsp;</span>обучение моделей с уменьшенным классом</a></span><ul class=\"toc-item\"><li><span><a href=\"#дерево-решения\" data-toc-modified-id=\"дерево-решения-3.5.1\"><span class=\"toc-item-num\">3.5.1&nbsp;&nbsp;</span>дерево решения</a></span></li><li><span><a href=\"#случайный-лес\" data-toc-modified-id=\"случайный-лес-3.5.2\"><span class=\"toc-item-num\">3.5.2&nbsp;&nbsp;</span>случайный лес</a></span></li><li><span><a href=\"#логистическая-регрессия\" data-toc-modified-id=\"логистическая-регрессия-3.5.3\"><span class=\"toc-item-num\">3.5.3&nbsp;&nbsp;</span>логистическая регрессия</a></span></li></ul></li></ul></li><li><span><a href=\"#Тестирование-модели\" data-toc-modified-id=\"Тестирование-модели-4\"><span class=\"toc-item-num\">4&nbsp;&nbsp;</span>Тестирование модели</a></span></li><li><span><a href=\"#Вывод\" data-toc-modified-id=\"Вывод-5\"><span class=\"toc-item-num\">5&nbsp;&nbsp;</span>Вывод</a></span></li></ul></div>"
   ]
  },
  {
   "cell_type": "markdown",
   "metadata": {},
   "source": [
    "# Отток клиентов"
   ]
  },
  {
   "cell_type": "markdown",
   "metadata": {},
   "source": [
    "Из «Бета-Банка» стали уходить клиенты. Каждый месяц. Немного, но заметно. Банковские маркетологи посчитали: сохранять текущих клиентов дешевле, чем привлекать новых.\n",
    "\n",
    "Нужно спрогнозировать, уйдёт клиент из банка в ближайшее время или нет. Вам предоставлены исторические данные о поведении клиентов и расторжении договоров с банком. \n",
    "\n",
    "Постройте модель с предельно большим значением *F1*-меры. Чтобы сдать проект успешно, нужно довести метрику до 0.59. Проверьте *F1*-меру на тестовой выборке самостоятельно.\n",
    "\n",
    "Дополнительно измеряйте *AUC-ROC*, сравнивайте её значение с *F1*-мерой.\n",
    "\n",
    "Источник данных: [https://www.kaggle.com/barelydedicated/bank-customer-churn-modeling](https://www.kaggle.com/barelydedicated/bank-customer-churn-modeling)"
   ]
  },
  {
   "cell_type": "markdown",
   "metadata": {},
   "source": [
    "**Описание данных**\n",
    "\n",
    "Данные находятся в файле /datasets/Churn.csv (англ. «отток клиентов»).\n",
    "\n",
    "**Признаки**\n",
    " - RowNumber — индекс строки в данных\n",
    " - CustomerId — уникальный идентификатор клиента\n",
    " - Surname — фамилия\n",
    " - CreditScore — кредитный рейтинг\n",
    " - Geography — страна проживания\n",
    " - Gender — пол\n",
    " - Age — возраст\n",
    " - Tenure — сколько лет человек является клиентом банка\n",
    " - Balance — баланс на счёте\n",
    " - NumOfProducts — количество продуктов банка, используемых клиентом\n",
    " - HasCrCard — наличие кредитной карты\n",
    " - IsActiveMember — активность клиента\n",
    " - EstimatedSalary — предполагаемая зарплата\n",
    " \n",
    "**Целевой признак**\n",
    " - Exited — факт ухода клиента"
   ]
  },
  {
   "cell_type": "markdown",
   "metadata": {},
   "source": [
    "**План работы над проектом**\n",
    " - Загрузить и подготовьте данные.\n",
    "     - Пояснить порядок действий.\n",
    " - Исследовать баланс классов, обучить модель без учёта дисбаланса.\n",
    "     - Кратко описать выводы.\n",
    " - Улучшить качество модели, учитывая дисбаланс классов.\n",
    "     - Обучить разные модели и найдти лучшую.\n",
    "     - Кратко описать выводы.\n",
    " - Провести финальное тестирование."
   ]
  },
  {
   "cell_type": "markdown",
   "metadata": {},
   "source": [
    "## Подготовка данных"
   ]
  },
  {
   "cell_type": "markdown",
   "metadata": {},
   "source": [
    "Импортируем библиотеки необходимы для нашей работы"
   ]
  },
  {
   "cell_type": "code",
   "execution_count": null,
   "metadata": {},
   "outputs": [],
   "source": [
    "import pandas as pd\n",
    "import matplotlib.pyplot as plt\n",
    "import numpy as np\n",
    "from sklearn.tree import DecisionTreeClassifier\n",
    "from sklearn.ensemble import RandomForestClassifier\n",
    "from sklearn.linear_model import LogisticRegression\n",
    "from sklearn.model_selection import train_test_split\n",
    "from sklearn.preprocessing import OrdinalEncoder\n",
    "from sklearn.preprocessing import StandardScaler\n",
    "from sklearn.metrics import f1_score\n",
    "from sklearn.utils import shuffle\n",
    "from sklearn.metrics import roc_curve\n",
    "from sklearn.metrics import roc_auc_score\n",
    "from sklearn.metrics import accuracy_score\n",
    "from sklearn.metrics import confusion_matrix\n",
    "from sklearn.metrics import recall_score\n",
    "from sklearn.metrics import precision_score"
   ]
  },
  {
   "cell_type": "markdown",
   "metadata": {},
   "source": [
    "Выведем часть таблицы на экран и изучим информацию о ней"
   ]
  },
  {
   "cell_type": "code",
   "execution_count": null,
   "metadata": {},
   "outputs": [],
   "source": [
    "df = pd.read_csv('https://code.s3.yandex.net/datasets/Churn.csv')\n",
    "display(df.head(15))\n",
    "print('________________________________________________________________________________________________________________________')\n",
    "\n",
    "df.info()"
   ]
  },
  {
   "cell_type": "markdown",
   "metadata": {},
   "source": [
    "В таблице присутствуют столбцы, которые не будут учитываться в анализе. От них можно избавиться. "
   ]
  },
  {
   "cell_type": "code",
   "execution_count": null,
   "metadata": {},
   "outputs": [],
   "source": [
    "del_col=['RowNumber','CustomerId','Surname']\n",
    "df=df.drop(del_col,axis=1)"
   ]
  },
  {
   "cell_type": "markdown",
   "metadata": {},
   "source": [
    "В столбце Tenure - сколько лет человек является клиентом банка - 909 пропусков, которые правильнее всего будет заменить на 0, так как если мы возьмем среднюю или медиану, это может исказить картину анализа. Так как логичнее предположить при пропуске - человек не является клиентом банка. Так же переведенном тип данных в целочесленный"
   ]
  },
  {
   "cell_type": "code",
   "execution_count": null,
   "metadata": {},
   "outputs": [],
   "source": [
    "df['Tenure']=df['Tenure'].fillna(0).astype('int64')"
   ]
  },
  {
   "cell_type": "code",
   "execution_count": null,
   "metadata": {},
   "outputs": [],
   "source": [
    "df.info()"
   ]
  },
  {
   "cell_type": "markdown",
   "metadata": {},
   "source": [
    "На всякий случай проверим данные на дубликаты"
   ]
  },
  {
   "cell_type": "code",
   "execution_count": null,
   "metadata": {},
   "outputs": [],
   "source": [
    "print('Дубликатов в таблице:', df.duplicated().sum())"
   ]
  },
  {
   "cell_type": "markdown",
   "metadata": {},
   "source": [
    "В таблице нет дубликатов"
   ]
  },
  {
   "cell_type": "code",
   "execution_count": null,
   "metadata": {},
   "outputs": [],
   "source": [
    "display(df.head(15))"
   ]
  },
  {
   "cell_type": "markdown",
   "metadata": {},
   "source": [
    "### Предварительный итог:\n",
    " - В результате преобразований в нашем датасете мы имеем 10 признаков, 1 целевой признак (Exited).  - удалили  признаки Surname, customer_id и row_number, т.к. они не играют большой роли в анализе.\n",
    " - Дубликатов нет, пропуски устранены путем заполнения нулевыми значениями\n",
    " - Перевели тип данных в целочесленный в столбце Tenure"
   ]
  },
  {
   "cell_type": "markdown",
   "metadata": {},
   "source": [
    "## Исследование задачи"
   ]
  },
  {
   "cell_type": "markdown",
   "metadata": {},
   "source": [
    "Изучим данные Exited"
   ]
  },
  {
   "cell_type": "code",
   "execution_count": null,
   "metadata": {},
   "outputs": [],
   "source": [
    "df['Exited'].value_counts().plot(kind='bar',grid=True,color = 'g', title='факт ухода клиента')"
   ]
  },
  {
   "cell_type": "markdown",
   "metadata": {},
   "source": [
    "Отношение ушедних клиентов к оставшимся составляет 1 к 4. Это может говорить о дисбалансе в данных. Посмотрим как влияют различные факторы на отток клиентов "
   ]
  },
  {
   "cell_type": "code",
   "execution_count": null,
   "metadata": {},
   "outputs": [],
   "source": [
    "df.groupby('Gender')['Exited'].sum().plot(kind='bar', grid=True, color = 'y', title='Зависимость оттока от пола')\n",
    "plt.show()"
   ]
  },
  {
   "cell_type": "markdown",
   "metadata": {},
   "source": [
    "На данной гистограмме мы видим, что женщины чаще уходят чем мужчины"
   ]
  },
  {
   "cell_type": "code",
   "execution_count": null,
   "metadata": {},
   "outputs": [],
   "source": [
    "df.groupby('Age')['Exited'].sum().plot(figsize=(20,10), kind='bar', grid=True, color = 'm', title='Зависимость оттока от возраста')\n",
    "plt.show()"
   ]
  },
  {
   "cell_type": "markdown",
   "metadata": {},
   "source": [
    "Гистограмма показывает нормальное распределние и чаще всего уходят клиенты в возрасте от 40 до 50 лет.\n"
   ]
  },
  {
   "cell_type": "code",
   "execution_count": null,
   "metadata": {},
   "outputs": [],
   "source": [
    "df.groupby('Exited')['Balance'].mean().plot(kind='bar',grid=True, color = 'b', title='Зависимость оттока от баланса на счёте')\n"
   ]
  },
  {
   "cell_type": "markdown",
   "metadata": {},
   "source": [
    "На гистограмме видно, что зависимость не сильная, но среднее значение баланса немного выше у тех кто ушел."
   ]
  },
  {
   "cell_type": "markdown",
   "metadata": {},
   "source": [
    "### Применение демми-признаков (ohe)"
   ]
  },
  {
   "cell_type": "markdown",
   "metadata": {},
   "source": [
    "Признаки gender, geography - нужно преобразовать в бинарные методологией OHE (one-hot encoding)"
   ]
  },
  {
   "cell_type": "code",
   "execution_count": null,
   "metadata": {
    "scrolled": true
   },
   "outputs": [],
   "source": [
    "df_ohe=pd.get_dummies(df,drop_first=True)\n",
    "df_ohe.head()"
   ]
  },
  {
   "cell_type": "code",
   "execution_count": null,
   "metadata": {},
   "outputs": [],
   "source": [
    "#целевой признак\n",
    "target=df_ohe['Exited']\n",
    "#признаки\n",
    "features=df_ohe.drop(['Exited'],axis=1)"
   ]
  },
  {
   "cell_type": "markdown",
   "metadata": {},
   "source": [
    "С помощью train_test_split разделим наш датасет на следующие выборки:"
   ]
  },
  {
   "cell_type": "code",
   "execution_count": null,
   "metadata": {},
   "outputs": [],
   "source": [
    "features = df_ohe.drop(['Exited'], axis=1)\n",
    "target = df_ohe['Exited']\n",
    "\n",
    "features_temp, test_features, target_temp, test_target = train_test_split(features, target, test_size=0.2, random_state=12345)\n",
    "train_features, valid_features, train_target, valid_target = train_test_split(features_temp, target_temp, test_size=0.25, random_state=12345)"
   ]
  },
  {
   "cell_type": "markdown",
   "metadata": {},
   "source": [
    "### Модель c дисбалансом"
   ]
  },
  {
   "cell_type": "markdown",
   "metadata": {},
   "source": [
    "#### Дерево решения\n"
   ]
  },
  {
   "cell_type": "markdown",
   "metadata": {},
   "source": [
    "С помощью цикла найдем наилучший гиперпараметр max_depth:"
   ]
  },
  {
   "cell_type": "markdown",
   "metadata": {},
   "source": [
    "Внесем изменения в гиперпараметр, установим значение 50"
   ]
  },
  {
   "cell_type": "code",
   "execution_count": null,
   "metadata": {},
   "outputs": [],
   "source": [
    "for depth in range(1,50,1):\n",
    "    model_tree=DecisionTreeClassifier(max_depth=depth,random_state=1234).fit(train_features,train_target)\n",
    "    prediction=model_tree.predict(valid_features)\n",
    "    print('max_depth:',depth,'F1:',f1_score(valid_target,prediction))"
   ]
  },
  {
   "cell_type": "markdown",
   "metadata": {},
   "source": [
    "Вывод: лучшее значение max_depth=7, при котором F1=0,5489"
   ]
  },
  {
   "cell_type": "markdown",
   "metadata": {},
   "source": [
    "#### Случайный лес"
   ]
  },
  {
   "cell_type": "markdown",
   "metadata": {},
   "source": [
    "С помощью цикла найдем наилучший гиперпораметр max_depth:"
   ]
  },
  {
   "cell_type": "code",
   "execution_count": null,
   "metadata": {},
   "outputs": [],
   "source": [
    "for max_depth in range(1,25,1):\n",
    "    model_forest=RandomForestClassifier(max_depth=max_depth,n_estimators=50,random_state=1234).fit(train_features,train_target)\n",
    "    prediction=model_forest.predict(valid_features)\n",
    "    print('max_depth:',max_depth,'F1:',f1_score(valid_target,prediction))"
   ]
  },
  {
   "cell_type": "markdown",
   "metadata": {},
   "source": [
    "Вывод: лучшее значение max_depth=14, при котором F1=0,5705"
   ]
  },
  {
   "cell_type": "markdown",
   "metadata": {},
   "source": [
    "Циклом подбирем гиперпораметр n_estimators (количество деревьев)"
   ]
  },
  {
   "cell_type": "code",
   "execution_count": null,
   "metadata": {},
   "outputs": [],
   "source": [
    "for estim in range(1,55,2):\n",
    "    model_forest=RandomForestClassifier(max_depth=14,n_estimators=estim,random_state=1234).fit(train_features,train_target)\n",
    "    prediction=model_forest.predict(valid_features)\n",
    "    print('estim',estim,'F1:',f1_score(valid_target,prediction))"
   ]
  },
  {
   "cell_type": "markdown",
   "metadata": {},
   "source": [
    "Вывод: лучшее значение max_depth=14 и n_estimators=29 при котором F1=0,5786. Значение немного увелисилось."
   ]
  },
  {
   "cell_type": "code",
   "execution_count": null,
   "metadata": {},
   "outputs": [],
   "source": [
    "%%time\n",
    "\n",
    "accuracy_forest_list = []\n",
    "max_depth_list = []\n",
    "n_estim_list = []\n",
    "\n",
    "for depth in range(1, 25, 1):\n",
    "    for est in range(1, 55, 2):\n",
    "        model_forest = RandomForestClassifier(max_depth=depth, n_estimators=est, random_state=1234).fit(train_features,train_target)\n",
    "        prediction=model_forest.predict(valid_features)\n",
    "        accuracy_forest = round(accuracy_score(valid_target, prediction), 4)\n",
    "        \n",
    "        accuracy_forest_list.append(accuracy_forest)\n",
    "        max_depth_list.append(depth)\n",
    "        n_estim_list.append(est)"
   ]
  },
  {
   "cell_type": "markdown",
   "metadata": {},
   "source": [
    "#### Логистическая регрессия"
   ]
  },
  {
   "cell_type": "code",
   "execution_count": null,
   "metadata": {},
   "outputs": [],
   "source": [
    "model_logistic=LogisticRegression().fit(train_features,train_target)\n",
    "prediction=model_logistic.predict(valid_features)\n",
    "print('F1:',f1_score(valid_target,prediction))"
   ]
  },
  {
   "cell_type": "markdown",
   "metadata": {},
   "source": [
    "Вывод: F1 = 0.0986 - совсем печальный результат"
   ]
  },
  {
   "cell_type": "markdown",
   "metadata": {},
   "source": [
    "Общий вывод: Изучив данные на трёх моделях, можно сделать вывод, что саммая лучшая модель оказалась случайный лес. При лучшем значении  max_depth=14 и n_estimators=29 при котором F1=0,5786 на тестовой(валидной) выборке."
   ]
  },
  {
   "cell_type": "markdown",
   "metadata": {},
   "source": [
    "### График ROC"
   ]
  },
  {
   "cell_type": "markdown",
   "metadata": {},
   "source": [
    "#### Дерево решения"
   ]
  },
  {
   "cell_type": "code",
   "execution_count": null,
   "metadata": {},
   "outputs": [],
   "source": [
    "probabilities_tree=model_tree.predict_proba(valid_features)\n",
    "probabilities_one_valid_tree=probabilities_tree[:,1]\n",
    "fpr_tree,tpr_tree,thresholds=roc_curve(valid_target,probabilities_one_valid_tree)\n",
    "auc_roc_tree=roc_auc_score(valid_target,probabilities_one_valid_tree)\n",
    "auc_roc_tree"
   ]
  },
  {
   "cell_type": "markdown",
   "metadata": {},
   "source": [
    "#### Случайный лес"
   ]
  },
  {
   "cell_type": "code",
   "execution_count": null,
   "metadata": {},
   "outputs": [],
   "source": [
    "probabilities_forest=model_forest.predict_proba(valid_features)\n",
    "probabilities_one_valid_forest=probabilities_forest[:,1]\n",
    "fpr_forest,tpr_forest,thresholds=roc_curve(valid_target,probabilities_one_valid_forest)\n",
    "auc_roc_forest=roc_auc_score(valid_target,probabilities_one_valid_forest)\n",
    "auc_roc_forest"
   ]
  },
  {
   "cell_type": "markdown",
   "metadata": {},
   "source": [
    "#### Логистическая регрессия"
   ]
  },
  {
   "cell_type": "code",
   "execution_count": null,
   "metadata": {},
   "outputs": [],
   "source": [
    "probabilities_reg=model_logistic.predict_proba(valid_features)\n",
    "probabilities_one_valid_reg=probabilities_reg[:,1]\n",
    "fpr_log,tpr_log,thresholds=roc_curve(valid_target,probabilities_one_valid_reg)\n",
    "auc_roc_reg=roc_auc_score(valid_target,probabilities_one_valid_reg)\n",
    "auc_roc_reg"
   ]
  },
  {
   "cell_type": "code",
   "execution_count": null,
   "metadata": {},
   "outputs": [],
   "source": [
    "plt.figure()\n",
    "\n",
    "plt.figure(figsize=(10,10))\n",
    "plt.plot([0, 1], [0, 1], linestyle='--')\n",
    "plt.xlim([0.0, 1.0])\n",
    "plt.ylim([0.0, 1.0])\n",
    "plt.plot(fpr_log,tpr_log)\n",
    "plt.plot(fpr_tree,tpr_tree)\n",
    "plt.plot(fpr_forest,tpr_forest)\n",
    "plt.xlabel('False Positive Rate')\n",
    "plt.ylabel('True Positive Rate')\n",
    "plt.title('ROC-кривая')\n",
    "plt.legend(('Случайная модель','Случайный лес','Логистическая регрессия','Дерево решения'),\n",
    "           loc= 'upper left') \n",
    "plt.show()"
   ]
  },
  {
   "cell_type": "markdown",
   "metadata": {},
   "source": [
    "## Борьба с дисбалансом"
   ]
  },
  {
   "cell_type": "markdown",
   "metadata": {},
   "source": [
    "### Upsampling"
   ]
  },
  {
   "cell_type": "markdown",
   "metadata": {},
   "source": [
    "Воспользуемся функцией Upsampling и увеличим количество клиентов оттока (target==1)"
   ]
  },
  {
   "cell_type": "code",
   "execution_count": null,
   "metadata": {},
   "outputs": [],
   "source": [
    "def upsampling (features,target,repeat):\n",
    "    target_one=target[target==1]\n",
    "    target_null=target[target==0]\n",
    "    features_one=features[target==1]\n",
    "    features_null=features[target==0]\n",
    "    \n",
    "    upsampling_features=pd.concat([features_null]+[features_one]*repeat)\n",
    "    upsampling_target=pd.concat([target_null]+[target_one]*repeat)\n",
    "    \n",
    "    upsampling_features,upsampling_target=shuffle(upsampling_features,upsampling_target,random_state=1234)\n",
    "    \n",
    "    return upsampling_features,upsampling_target"
   ]
  },
  {
   "cell_type": "code",
   "execution_count": null,
   "metadata": {},
   "outputs": [],
   "source": [
    "features_balance_up,target_balance_up=upsampling(train_features,train_target,4)"
   ]
  },
  {
   "cell_type": "markdown",
   "metadata": {},
   "source": [
    "### Downsampling"
   ]
  },
  {
   "cell_type": "markdown",
   "metadata": {},
   "source": [
    "Воспользуемся функцией Downsampling и увеличим количество клиентов оттока (target==1)"
   ]
  },
  {
   "cell_type": "code",
   "execution_count": null,
   "metadata": {},
   "outputs": [],
   "source": [
    "def downsampling(features,target,fraction):\n",
    "    features_null=features[target==0]\n",
    "    features_one=features[target==1]\n",
    "    target_null=target[target==0]\n",
    "    target_one=target[target==1]\n",
    "    \n",
    "    downsampling_features=pd.concat([features_null.sample(frac=0.4,random_state=1234)]+[features_one])\n",
    "    downsampling_target=pd.concat([target_null.sample(frac=0.4,random_state=1234)]+[target_one])\n",
    "    \n",
    "    downsampling_features,downsampling_target=shuffle(downsampling_features,downsampling_target,random_state=1234)\n",
    "    return downsampling_features,downsampling_target"
   ]
  },
  {
   "cell_type": "code",
   "execution_count": null,
   "metadata": {},
   "outputs": [],
   "source": [
    "def downsample(features, target, fraction):\n",
    "    features_null = features[target == 0]\n",
    "    features_one = features[target == 1]\n",
    "    target_null = target[target == 0]\n",
    "    target_one = target[target == 1]\n",
    "\n",
    "    features_downsampled = pd.concat(\n",
    "        [features_null.sample(frac=fraction, random_state=12345)] + [features_one])\n",
    "    target_downsampled = pd.concat(\n",
    "        [target_null.sample(frac=fraction, random_state=12345)] + [target_one])\n",
    "\n",
    "    features_downsampled, target_downsampled = shuffle(\n",
    "        features_downsampled, target_downsampled, random_state=12345)\n",
    "\n",
    "    return features_downsampled, target_downsampled\n",
    "\n",
    "# применяем функцию к тренировочным выборкам, уменьшает количество объемтов класса 0 в 4 раза\n",
    "features_train_downsampled, target_train_downsampled = downsample(train_features,train_target, 0.25)"
   ]
  },
  {
   "cell_type": "markdown",
   "metadata": {},
   "source": [
    "### Модель после работы с дисбалансом"
   ]
  },
  {
   "cell_type": "markdown",
   "metadata": {},
   "source": [
    "#### Дерево решения"
   ]
  },
  {
   "cell_type": "code",
   "execution_count": null,
   "metadata": {},
   "outputs": [],
   "source": [
    "#Циклом ищем лучший гиперпораметр max_depth\n",
    "\n",
    "for depth in range(1,20,1):\n",
    "    model_tree=DecisionTreeClassifier(class_weight='balanced',max_depth=depth,random_state=1234).fit(train_features,train_target)\n",
    "  \n",
    "    prediction=model_tree.predict(valid_features)\n",
    "    print('max_depth:',depth,'F1:',f1_score(valid_target,prediction))"
   ]
  },
  {
   "cell_type": "markdown",
   "metadata": {},
   "source": [
    "Вывод: лучшее значение max_depth=6, при котором F1=0,5587"
   ]
  },
  {
   "cell_type": "code",
   "execution_count": null,
   "metadata": {},
   "outputs": [],
   "source": [
    "#Циклом ищем лучший гиперпораметр max_depth\n",
    "\n",
    "for depth in range(1,20,1):\n",
    "    model_tree=DecisionTreeClassifier(max_depth=depth,random_state=1234).fit(features_balance_up,target_balance_up)\n",
    "  \n",
    "    prediction=model_tree.predict(valid_features)\n",
    "    print('max_depth:',depth,'F1:',f1_score(valid_target,prediction))"
   ]
  },
  {
   "cell_type": "markdown",
   "metadata": {},
   "source": [
    "Вывод: лучшее значение max_depth=6, при котором F1=0,5587"
   ]
  },
  {
   "cell_type": "markdown",
   "metadata": {},
   "source": [
    "#### Случайный лес"
   ]
  },
  {
   "cell_type": "code",
   "execution_count": null,
   "metadata": {},
   "outputs": [],
   "source": [
    "#Циклом ищем лучший гиперпораметр max_depth\n",
    "for max_depth in range(1,25,1):\n",
    "    model_forest=RandomForestClassifier(class_weight='balanced',max_depth=max_depth,n_estimators=50,random_state=1234).fit(train_features,train_target)\n",
    "    prediction=model_forest.predict(valid_features)\n",
    "    print('max_depth:',max_depth,'F1:',f1_score(valid_target,prediction))"
   ]
  },
  {
   "cell_type": "markdown",
   "metadata": {},
   "source": [
    "Вывод: лучшее значение max_depth=12, при котором F1=0,6055"
   ]
  },
  {
   "cell_type": "code",
   "execution_count": null,
   "metadata": {},
   "outputs": [],
   "source": [
    "#Циклом подбираем гиперпораметр n_estimators (количество деревьев)\n",
    "for estim in range(1,55,1):\n",
    "    model_forest=RandomForestClassifier(class_weight='balanced',max_depth=12,n_estimators=estim,random_state=1234).fit(train_features,train_target)\n",
    "    prediction=model_forest.predict(valid_features)\n",
    "    print('estim',estim,'F1:',f1_score(valid_target,prediction))\n",
    "    "
   ]
  },
  {
   "cell_type": "markdown",
   "metadata": {},
   "source": [
    "Вывод: лучшее значение max_depth=12 и n_estimators=14 при котором F1=0,6061"
   ]
  },
  {
   "cell_type": "code",
   "execution_count": null,
   "metadata": {},
   "outputs": [],
   "source": [
    " model_forest=RandomForestClassifier(class_weight='balanced',max_depth=12,n_estimators=14,random_state=1234).fit(train_features,train_target)"
   ]
  },
  {
   "cell_type": "code",
   "execution_count": null,
   "metadata": {},
   "outputs": [],
   "source": [
    "for max_depth in range(1,25,1):\n",
    "    model_forest=RandomForestClassifier(max_depth=max_depth,n_estimators=50,random_state=1234).fit(features_balance_up,target_balance_up)\n",
    "    prediction=model_forest.predict(valid_features)\n",
    "    print('max_depth:',max_depth,'F1:',f1_score(valid_target,prediction))"
   ]
  },
  {
   "cell_type": "markdown",
   "metadata": {},
   "source": [
    "Вывод: лучшее значение max_depth=19, при котором F1=0,5988"
   ]
  },
  {
   "cell_type": "code",
   "execution_count": null,
   "metadata": {},
   "outputs": [],
   "source": [
    "#Циклом подбираем гиперпораметр n_estimators (количество деревьев)\n",
    "for estim in range(1,55,1):\n",
    "    model_forest=RandomForestClassifier(max_depth=19,n_estimators=estim,random_state=1234).fit(features_balance_up,target_balance_up)\n",
    "    prediction=model_forest.predict(valid_features)\n",
    "    print('estim',estim,'F1:',f1_score(valid_target,prediction))"
   ]
  },
  {
   "cell_type": "markdown",
   "metadata": {},
   "source": [
    "Вывод: лучшее значение max_depth=19 и n_estimators=47, 49 при котором F1=0,6041"
   ]
  },
  {
   "cell_type": "markdown",
   "metadata": {},
   "source": [
    "#### Логистическая регрессия"
   ]
  },
  {
   "cell_type": "code",
   "execution_count": null,
   "metadata": {},
   "outputs": [],
   "source": [
    "model = LogisticRegression(random_state=12345, solver='liblinear', class_weight='balanced')\n",
    "model.fit(train_features,train_target)\n",
    "predicted_valid = model.predict(valid_features)\n",
    "print(\"F1:\", f1_score(valid_target,prediction))"
   ]
  },
  {
   "cell_type": "code",
   "execution_count": null,
   "metadata": {},
   "outputs": [],
   "source": [
    "\n",
    "model = LogisticRegression(random_state=12345, solver='liblinear')\n",
    "model.fit(features_balance_up,target_balance_up)\n",
    "predicted_valid = model.predict(valid_features)\n",
    "print(\"F1:\", f1_score(valid_target,predicted_valid))"
   ]
  },
  {
   "cell_type": "markdown",
   "metadata": {},
   "source": [
    "Из полученных даннах можно сделать вывод, что метод балансировки весов классов немного лучше справился с задачей по сравнению с увеличением выборки - 0.4773 против 0.4342"
   ]
  },
  {
   "cell_type": "markdown",
   "metadata": {},
   "source": [
    "Вывод: Мера F1 стала гораздо лучше. F1=0.4773"
   ]
  },
  {
   "cell_type": "markdown",
   "metadata": {},
   "source": [
    "### график AUC-ROC\n"
   ]
  },
  {
   "cell_type": "markdown",
   "metadata": {},
   "source": [
    "#### Дерево решения"
   ]
  },
  {
   "cell_type": "code",
   "execution_count": null,
   "metadata": {},
   "outputs": [],
   "source": [
    "probabilities_tree=model_tree.predict_proba(valid_features)\n",
    "probabilities_one_valid_tree=probabilities_tree[:,1]\n",
    "fpr_tree,tpr_tree,thresholds=roc_curve(valid_target,probabilities_one_valid_tree)\n",
    "auc_roc_tree=roc_auc_score(valid_target,probabilities_one_valid_tree)\n",
    "auc_roc_tree"
   ]
  },
  {
   "cell_type": "markdown",
   "metadata": {},
   "source": [
    "#### Случайный лес"
   ]
  },
  {
   "cell_type": "code",
   "execution_count": null,
   "metadata": {},
   "outputs": [],
   "source": [
    "probabilities_forest=model_forest.predict_proba(valid_features)\n",
    "probabilities_one_valid_forest=probabilities_forest[:,1]\n",
    "fpr_forest,tpr_forest,thresholds=roc_curve(valid_target,probabilities_one_valid_forest)\n",
    "auc_roc_forest=roc_auc_score(valid_target,probabilities_one_valid_forest)\n",
    "auc_roc_forest"
   ]
  },
  {
   "cell_type": "markdown",
   "metadata": {},
   "source": [
    "#### Логистичекая регрессия"
   ]
  },
  {
   "cell_type": "code",
   "execution_count": null,
   "metadata": {},
   "outputs": [],
   "source": [
    "model_logistic=LogisticRegression(class_weight='balanced',solver='liblinear').fit(features_balance_up,target_balance_up)\n",
    "prediction=model_logistic.predict(valid_features)\n",
    "print('F1:',f1_score(prediction, valid_target))"
   ]
  },
  {
   "cell_type": "code",
   "execution_count": null,
   "metadata": {},
   "outputs": [],
   "source": [
    "probabilities_reg=model_logistic.predict_proba(valid_features)\n",
    "probabilities_one_valid_reg=probabilities_reg[:,1]\n",
    "fpr_log,tpr_log,thresholds=roc_curve(valid_target,probabilities_one_valid_reg)\n",
    "auc_roc_reg=roc_auc_score(valid_target,probabilities_one_valid_reg)\n",
    "auc_roc_reg"
   ]
  },
  {
   "cell_type": "code",
   "execution_count": null,
   "metadata": {},
   "outputs": [],
   "source": [
    "plt.figure()\n",
    "\n",
    "plt.figure(figsize=(10,10))\n",
    "plt.plot([0, 1], [0, 1], linestyle='--')\n",
    "plt.xlim([0.0, 1.0])\n",
    "plt.ylim([0.0, 1.0])\n",
    "plt.plot(fpr_log,tpr_log)\n",
    "plt.plot(fpr_tree,tpr_tree)\n",
    "plt.plot(fpr_forest,tpr_forest)\n",
    "plt.xlabel('False Positive')\n",
    "plt.ylabel('True Positive')\n",
    "plt.title('ROC-кривая')\n",
    "plt.legend(('Случайная модель','Случайный лес','Логистическая регрессия','Дерево решения'),\n",
    "           loc= 'upper left') \n",
    "plt.show()"
   ]
  },
  {
   "cell_type": "markdown",
   "metadata": {},
   "source": [
    "Лучшее значение метрики auc roc=0.8412 у модели Случайный лес"
   ]
  },
  {
   "cell_type": "markdown",
   "metadata": {},
   "source": [
    "### обучение моделей с уменьшенным классом\n"
   ]
  },
  {
   "cell_type": "code",
   "execution_count": null,
   "metadata": {},
   "outputs": [],
   "source": [
    "def downsample(features, target, fraction):\n",
    "    features_null = features[target == 0]\n",
    "    features_one = features[target == 1]\n",
    "    target_null = target[target == 0]\n",
    "    target_one = target[target == 1]\n",
    "\n",
    "    features_downsampled = pd.concat(\n",
    "        [features_null.sample(frac=fraction, random_state=12345)] + [features_one])\n",
    "    target_downsampled = pd.concat(\n",
    "        [target_null.sample(frac=fraction, random_state=12345)] + [target_one])\n",
    "\n",
    "    features_downsampled, target_downsampled = shuffle(\n",
    "        features_downsampled, target_downsampled, random_state=12345)\n",
    "\n",
    "    return features_downsampled, target_downsampled\n",
    "\n",
    "# применяем функцию к тренировочным выборкам, уменьшает количество объемтов класса 0 в 4 раза\n",
    "features_train_downsampled, target_train_downsampled = downsample(train_features,train_target, 0.25)"
   ]
  },
  {
   "cell_type": "markdown",
   "metadata": {},
   "source": [
    "#### дерево решения"
   ]
  },
  {
   "cell_type": "code",
   "execution_count": null,
   "metadata": {},
   "outputs": [],
   "source": [
    "\n",
    "for depth in range(1,20,1):\n",
    "    model_tree=DecisionTreeClassifier(max_depth=depth,random_state=12345).fit(features_train_downsampled, target_train_downsampled)\n",
    "    prediction=model_tree.predict(valid_features)\n",
    "    print('max_depth:',depth,'F1:',f1_score(valid_target,prediction))"
   ]
  },
  {
   "cell_type": "markdown",
   "metadata": {},
   "source": [
    "Вывод: лучшее значение max_depth=7, при котором F1=0,5460"
   ]
  },
  {
   "cell_type": "markdown",
   "metadata": {},
   "source": [
    "#### случайный лес"
   ]
  },
  {
   "cell_type": "code",
   "execution_count": null,
   "metadata": {},
   "outputs": [],
   "source": [
    "\n",
    "for max_depth in range(1,25,1):\n",
    "    model_forest=RandomForestClassifier(max_depth=max_depth,n_estimators=50,random_state=1234).fit(features_train_downsampled, target_train_downsampled)\n",
    "    prediction=model_forest.predict(valid_features)\n",
    "    print('max_depth:',max_depth,'F1:',f1_score(valid_target,prediction))"
   ]
  },
  {
   "cell_type": "markdown",
   "metadata": {},
   "source": [
    "Вывод: лучшее значение max_depth=6, при котором F1=0,5743"
   ]
  },
  {
   "cell_type": "code",
   "execution_count": null,
   "metadata": {},
   "outputs": [],
   "source": [
    "#Циклом подбираем гиперпораметр n_estimators (количество деревьев)\n",
    "for estim in range(1,55,1):\n",
    "    model_forest=RandomForestClassifier(max_depth=6,n_estimators=estim,random_state=1234).fit(features_train_downsampled, target_train_downsampled)\n",
    "    prediction=model_forest.predict(valid_features)\n",
    "    print('estim',estim,'F1:',f1_score(valid_target,prediction))"
   ]
  },
  {
   "cell_type": "markdown",
   "metadata": {},
   "source": [
    "Вывод: лучшее значение max_depth=6 и n_estimators=51 при котором F1=0,5776"
   ]
  },
  {
   "cell_type": "markdown",
   "metadata": {},
   "source": [
    "## Тестирование модели"
   ]
  },
  {
   "cell_type": "code",
   "execution_count": null,
   "metadata": {},
   "outputs": [],
   "source": [
    "prediction=model_forest.predict(test_features)\n",
    "print('F1:',f1_score(test_target, prediction))"
   ]
  },
  {
   "cell_type": "code",
   "execution_count": null,
   "metadata": {},
   "outputs": [],
   "source": [
    "probabilities_forest=model_forest.predict_proba(test_features)\n",
    "probabilities_one_test_forest=probabilities_forest[:,1]\n",
    "fpr_forest,tpr_forest,thresholds=roc_curve(test_target,probabilities_one_test_forest)\n",
    "print('ROC-AUC:', roc_auc_score(test_target,probabilities_one_test_forest))"
   ]
  },
  {
   "cell_type": "code",
   "execution_count": null,
   "metadata": {},
   "outputs": [],
   "source": [
    "rezult1={'Дерево Решения':np.array([0.5489,0.5587,0.5587,0.5460]),'Случайный лес':np.array([0.5786,0.6061,0.6041,0.5776]),'Логистическая регрессия':np.array([0.0986,0.4773,0.4342,0.4393])}\n",
    "rezult_df=pd.DataFrame(rezult1,index=['F1 без учета дисбаланса','F1 с учетом дисбаланса методом class_weight', 'F1 с учетом дисбаланса методом увеличения класса', 'F1 с учетом дисбаланса методом уменьшения класса' ])\n",
    "rezult_df"
   ]
  },
  {
   "cell_type": "markdown",
   "metadata": {},
   "source": [
    "ВЫВОД: Рассматривая данные с учетом дисбаланса и без учета дисбаланса тремя моделями можно сделать вывод, что самая лучшая модель оказалась Случайный лес. При лучшем значении max_depth=12, n_estimators=14, мы имеем F1 меру =0,6061 на тестовой(валидной) выборке. Хуже всего себя показала модель Логистическая регрессия."
   ]
  },
  {
   "cell_type": "markdown",
   "metadata": {},
   "source": [
    "## Вывод"
   ]
  },
  {
   "cell_type": "markdown",
   "metadata": {},
   "source": [
    "В ходе работыбыли выполнены следующие этапы работы:\n",
    " - Предобработка данных:\n",
    "     * В результате преобразований в нашем датасете мы имеем 10 признаков, 1 целевой признак (Exited). - удалили признаки Surname, customer_id и row_number, т.к. они не играют большой роли в анализе.\n",
    "     * Дубликатов нет, пропуски устранены путем заполнения нулевыми значениями\n",
    "     * Перевели тип данных в целочесленный в столбце Tenure\n",
    " - Признаки gender, geography преобразованы  в бинарные методом OHE\n",
    " - Обучение трех моделей без учета дисбаланса\n",
    " - Построение кривой ошибок (ROC-кривая)\n",
    " - Борьба с дисбалансом методами Upsampling и Downsampling\n",
    " - Обучение трех моделей с учетом дисбаланса с помощью меодов:\n",
    "     * балансировка весов классов\n",
    "     * увеличение класса\n",
    "     * уменьшение класса\n",
    " - Выбран оптимальная модель и метод учета дисбаланса - наилучшие результаты показала модель Случайный лес при методе борьбы с дисбалансом class_weigth  - При лучшем значении max_depth=12, n_estimators=14, мы имеем F1 меру =0,6061 на тестовой(валидной) выборке."
   ]
  }
 ],
 "metadata": {
  "ExecuteTimeLog": [
   {
    "duration": 1726,
    "start_time": "2022-09-13T11:42:16.176Z"
   },
   {
    "duration": 123,
    "start_time": "2022-09-13T11:44:25.477Z"
   },
   {
    "duration": 58,
    "start_time": "2022-09-13T11:44:39.277Z"
   },
   {
    "duration": 62,
    "start_time": "2022-09-13T11:44:45.504Z"
   },
   {
    "duration": 87,
    "start_time": "2022-09-13T11:45:01.195Z"
   },
   {
    "duration": 83,
    "start_time": "2022-09-13T11:45:17.601Z"
   },
   {
    "duration": 5,
    "start_time": "2022-09-13T12:09:56.747Z"
   },
   {
    "duration": 5,
    "start_time": "2022-09-13T12:10:46.288Z"
   },
   {
    "duration": 11,
    "start_time": "2022-09-13T12:10:54.939Z"
   },
   {
    "duration": 96,
    "start_time": "2022-09-13T12:12:16.564Z"
   },
   {
    "duration": 8,
    "start_time": "2022-09-13T12:12:23.770Z"
   },
   {
    "duration": 11,
    "start_time": "2022-09-13T12:12:27.241Z"
   },
   {
    "duration": 9,
    "start_time": "2022-09-13T12:13:00.646Z"
   },
   {
    "duration": 8,
    "start_time": "2022-09-13T12:13:13.299Z"
   },
   {
    "duration": 8,
    "start_time": "2022-09-13T12:13:28.151Z"
   },
   {
    "duration": 8,
    "start_time": "2022-09-13T12:13:32.405Z"
   },
   {
    "duration": 17,
    "start_time": "2022-09-13T12:14:00.457Z"
   },
   {
    "duration": 87,
    "start_time": "2022-09-13T12:14:12.343Z"
   },
   {
    "duration": 4,
    "start_time": "2022-09-13T12:14:15.375Z"
   },
   {
    "duration": 5,
    "start_time": "2022-09-13T12:14:17.802Z"
   },
   {
    "duration": 10,
    "start_time": "2022-09-13T12:14:19.905Z"
   },
   {
    "duration": 7,
    "start_time": "2022-09-13T12:23:23.199Z"
   },
   {
    "duration": 8,
    "start_time": "2022-09-13T12:24:22.273Z"
   },
   {
    "duration": 9,
    "start_time": "2022-09-13T12:24:45.670Z"
   },
   {
    "duration": 8,
    "start_time": "2022-09-13T12:24:52.066Z"
   },
   {
    "duration": 12,
    "start_time": "2022-09-13T12:29:18.600Z"
   },
   {
    "duration": 69,
    "start_time": "2022-09-13T12:29:21.766Z"
   },
   {
    "duration": 5,
    "start_time": "2022-09-13T12:29:24.969Z"
   },
   {
    "duration": 4,
    "start_time": "2022-09-13T12:29:28.862Z"
   },
   {
    "duration": 13,
    "start_time": "2022-09-13T12:29:31.266Z"
   },
   {
    "duration": 10,
    "start_time": "2022-09-13T12:54:35.463Z"
   },
   {
    "duration": 144,
    "start_time": "2022-09-13T12:54:41.546Z"
   },
   {
    "duration": 14,
    "start_time": "2022-09-13T12:55:14.850Z"
   },
   {
    "duration": 142,
    "start_time": "2022-09-13T13:01:06.949Z"
   },
   {
    "duration": 109,
    "start_time": "2022-09-13T13:01:46.350Z"
   },
   {
    "duration": 108,
    "start_time": "2022-09-13T13:01:55.913Z"
   },
   {
    "duration": 107,
    "start_time": "2022-09-13T13:02:34.913Z"
   },
   {
    "duration": 128,
    "start_time": "2022-09-13T13:03:49.038Z"
   },
   {
    "duration": 182,
    "start_time": "2022-09-13T13:04:01.179Z"
   },
   {
    "duration": 100,
    "start_time": "2022-09-13T13:05:14.123Z"
   },
   {
    "duration": 150,
    "start_time": "2022-09-13T13:06:30.950Z"
   },
   {
    "duration": 172,
    "start_time": "2022-09-13T13:07:03.292Z"
   },
   {
    "duration": 877,
    "start_time": "2022-09-13T13:07:12.976Z"
   },
   {
    "duration": 848,
    "start_time": "2022-09-13T13:07:42.369Z"
   },
   {
    "duration": 943,
    "start_time": "2022-09-13T13:09:43.560Z"
   },
   {
    "duration": 172,
    "start_time": "2022-09-13T13:10:04.266Z"
   },
   {
    "duration": 201,
    "start_time": "2022-09-13T13:11:51.249Z"
   },
   {
    "duration": 107,
    "start_time": "2022-09-13T13:12:41.955Z"
   },
   {
    "duration": 133,
    "start_time": "2022-09-13T13:13:17.415Z"
   },
   {
    "duration": 107,
    "start_time": "2022-09-13T13:14:51.201Z"
   },
   {
    "duration": 107,
    "start_time": "2022-09-13T13:15:44.853Z"
   },
   {
    "duration": 108,
    "start_time": "2022-09-13T13:15:53.279Z"
   },
   {
    "duration": 116,
    "start_time": "2022-09-13T13:16:01.393Z"
   },
   {
    "duration": 95,
    "start_time": "2022-09-13T13:16:05.689Z"
   },
   {
    "duration": 43,
    "start_time": "2022-09-13T13:18:14.805Z"
   },
   {
    "duration": 16,
    "start_time": "2022-09-13T13:18:55.250Z"
   },
   {
    "duration": 23,
    "start_time": "2022-09-13T13:19:11.774Z"
   },
   {
    "duration": 6,
    "start_time": "2022-09-13T13:20:33.402Z"
   },
   {
    "duration": 9,
    "start_time": "2022-09-13T13:20:57.791Z"
   },
   {
    "duration": 10,
    "start_time": "2022-09-13T13:21:01.662Z"
   },
   {
    "duration": 198,
    "start_time": "2022-09-13T13:21:45.854Z"
   },
   {
    "duration": 9,
    "start_time": "2022-09-13T13:21:52.604Z"
   },
   {
    "duration": 53,
    "start_time": "2022-09-13T13:21:53.869Z"
   },
   {
    "duration": 5,
    "start_time": "2022-09-13T13:22:11.658Z"
   },
   {
    "duration": 8,
    "start_time": "2022-09-13T13:22:15.359Z"
   },
   {
    "duration": 55,
    "start_time": "2022-09-13T13:22:16.088Z"
   },
   {
    "duration": 20,
    "start_time": "2022-09-13T13:22:19.906Z"
   },
   {
    "duration": 5,
    "start_time": "2022-09-13T13:22:20.946Z"
   },
   {
    "duration": 10,
    "start_time": "2022-09-13T13:22:22.755Z"
   },
   {
    "duration": 58,
    "start_time": "2022-09-13T13:22:23.870Z"
   },
   {
    "duration": 34,
    "start_time": "2022-09-13T13:22:30.165Z"
   },
   {
    "duration": 10,
    "start_time": "2022-09-13T13:22:49.081Z"
   },
   {
    "duration": 29,
    "start_time": "2022-09-13T13:22:50.105Z"
   },
   {
    "duration": 47,
    "start_time": "2022-09-13T13:23:03.210Z"
   },
   {
    "duration": 272,
    "start_time": "2022-09-13T13:23:28.351Z"
   },
   {
    "duration": 6325,
    "start_time": "2022-09-13T13:24:20.593Z"
   },
   {
    "duration": 4832,
    "start_time": "2022-09-13T13:24:52.093Z"
   },
   {
    "duration": 35,
    "start_time": "2022-09-13T13:25:29.117Z"
   },
   {
    "duration": 108,
    "start_time": "2022-09-13T13:26:05.772Z"
   },
   {
    "duration": 8,
    "start_time": "2022-09-13T13:26:18.088Z"
   },
   {
    "duration": 12,
    "start_time": "2022-09-13T13:26:33.088Z"
   },
   {
    "duration": 39,
    "start_time": "2022-09-13T13:26:54.424Z"
   },
   {
    "duration": 126,
    "start_time": "2022-09-13T13:27:20.684Z"
   },
   {
    "duration": 127,
    "start_time": "2022-09-13T13:27:30.187Z"
   },
   {
    "duration": 15,
    "start_time": "2022-09-13T13:27:54.981Z"
   },
   {
    "duration": 191,
    "start_time": "2022-09-13T13:28:07.666Z"
   },
   {
    "duration": 4,
    "start_time": "2022-09-13T13:28:48.279Z"
   },
   {
    "duration": 10,
    "start_time": "2022-09-13T13:28:57.548Z"
   },
   {
    "duration": 4,
    "start_time": "2022-09-13T13:29:15.062Z"
   },
   {
    "duration": 5,
    "start_time": "2022-09-13T13:29:50.361Z"
   },
   {
    "duration": 2754,
    "start_time": "2022-09-13T13:29:55.676Z"
   },
   {
    "duration": 6495,
    "start_time": "2022-09-13T13:30:30.855Z"
   },
   {
    "duration": 10300,
    "start_time": "2022-09-13T13:30:51.194Z"
   },
   {
    "duration": 364,
    "start_time": "2022-09-13T13:31:04.456Z"
   },
   {
    "duration": 34,
    "start_time": "2022-09-13T13:31:26.980Z"
   },
   {
    "duration": 34,
    "start_time": "2022-09-13T13:31:57.054Z"
   },
   {
    "duration": 8,
    "start_time": "2022-09-13T13:32:22.716Z"
   },
   {
    "duration": 31,
    "start_time": "2022-09-13T13:32:47.521Z"
   },
   {
    "duration": 47,
    "start_time": "2022-09-13T13:33:11.993Z"
   },
   {
    "duration": 161,
    "start_time": "2022-09-13T13:33:21.678Z"
   },
   {
    "duration": 28,
    "start_time": "2022-09-13T13:33:54.912Z"
   },
   {
    "duration": 31,
    "start_time": "2022-09-13T13:34:01.658Z"
   },
   {
    "duration": 4,
    "start_time": "2022-09-13T13:34:10.244Z"
   },
   {
    "duration": 12,
    "start_time": "2022-09-13T13:34:18.087Z"
   },
   {
    "duration": 1292,
    "start_time": "2022-09-13T13:35:23.376Z"
   },
   {
    "duration": 78,
    "start_time": "2022-09-13T13:35:24.670Z"
   },
   {
    "duration": 4,
    "start_time": "2022-09-13T13:35:24.750Z"
   },
   {
    "duration": 18,
    "start_time": "2022-09-13T13:35:24.755Z"
   },
   {
    "duration": 26,
    "start_time": "2022-09-13T13:35:24.775Z"
   },
   {
    "duration": 27,
    "start_time": "2022-09-13T13:35:24.802Z"
   },
   {
    "duration": 22,
    "start_time": "2022-09-13T13:35:24.831Z"
   },
   {
    "duration": 22,
    "start_time": "2022-09-13T13:35:24.854Z"
   },
   {
    "duration": 18,
    "start_time": "2022-09-13T13:35:24.877Z"
   },
   {
    "duration": 153,
    "start_time": "2022-09-13T13:35:24.897Z"
   },
   {
    "duration": 119,
    "start_time": "2022-09-13T13:35:25.052Z"
   },
   {
    "duration": 945,
    "start_time": "2022-09-13T13:35:25.173Z"
   },
   {
    "duration": 184,
    "start_time": "2022-09-13T13:35:26.120Z"
   },
   {
    "duration": 16,
    "start_time": "2022-09-13T13:35:26.307Z"
   },
   {
    "duration": 14,
    "start_time": "2022-09-13T13:35:26.337Z"
   },
   {
    "duration": 31,
    "start_time": "2022-09-13T13:35:26.353Z"
   },
   {
    "duration": 51,
    "start_time": "2022-09-13T13:35:26.386Z"
   },
   {
    "duration": 305,
    "start_time": "2022-09-13T13:35:26.439Z"
   },
   {
    "duration": 6761,
    "start_time": "2022-09-13T13:35:26.746Z"
   },
   {
    "duration": 5111,
    "start_time": "2022-09-13T13:35:33.509Z"
   },
   {
    "duration": 326,
    "start_time": "2022-09-13T13:35:38.622Z"
   },
   {
    "duration": 13,
    "start_time": "2022-09-13T13:35:39.039Z"
   },
   {
    "duration": 50,
    "start_time": "2022-09-13T13:35:39.053Z"
   },
   {
    "duration": 43,
    "start_time": "2022-09-13T13:35:39.105Z"
   },
   {
    "duration": 367,
    "start_time": "2022-09-13T13:35:39.150Z"
   },
   {
    "duration": 4,
    "start_time": "2022-09-13T13:35:39.519Z"
   },
   {
    "duration": 47,
    "start_time": "2022-09-13T13:35:39.524Z"
   },
   {
    "duration": 41,
    "start_time": "2022-09-13T13:35:39.573Z"
   },
   {
    "duration": 2780,
    "start_time": "2022-09-13T13:35:39.616Z"
   },
   {
    "duration": 6663,
    "start_time": "2022-09-13T13:35:42.398Z"
   },
   {
    "duration": 10857,
    "start_time": "2022-09-13T13:35:49.063Z"
   },
   {
    "duration": 459,
    "start_time": "2022-09-13T13:35:59.922Z"
   },
   {
    "duration": 156,
    "start_time": "2022-09-13T13:36:00.383Z"
   },
   {
    "duration": 195,
    "start_time": "2022-09-13T13:36:00.543Z"
   },
   {
    "duration": 98,
    "start_time": "2022-09-13T13:36:00.741Z"
   },
   {
    "duration": 33,
    "start_time": "2022-09-13T13:36:00.843Z"
   },
   {
    "duration": 159,
    "start_time": "2022-09-13T13:36:00.878Z"
   },
   {
    "duration": 200,
    "start_time": "2022-09-13T13:36:01.039Z"
   },
   {
    "duration": 31,
    "start_time": "2022-09-13T13:36:01.242Z"
   },
   {
    "duration": 61,
    "start_time": "2022-09-13T13:36:01.276Z"
   },
   {
    "duration": 11,
    "start_time": "2022-09-13T13:36:01.342Z"
   },
   {
    "duration": 47,
    "start_time": "2022-09-15T12:19:56.536Z"
   },
   {
    "duration": 1578,
    "start_time": "2022-09-15T12:19:59.073Z"
   },
   {
    "duration": 4,
    "start_time": "2022-09-15T12:20:05.639Z"
   },
   {
    "duration": 452,
    "start_time": "2022-09-15T12:20:08.280Z"
   },
   {
    "duration": 5,
    "start_time": "2022-09-15T12:20:22.439Z"
   },
   {
    "duration": 4,
    "start_time": "2022-09-15T12:20:27.710Z"
   },
   {
    "duration": 10,
    "start_time": "2022-09-15T12:20:30.165Z"
   },
   {
    "duration": 8,
    "start_time": "2022-09-15T12:20:39.346Z"
   },
   {
    "duration": 4,
    "start_time": "2022-09-15T12:20:56.292Z"
   },
   {
    "duration": 102,
    "start_time": "2022-09-15T12:20:57.973Z"
   },
   {
    "duration": 11,
    "start_time": "2022-09-15T12:21:02.075Z"
   },
   {
    "duration": 5,
    "start_time": "2022-09-15T12:21:04.492Z"
   },
   {
    "duration": 12,
    "start_time": "2022-09-15T12:21:05.588Z"
   },
   {
    "duration": 18,
    "start_time": "2022-09-15T12:21:40.075Z"
   },
   {
    "duration": 8,
    "start_time": "2022-09-15T12:21:52.208Z"
   },
   {
    "duration": 122,
    "start_time": "2022-09-15T12:22:35.197Z"
   },
   {
    "duration": 99,
    "start_time": "2022-09-15T12:22:56.104Z"
   },
   {
    "duration": 985,
    "start_time": "2022-09-15T12:23:07.469Z"
   },
   {
    "duration": 172,
    "start_time": "2022-09-15T12:23:17.050Z"
   },
   {
    "duration": 18,
    "start_time": "2022-09-15T12:24:20.910Z"
   },
   {
    "duration": 5,
    "start_time": "2022-09-15T12:24:30.292Z"
   },
   {
    "duration": 10,
    "start_time": "2022-09-15T12:24:43.399Z"
   },
   {
    "duration": 30,
    "start_time": "2022-09-15T12:25:24.635Z"
   },
   {
    "duration": 27,
    "start_time": "2022-09-15T12:30:33.379Z"
   },
   {
    "duration": 29,
    "start_time": "2022-09-15T12:30:40.369Z"
   },
   {
    "duration": 9,
    "start_time": "2022-09-15T12:30:45.843Z"
   },
   {
    "duration": 271,
    "start_time": "2022-09-15T12:30:56.074Z"
   },
   {
    "duration": 28,
    "start_time": "2022-09-15T12:31:13.827Z"
   },
   {
    "duration": 308,
    "start_time": "2022-09-15T12:31:17.893Z"
   },
   {
    "duration": 9,
    "start_time": "2022-09-15T12:31:45.422Z"
   },
   {
    "duration": 278,
    "start_time": "2022-09-15T12:31:47.248Z"
   },
   {
    "duration": 112,
    "start_time": "2022-09-15T12:33:30.493Z"
   },
   {
    "duration": 278,
    "start_time": "2022-09-15T12:33:41.309Z"
   },
   {
    "duration": 6419,
    "start_time": "2022-09-15T12:36:41.720Z"
   },
   {
    "duration": 4857,
    "start_time": "2022-09-15T12:37:53.839Z"
   },
   {
    "duration": 4745,
    "start_time": "2022-09-15T12:38:04.875Z"
   },
   {
    "duration": 697,
    "start_time": "2022-09-15T12:40:36.198Z"
   },
   {
    "duration": 10,
    "start_time": "2022-09-15T12:45:51.324Z"
   },
   {
    "duration": 38,
    "start_time": "2022-09-15T12:45:52.958Z"
   },
   {
    "duration": 14,
    "start_time": "2022-09-15T12:45:55.219Z"
   },
   {
    "duration": 188,
    "start_time": "2022-09-15T12:47:47.949Z"
   },
   {
    "duration": 179,
    "start_time": "2022-09-15T12:48:44.015Z"
   },
   {
    "duration": 209,
    "start_time": "2022-09-15T12:49:24.215Z"
   },
   {
    "duration": 4,
    "start_time": "2022-09-15T12:50:32.292Z"
   },
   {
    "duration": 12,
    "start_time": "2022-09-15T12:50:39.918Z"
   },
   {
    "duration": 7,
    "start_time": "2022-09-15T12:51:18.080Z"
   },
   {
    "duration": 10,
    "start_time": "2022-09-15T12:51:18.736Z"
   },
   {
    "duration": 7,
    "start_time": "2022-09-15T12:51:22.750Z"
   },
   {
    "duration": 67,
    "start_time": "2022-09-15T12:52:18.103Z"
   },
   {
    "duration": 435,
    "start_time": "2022-09-15T12:53:13.737Z"
   },
   {
    "duration": 552,
    "start_time": "2022-09-15T12:53:35.159Z"
   },
   {
    "duration": 95,
    "start_time": "2022-09-15T12:54:37.839Z"
   },
   {
    "duration": 9261,
    "start_time": "2022-09-15T12:54:59.327Z"
   },
   {
    "duration": 8934,
    "start_time": "2022-09-15T12:56:27.079Z"
   },
   {
    "duration": 10229,
    "start_time": "2022-09-15T12:56:42.129Z"
   },
   {
    "duration": 13049,
    "start_time": "2022-09-15T12:57:15.809Z"
   },
   {
    "duration": 13993,
    "start_time": "2022-09-15T12:58:25.603Z"
   },
   {
    "duration": 424,
    "start_time": "2022-09-15T12:59:53.114Z"
   },
   {
    "duration": 42,
    "start_time": "2022-09-15T13:00:13.189Z"
   },
   {
    "duration": 10,
    "start_time": "2022-09-15T13:02:39.700Z"
   },
   {
    "duration": 35,
    "start_time": "2022-09-15T13:03:06.409Z"
   },
   {
    "duration": 75,
    "start_time": "2022-09-15T13:03:37.615Z"
   },
   {
    "duration": 27,
    "start_time": "2022-09-15T13:03:58.078Z"
   },
   {
    "duration": 187,
    "start_time": "2022-09-15T13:06:14.310Z"
   },
   {
    "duration": 30,
    "start_time": "2022-09-15T13:07:44.523Z"
   },
   {
    "duration": 44,
    "start_time": "2022-09-15T13:07:50.871Z"
   },
   {
    "duration": 11,
    "start_time": "2022-09-15T13:11:44.693Z"
   },
   {
    "duration": 1247,
    "start_time": "2022-09-15T13:14:45.941Z"
   },
   {
    "duration": 93,
    "start_time": "2022-09-15T13:14:47.190Z"
   },
   {
    "duration": 4,
    "start_time": "2022-09-15T13:14:47.285Z"
   },
   {
    "duration": 15,
    "start_time": "2022-09-15T13:14:47.291Z"
   },
   {
    "duration": 15,
    "start_time": "2022-09-15T13:14:47.307Z"
   },
   {
    "duration": 13,
    "start_time": "2022-09-15T13:14:47.324Z"
   },
   {
    "duration": 13,
    "start_time": "2022-09-15T13:14:47.338Z"
   },
   {
    "duration": 126,
    "start_time": "2022-09-15T13:14:47.353Z"
   },
   {
    "duration": 111,
    "start_time": "2022-09-15T13:14:47.481Z"
   },
   {
    "duration": 945,
    "start_time": "2022-09-15T13:14:47.596Z"
   },
   {
    "duration": 164,
    "start_time": "2022-09-15T13:14:48.543Z"
   },
   {
    "duration": 16,
    "start_time": "2022-09-15T13:14:48.709Z"
   },
   {
    "duration": 4,
    "start_time": "2022-09-15T13:14:48.727Z"
   },
   {
    "duration": 8,
    "start_time": "2022-09-15T13:14:48.732Z"
   },
   {
    "duration": 413,
    "start_time": "2022-09-15T13:14:48.742Z"
   },
   {
    "duration": 6132,
    "start_time": "2022-09-15T13:14:49.157Z"
   },
   {
    "duration": 4514,
    "start_time": "2022-09-15T13:14:55.291Z"
   },
   {
    "duration": 371,
    "start_time": "2022-09-15T13:14:59.807Z"
   },
   {
    "duration": 98,
    "start_time": "2022-09-15T13:15:00.180Z"
   },
   {
    "duration": 33,
    "start_time": "2022-09-15T13:15:00.280Z"
   },
   {
    "duration": 62,
    "start_time": "2022-09-15T13:15:00.315Z"
   },
   {
    "duration": 281,
    "start_time": "2022-09-15T13:15:00.379Z"
   },
   {
    "duration": 4,
    "start_time": "2022-09-15T13:15:00.662Z"
   },
   {
    "duration": 11,
    "start_time": "2022-09-15T13:15:00.677Z"
   },
   {
    "duration": 4,
    "start_time": "2022-09-15T13:15:00.690Z"
   },
   {
    "duration": 559,
    "start_time": "2022-09-15T13:15:00.696Z"
   },
   {
    "duration": 8525,
    "start_time": "2022-09-15T13:15:01.257Z"
   },
   {
    "duration": 13220,
    "start_time": "2022-09-15T13:15:09.785Z"
   },
   {
    "duration": 402,
    "start_time": "2022-09-15T13:15:23.006Z"
   },
   {
    "duration": 75,
    "start_time": "2022-09-15T13:15:23.410Z"
   },
   {
    "duration": 9,
    "start_time": "2022-09-15T13:15:23.577Z"
   },
   {
    "duration": 33,
    "start_time": "2022-09-15T13:15:23.588Z"
   },
   {
    "duration": 58,
    "start_time": "2022-09-15T13:15:23.624Z"
   },
   {
    "duration": 99,
    "start_time": "2022-09-15T13:15:23.684Z"
   },
   {
    "duration": 308,
    "start_time": "2022-09-15T13:15:23.785Z"
   },
   {
    "duration": 34,
    "start_time": "2022-09-15T13:15:24.095Z"
   },
   {
    "duration": 50,
    "start_time": "2022-09-15T13:15:24.131Z"
   },
   {
    "duration": 9,
    "start_time": "2022-09-15T13:15:24.183Z"
   },
   {
    "duration": 170,
    "start_time": "2022-09-15T13:16:58.603Z"
   },
   {
    "duration": 173,
    "start_time": "2022-09-15T13:17:44.323Z"
   },
   {
    "duration": 177,
    "start_time": "2022-09-15T13:18:20.961Z"
   },
   {
    "duration": 173,
    "start_time": "2022-09-15T13:18:56.727Z"
   },
   {
    "duration": 1529,
    "start_time": "2022-09-16T12:01:26.189Z"
   },
   {
    "duration": 91,
    "start_time": "2022-09-16T12:01:27.720Z"
   },
   {
    "duration": 5,
    "start_time": "2022-09-16T12:01:27.814Z"
   },
   {
    "duration": 15,
    "start_time": "2022-09-16T12:01:27.822Z"
   },
   {
    "duration": 20,
    "start_time": "2022-09-16T12:01:27.840Z"
   },
   {
    "duration": 10,
    "start_time": "2022-09-16T12:01:27.862Z"
   },
   {
    "duration": 14,
    "start_time": "2022-09-16T12:01:27.874Z"
   },
   {
    "duration": 168,
    "start_time": "2022-09-16T12:01:27.890Z"
   },
   {
    "duration": 109,
    "start_time": "2022-09-16T12:01:28.060Z"
   },
   {
    "duration": 878,
    "start_time": "2022-09-16T12:01:28.172Z"
   },
   {
    "duration": 103,
    "start_time": "2022-09-16T12:01:29.051Z"
   },
   {
    "duration": 16,
    "start_time": "2022-09-16T12:01:29.156Z"
   },
   {
    "duration": 4,
    "start_time": "2022-09-16T12:01:29.173Z"
   },
   {
    "duration": 8,
    "start_time": "2022-09-16T12:01:29.179Z"
   },
   {
    "duration": 505,
    "start_time": "2022-09-16T12:01:29.188Z"
   },
   {
    "duration": 7530,
    "start_time": "2022-09-16T12:01:29.695Z"
   },
   {
    "duration": 5430,
    "start_time": "2022-09-16T12:01:37.227Z"
   },
   {
    "duration": 254,
    "start_time": "2022-09-16T12:01:42.658Z"
   },
   {
    "duration": 95,
    "start_time": "2022-09-16T12:01:42.914Z"
   },
   {
    "duration": 111,
    "start_time": "2022-09-16T12:01:43.012Z"
   },
   {
    "duration": 11,
    "start_time": "2022-09-16T12:01:43.125Z"
   },
   {
    "duration": 352,
    "start_time": "2022-09-16T12:01:43.138Z"
   },
   {
    "duration": 3,
    "start_time": "2022-09-16T12:01:43.492Z"
   },
   {
    "duration": 19,
    "start_time": "2022-09-16T12:01:43.497Z"
   },
   {
    "duration": 3,
    "start_time": "2022-09-16T12:01:43.517Z"
   },
   {
    "duration": 646,
    "start_time": "2022-09-16T12:01:43.522Z"
   },
   {
    "duration": 10119,
    "start_time": "2022-09-16T12:01:44.170Z"
   },
   {
    "duration": 15212,
    "start_time": "2022-09-16T12:01:54.293Z"
   },
   {
    "duration": 486,
    "start_time": "2022-09-16T12:02:09.508Z"
   },
   {
    "duration": 49,
    "start_time": "2022-09-16T12:02:09.996Z"
   },
   {
    "duration": 97,
    "start_time": "2022-09-16T12:02:10.117Z"
   },
   {
    "duration": 47,
    "start_time": "2022-09-16T12:02:10.215Z"
   },
   {
    "duration": 47,
    "start_time": "2022-09-16T12:02:10.264Z"
   },
   {
    "duration": 95,
    "start_time": "2022-09-16T12:02:10.323Z"
   },
   {
    "duration": 283,
    "start_time": "2022-09-16T12:02:10.510Z"
   },
   {
    "duration": 38,
    "start_time": "2022-09-16T12:02:10.794Z"
   },
   {
    "duration": 29,
    "start_time": "2022-09-16T12:02:10.834Z"
   },
   {
    "duration": 9,
    "start_time": "2022-09-16T12:02:10.865Z"
   },
   {
    "duration": 193116,
    "start_time": "2022-09-16T12:11:34.809Z"
   },
   {
    "duration": 2936,
    "start_time": "2022-09-16T12:17:36.590Z"
   },
   {
    "duration": 205877,
    "start_time": "2022-09-16T12:20:58.928Z"
   },
   {
    "duration": 221140,
    "start_time": "2022-09-16T12:24:30.408Z"
   },
   {
    "duration": 9,
    "start_time": "2022-09-16T12:32:01.442Z"
   },
   {
    "duration": 13,
    "start_time": "2022-09-16T12:32:32.891Z"
   },
   {
    "duration": 15,
    "start_time": "2022-09-16T12:38:44.543Z"
   },
   {
    "duration": 504,
    "start_time": "2022-09-16T12:38:53.083Z"
   },
   {
    "duration": 325,
    "start_time": "2022-09-16T12:43:16.348Z"
   },
   {
    "duration": 153,
    "start_time": "2022-09-16T12:46:32.258Z"
   },
   {
    "duration": 83,
    "start_time": "2022-09-16T12:46:46.935Z"
   },
   {
    "duration": 42,
    "start_time": "2022-09-16T12:48:39.857Z"
   },
   {
    "duration": 72,
    "start_time": "2022-09-16T12:49:10.475Z"
   },
   {
    "duration": 96,
    "start_time": "2022-09-16T12:50:33.018Z"
   },
   {
    "duration": 74,
    "start_time": "2022-09-16T12:51:46.192Z"
   },
   {
    "duration": 10,
    "start_time": "2022-09-16T12:55:32.199Z"
   },
   {
    "duration": 9,
    "start_time": "2022-09-16T12:55:41.578Z"
   },
   {
    "duration": 9,
    "start_time": "2022-09-16T12:58:04.957Z"
   },
   {
    "duration": 38,
    "start_time": "2022-09-16T13:05:28.587Z"
   },
   {
    "duration": 1001,
    "start_time": "2022-09-16T13:06:32.228Z"
   },
   {
    "duration": 1012,
    "start_time": "2022-09-16T13:07:38.462Z"
   },
   {
    "duration": 183,
    "start_time": "2022-09-16T13:07:41.387Z"
   },
   {
    "duration": 485,
    "start_time": "2022-09-16T13:09:06.350Z"
   },
   {
    "duration": 587,
    "start_time": "2022-09-16T13:09:19.046Z"
   },
   {
    "duration": 12,
    "start_time": "2022-09-16T13:09:51.129Z"
   },
   {
    "duration": 40,
    "start_time": "2022-09-16T13:11:28.340Z"
   },
   {
    "duration": 38,
    "start_time": "2022-09-16T13:14:45.280Z"
   },
   {
    "duration": 37,
    "start_time": "2022-09-16T13:15:18.466Z"
   },
   {
    "duration": 84,
    "start_time": "2022-09-16T13:15:55.132Z"
   },
   {
    "duration": 37,
    "start_time": "2022-09-16T13:15:57.615Z"
   },
   {
    "duration": 6848,
    "start_time": "2022-09-16T13:16:28.164Z"
   },
   {
    "duration": 49,
    "start_time": "2022-09-16T13:17:53.612Z"
   },
   {
    "duration": 9853,
    "start_time": "2022-09-16T13:18:51.973Z"
   },
   {
    "duration": 10129,
    "start_time": "2022-09-16T13:20:03.022Z"
   },
   {
    "duration": 91,
    "start_time": "2022-09-16T13:22:00.292Z"
   },
   {
    "duration": 45,
    "start_time": "2022-09-16T13:22:17.928Z"
   },
   {
    "duration": 96,
    "start_time": "2022-09-16T13:22:25.716Z"
   },
   {
    "duration": 55,
    "start_time": "2022-09-16T13:23:05.437Z"
   },
   {
    "duration": 600,
    "start_time": "2022-09-16T13:23:26.236Z"
   },
   {
    "duration": 4,
    "start_time": "2022-09-16T13:27:56.369Z"
   },
   {
    "duration": 10,
    "start_time": "2022-09-16T13:28:58.764Z"
   },
   {
    "duration": 11,
    "start_time": "2022-09-16T13:29:22.060Z"
   },
   {
    "duration": 253,
    "start_time": "2022-09-16T13:30:24.197Z"
   },
   {
    "duration": 3762,
    "start_time": "2022-09-16T13:32:36.480Z"
   },
   {
    "duration": 21,
    "start_time": "2022-09-16T13:33:38.931Z"
   },
   {
    "duration": 5381,
    "start_time": "2022-09-16T13:35:19.003Z"
   },
   {
    "duration": 482,
    "start_time": "2022-09-16T13:39:58.328Z"
   },
   {
    "duration": 53,
    "start_time": "2022-09-16T13:41:16.614Z"
   },
   {
    "duration": 586,
    "start_time": "2022-09-16T13:42:05.131Z"
   },
   {
    "duration": 4,
    "start_time": "2022-09-16T13:43:10.702Z"
   },
   {
    "duration": 3,
    "start_time": "2022-09-16T13:43:31.731Z"
   },
   {
    "duration": 12,
    "start_time": "2022-09-16T13:43:50.546Z"
   },
   {
    "duration": 10,
    "start_time": "2022-09-16T13:44:49.958Z"
   },
   {
    "duration": 584,
    "start_time": "2022-09-16T13:45:05.327Z"
   },
   {
    "duration": 573,
    "start_time": "2022-09-16T13:45:33.624Z"
   },
   {
    "duration": 9722,
    "start_time": "2022-09-16T13:49:07.778Z"
   },
   {
    "duration": 5307,
    "start_time": "2022-09-16T13:52:06.753Z"
   },
   {
    "duration": 13390,
    "start_time": "2022-09-16T13:52:57.871Z"
   },
   {
    "duration": 15231,
    "start_time": "2022-09-16T13:53:11.535Z"
   },
   {
    "duration": 49,
    "start_time": "2022-09-16T13:54:19.691Z"
   },
   {
    "duration": 79,
    "start_time": "2022-09-16T13:57:02.677Z"
   },
   {
    "duration": 3998,
    "start_time": "2022-09-16T13:59:29.027Z"
   },
   {
    "duration": 24,
    "start_time": "2022-09-16T14:01:24.590Z"
   },
   {
    "duration": 23,
    "start_time": "2022-09-16T14:05:37.062Z"
   },
   {
    "duration": 9,
    "start_time": "2022-09-16T14:06:03.042Z"
   },
   {
    "duration": 9,
    "start_time": "2022-09-16T14:10:59.641Z"
   },
   {
    "duration": 73,
    "start_time": "2022-09-16T14:13:47.575Z"
   },
   {
    "duration": 1418,
    "start_time": "2022-09-17T02:04:20.501Z"
   },
   {
    "duration": 140,
    "start_time": "2022-09-17T02:04:21.921Z"
   },
   {
    "duration": 3,
    "start_time": "2022-09-17T02:04:22.063Z"
   },
   {
    "duration": 6,
    "start_time": "2022-09-17T02:04:22.068Z"
   },
   {
    "duration": 13,
    "start_time": "2022-09-17T02:04:22.075Z"
   },
   {
    "duration": 7,
    "start_time": "2022-09-17T02:04:22.089Z"
   },
   {
    "duration": 26,
    "start_time": "2022-09-17T02:04:22.097Z"
   },
   {
    "duration": 122,
    "start_time": "2022-09-17T02:04:22.124Z"
   },
   {
    "duration": 102,
    "start_time": "2022-09-17T02:04:22.248Z"
   },
   {
    "duration": 848,
    "start_time": "2022-09-17T02:04:22.353Z"
   },
   {
    "duration": 167,
    "start_time": "2022-09-17T02:04:23.203Z"
   },
   {
    "duration": 16,
    "start_time": "2022-09-17T02:04:23.372Z"
   },
   {
    "duration": 5,
    "start_time": "2022-09-17T02:04:23.390Z"
   },
   {
    "duration": 29,
    "start_time": "2022-09-17T02:04:23.397Z"
   },
   {
    "duration": 412,
    "start_time": "2022-09-17T02:04:23.428Z"
   },
   {
    "duration": 6192,
    "start_time": "2022-09-17T02:04:23.842Z"
   },
   {
    "duration": 4510,
    "start_time": "2022-09-17T02:04:30.036Z"
   },
   {
    "duration": 90439,
    "start_time": "2022-09-17T02:04:34.548Z"
   },
   {
    "duration": 534,
    "start_time": "2022-09-17T02:06:04.989Z"
   },
   {
    "duration": 97,
    "start_time": "2022-09-17T02:06:05.525Z"
   },
   {
    "duration": 36,
    "start_time": "2022-09-17T02:06:05.624Z"
   },
   {
    "duration": 63,
    "start_time": "2022-09-17T02:06:05.662Z"
   },
   {
    "duration": 270,
    "start_time": "2022-09-17T02:06:05.728Z"
   },
   {
    "duration": 3,
    "start_time": "2022-09-17T02:06:05.999Z"
   },
   {
    "duration": 23,
    "start_time": "2022-09-17T02:06:06.004Z"
   },
   {
    "duration": 4,
    "start_time": "2022-09-17T02:06:06.029Z"
   },
   {
    "duration": 15,
    "start_time": "2022-09-17T02:06:06.034Z"
   },
   {
    "duration": 430,
    "start_time": "2022-09-17T02:06:06.053Z"
   },
   {
    "duration": 512,
    "start_time": "2022-09-17T02:06:06.485Z"
   },
   {
    "duration": 6158,
    "start_time": "2022-09-17T02:06:06.998Z"
   },
   {
    "duration": 8682,
    "start_time": "2022-09-17T02:06:13.158Z"
   },
   {
    "duration": 83,
    "start_time": "2022-09-17T02:06:21.842Z"
   },
   {
    "duration": 8399,
    "start_time": "2022-09-17T02:06:21.927Z"
   },
   {
    "duration": 13061,
    "start_time": "2022-09-17T02:06:30.327Z"
   },
   {
    "duration": 44,
    "start_time": "2022-09-17T02:06:43.389Z"
   },
   {
    "duration": 213,
    "start_time": "2022-09-17T02:06:43.434Z"
   },
   {
    "duration": 77,
    "start_time": "2022-09-17T02:06:43.649Z"
   },
   {
    "duration": 141,
    "start_time": "2022-09-17T02:06:43.729Z"
   },
   {
    "duration": 51,
    "start_time": "2022-09-17T02:06:43.872Z"
   },
   {
    "duration": 98,
    "start_time": "2022-09-17T02:06:43.924Z"
   },
   {
    "duration": 267,
    "start_time": "2022-09-17T02:06:44.025Z"
   },
   {
    "duration": 29,
    "start_time": "2022-09-17T02:06:44.294Z"
   },
   {
    "duration": 288,
    "start_time": "2022-09-17T02:06:44.325Z"
   },
   {
    "duration": 3486,
    "start_time": "2022-09-17T02:06:44.622Z"
   },
   {
    "duration": 3773,
    "start_time": "2022-09-17T02:06:48.109Z"
   },
   {
    "duration": 43,
    "start_time": "2022-09-17T02:06:51.884Z"
   },
   {
    "duration": 107,
    "start_time": "2022-09-17T02:06:51.930Z"
   },
   {
    "duration": 22,
    "start_time": "2022-09-17T02:06:52.038Z"
   },
   {
    "duration": 9,
    "start_time": "2022-09-17T02:06:52.061Z"
   },
   {
    "duration": 90420,
    "start_time": "2022-09-17T02:08:11.008Z"
   },
   {
    "duration": 36,
    "start_time": "2022-09-17T02:13:30.312Z"
   },
   {
    "duration": 35,
    "start_time": "2022-09-17T02:13:54.793Z"
   },
   {
    "duration": 31,
    "start_time": "2022-09-17T02:14:00.901Z"
   },
   {
    "duration": 32,
    "start_time": "2022-09-17T02:14:20.768Z"
   },
   {
    "duration": 90225,
    "start_time": "2022-09-17T02:14:34.313Z"
   },
   {
    "duration": 89938,
    "start_time": "2022-09-17T02:16:17.930Z"
   },
   {
    "duration": 90184,
    "start_time": "2022-09-17T02:21:03.576Z"
   }
  ],
  "kernelspec": {
   "display_name": "Python 3 (ipykernel)",
   "language": "python",
   "name": "python3"
  },
  "language_info": {
   "codemirror_mode": {
    "name": "ipython",
    "version": 3
   },
   "file_extension": ".py",
   "mimetype": "text/x-python",
   "name": "python",
   "nbconvert_exporter": "python",
   "pygments_lexer": "ipython3",
   "version": "3.9.13"
  },
  "toc": {
   "base_numbering": 1,
   "nav_menu": {},
   "number_sections": true,
   "sideBar": true,
   "skip_h1_title": true,
   "title_cell": "Содержание",
   "title_sidebar": "Contents",
   "toc_cell": true,
   "toc_position": {
    "height": "calc(100% - 180px)",
    "left": "10px",
    "top": "150px",
    "width": "301px"
   },
   "toc_section_display": true,
   "toc_window_display": true
  }
 },
 "nbformat": 4,
 "nbformat_minor": 2
}

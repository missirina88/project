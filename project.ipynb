{
 "cells": [
  {
   "cell_type": "markdown",
   "metadata": {
    "toc": true
   },
   "source": [
    "<h1>Содержание<span class=\"tocSkip\"></span></h1>\n",
    "<div class=\"toc\"><ul class=\"toc-item\"><li><span><a href=\"#Подготовка-данных\" data-toc-modified-id=\"Подготовка-данных-1\"><span class=\"toc-item-num\">1&nbsp;&nbsp;</span>Подготовка данных</a></span><ul class=\"toc-item\"><li><span><a href=\"#Предварительный-итог:\" data-toc-modified-id=\"Предварительный-итог:-1.1\"><span class=\"toc-item-num\">1.1&nbsp;&nbsp;</span>Предварительный итог:</a></span></li></ul></li><li><span><a href=\"#Исследование-задачи\" data-toc-modified-id=\"Исследование-задачи-2\"><span class=\"toc-item-num\">2&nbsp;&nbsp;</span>Исследование задачи</a></span><ul class=\"toc-item\"><li><span><a href=\"#Применение-демми-признаков-(ohe)\" data-toc-modified-id=\"Применение-демми-признаков-(ohe)-2.1\"><span class=\"toc-item-num\">2.1&nbsp;&nbsp;</span>Применение демми-признаков (ohe)</a></span></li><li><span><a href=\"#Модель-c-дисбалансом\" data-toc-modified-id=\"Модель-c-дисбалансом-2.2\"><span class=\"toc-item-num\">2.2&nbsp;&nbsp;</span>Модель c дисбалансом</a></span><ul class=\"toc-item\"><li><span><a href=\"#Дерево-решения\" data-toc-modified-id=\"Дерево-решения-2.2.1\"><span class=\"toc-item-num\">2.2.1&nbsp;&nbsp;</span>Дерево решения</a></span></li><li><span><a href=\"#Случайный-лес\" data-toc-modified-id=\"Случайный-лес-2.2.2\"><span class=\"toc-item-num\">2.2.2&nbsp;&nbsp;</span>Случайный лес</a></span></li><li><span><a href=\"#Логистическая-регрессия\" data-toc-modified-id=\"Логистическая-регрессия-2.2.3\"><span class=\"toc-item-num\">2.2.3&nbsp;&nbsp;</span>Логистическая регрессия</a></span></li></ul></li><li><span><a href=\"#График-ROC\" data-toc-modified-id=\"График-ROC-2.3\"><span class=\"toc-item-num\">2.3&nbsp;&nbsp;</span>График ROC</a></span><ul class=\"toc-item\"><li><span><a href=\"#Дерево-решения\" data-toc-modified-id=\"Дерево-решения-2.3.1\"><span class=\"toc-item-num\">2.3.1&nbsp;&nbsp;</span>Дерево решения</a></span></li><li><span><a href=\"#Случайный-лес\" data-toc-modified-id=\"Случайный-лес-2.3.2\"><span class=\"toc-item-num\">2.3.2&nbsp;&nbsp;</span>Случайный лес</a></span></li><li><span><a href=\"#Логистическая-регрессия\" data-toc-modified-id=\"Логистическая-регрессия-2.3.3\"><span class=\"toc-item-num\">2.3.3&nbsp;&nbsp;</span>Логистическая регрессия</a></span></li></ul></li></ul></li><li><span><a href=\"#Борьба-с-дисбалансом\" data-toc-modified-id=\"Борьба-с-дисбалансом-3\"><span class=\"toc-item-num\">3&nbsp;&nbsp;</span>Борьба с дисбалансом</a></span><ul class=\"toc-item\"><li><span><a href=\"#Upsampling\" data-toc-modified-id=\"Upsampling-3.1\"><span class=\"toc-item-num\">3.1&nbsp;&nbsp;</span>Upsampling</a></span></li><li><span><a href=\"#Downsampling\" data-toc-modified-id=\"Downsampling-3.2\"><span class=\"toc-item-num\">3.2&nbsp;&nbsp;</span>Downsampling</a></span></li><li><span><a href=\"#Модель-после-работы-с-дисбалансом\" data-toc-modified-id=\"Модель-после-работы-с-дисбалансом-3.3\"><span class=\"toc-item-num\">3.3&nbsp;&nbsp;</span>Модель после работы с дисбалансом</a></span><ul class=\"toc-item\"><li><span><a href=\"#Дерево-решения\" data-toc-modified-id=\"Дерево-решения-3.3.1\"><span class=\"toc-item-num\">3.3.1&nbsp;&nbsp;</span>Дерево решения</a></span></li><li><span><a href=\"#Случайный-лес\" data-toc-modified-id=\"Случайный-лес-3.3.2\"><span class=\"toc-item-num\">3.3.2&nbsp;&nbsp;</span>Случайный лес</a></span></li><li><span><a href=\"#Логистическая-регрессия\" data-toc-modified-id=\"Логистическая-регрессия-3.3.3\"><span class=\"toc-item-num\">3.3.3&nbsp;&nbsp;</span>Логистическая регрессия</a></span></li></ul></li><li><span><a href=\"#график-AUC-ROC\" data-toc-modified-id=\"график-AUC-ROC-3.4\"><span class=\"toc-item-num\">3.4&nbsp;&nbsp;</span>график AUC-ROC</a></span><ul class=\"toc-item\"><li><span><a href=\"#Дерево-решения\" data-toc-modified-id=\"Дерево-решения-3.4.1\"><span class=\"toc-item-num\">3.4.1&nbsp;&nbsp;</span>Дерево решения</a></span></li><li><span><a href=\"#Случайный-лес\" data-toc-modified-id=\"Случайный-лес-3.4.2\"><span class=\"toc-item-num\">3.4.2&nbsp;&nbsp;</span>Случайный лес</a></span></li><li><span><a href=\"#Логистичекая-регрессия\" data-toc-modified-id=\"Логистичекая-регрессия-3.4.3\"><span class=\"toc-item-num\">3.4.3&nbsp;&nbsp;</span>Логистичекая регрессия</a></span></li></ul></li><li><span><a href=\"#обучение-моделей-с-уменьшенным-классом\" data-toc-modified-id=\"обучение-моделей-с-уменьшенным-классом-3.5\"><span class=\"toc-item-num\">3.5&nbsp;&nbsp;</span>обучение моделей с уменьшенным классом</a></span><ul class=\"toc-item\"><li><span><a href=\"#дерево-решения\" data-toc-modified-id=\"дерево-решения-3.5.1\"><span class=\"toc-item-num\">3.5.1&nbsp;&nbsp;</span>дерево решения</a></span></li><li><span><a href=\"#случайный-лес\" data-toc-modified-id=\"случайный-лес-3.5.2\"><span class=\"toc-item-num\">3.5.2&nbsp;&nbsp;</span>случайный лес</a></span></li><li><span><a href=\"#логистическая-регрессия\" data-toc-modified-id=\"логистическая-регрессия-3.5.3\"><span class=\"toc-item-num\">3.5.3&nbsp;&nbsp;</span>логистическая регрессия</a></span></li></ul></li></ul></li><li><span><a href=\"#Тестирование-модели\" data-toc-modified-id=\"Тестирование-модели-4\"><span class=\"toc-item-num\">4&nbsp;&nbsp;</span>Тестирование модели</a></span></li><li><span><a href=\"#Вывод\" data-toc-modified-id=\"Вывод-5\"><span class=\"toc-item-num\">5&nbsp;&nbsp;</span>Вывод</a></span></li></ul></div>"
   ]
  },
  {
   "cell_type": "markdown",
   "metadata": {},
   "source": [
    "# Отток клиентов"
   ]
  },
  {
   "cell_type": "markdown",
   "metadata": {},
   "source": [
    "Из «Бета-Банка» стали уходить клиенты. Каждый месяц. Немного, но заметно. Банковские маркетологи посчитали: сохранять текущих клиентов дешевле, чем привлекать новых.\n",
    "\n",
    "Нужно спрогнозировать, уйдёт клиент из банка в ближайшее время или нет. Вам предоставлены исторические данные о поведении клиентов и расторжении договоров с банком. \n",
    "\n",
    "Постройте модель с предельно большим значением *F1*-меры. Чтобы сдать проект успешно, нужно довести метрику до 0.59. Проверьте *F1*-меру на тестовой выборке самостоятельно.\n",
    "\n",
    "Дополнительно измеряйте *AUC-ROC*, сравнивайте её значение с *F1*-мерой.\n",
    "\n",
    "Источник данных: [https://www.kaggle.com/barelydedicated/bank-customer-churn-modeling](https://www.kaggle.com/barelydedicated/bank-customer-churn-modeling)"
   ]
  },
  {
   "cell_type": "markdown",
   "metadata": {},
   "source": [
    "**Описание данных**\n",
    "\n",
    "Данные находятся в файле /datasets/Churn.csv (англ. «отток клиентов»).\n",
    "\n",
    "**Признаки**\n",
    " - RowNumber — индекс строки в данных\n",
    " - CustomerId — уникальный идентификатор клиента\n",
    " - Surname — фамилия\n",
    " - CreditScore — кредитный рейтинг\n",
    " - Geography — страна проживания\n",
    " - Gender — пол\n",
    " - Age — возраст\n",
    " - Tenure — сколько лет человек является клиентом банка\n",
    " - Balance — баланс на счёте\n",
    " - NumOfProducts — количество продуктов банка, используемых клиентом\n",
    " - HasCrCard — наличие кредитной карты\n",
    " - IsActiveMember — активность клиента\n",
    " - EstimatedSalary — предполагаемая зарплата\n",
    " \n",
    "**Целевой признак**\n",
    " - Exited — факт ухода клиента"
   ]
  },
  {
   "cell_type": "markdown",
   "metadata": {},
   "source": [
    "**План работы над проектом**\n",
    " - Загрузить и подготовьте данные.\n",
    "     - Пояснить порядок действий.\n",
    " - Исследовать баланс классов, обучить модель без учёта дисбаланса.\n",
    "     - Кратко описать выводы.\n",
    " - Улучшить качество модели, учитывая дисбаланс классов.\n",
    "     - Обучить разные модели и найдти лучшую.\n",
    "     - Кратко описать выводы.\n",
    " - Провести финальное тестирование."
   ]
  },
  {
   "cell_type": "markdown",
   "metadata": {},
   "source": [
    "## Подготовка данных"
   ]
  },
  {
   "cell_type": "markdown",
   "metadata": {},
   "source": [
    "Импортируем библиотеки необходимы для нашей работы"
   ]
  },
  {
   "cell_type": "code",
   "execution_count": 1,
   "metadata": {},
   "outputs": [],
   "source": [
    "import pandas as pd\n",
    "import matplotlib.pyplot as plt\n",
    "import numpy as np\n",
    "from sklearn.tree import DecisionTreeClassifier\n",
    "from sklearn.ensemble import RandomForestClassifier\n",
    "from sklearn.linear_model import LogisticRegression\n",
    "from sklearn.model_selection import train_test_split\n",
    "from sklearn.preprocessing import OrdinalEncoder\n",
    "from sklearn.preprocessing import StandardScaler\n",
    "from sklearn.metrics import f1_score\n",
    "from sklearn.utils import shuffle\n",
    "from sklearn.metrics import roc_curve\n",
    "from sklearn.metrics import roc_auc_score\n",
    "from sklearn.metrics import accuracy_score\n",
    "from sklearn.metrics import confusion_matrix\n",
    "from sklearn.metrics import recall_score\n",
    "from sklearn.metrics import precision_score"
   ]
  },
  {
   "cell_type": "markdown",
   "metadata": {},
   "source": [
    "Выведем часть таблицы на экран и изучим информацию о ней"
   ]
  },
  {
   "cell_type": "code",
   "execution_count": 2,
   "metadata": {},
   "outputs": [
    {
     "data": {
      "text/html": [
       "<div>\n",
       "<style scoped>\n",
       "    .dataframe tbody tr th:only-of-type {\n",
       "        vertical-align: middle;\n",
       "    }\n",
       "\n",
       "    .dataframe tbody tr th {\n",
       "        vertical-align: top;\n",
       "    }\n",
       "\n",
       "    .dataframe thead th {\n",
       "        text-align: right;\n",
       "    }\n",
       "</style>\n",
       "<table border=\"1\" class=\"dataframe\">\n",
       "  <thead>\n",
       "    <tr style=\"text-align: right;\">\n",
       "      <th></th>\n",
       "      <th>RowNumber</th>\n",
       "      <th>CustomerId</th>\n",
       "      <th>Surname</th>\n",
       "      <th>CreditScore</th>\n",
       "      <th>Geography</th>\n",
       "      <th>Gender</th>\n",
       "      <th>Age</th>\n",
       "      <th>Tenure</th>\n",
       "      <th>Balance</th>\n",
       "      <th>NumOfProducts</th>\n",
       "      <th>HasCrCard</th>\n",
       "      <th>IsActiveMember</th>\n",
       "      <th>EstimatedSalary</th>\n",
       "      <th>Exited</th>\n",
       "    </tr>\n",
       "  </thead>\n",
       "  <tbody>\n",
       "    <tr>\n",
       "      <th>0</th>\n",
       "      <td>1</td>\n",
       "      <td>15634602</td>\n",
       "      <td>Hargrave</td>\n",
       "      <td>619</td>\n",
       "      <td>France</td>\n",
       "      <td>Female</td>\n",
       "      <td>42</td>\n",
       "      <td>2.0</td>\n",
       "      <td>0.00</td>\n",
       "      <td>1</td>\n",
       "      <td>1</td>\n",
       "      <td>1</td>\n",
       "      <td>101348.88</td>\n",
       "      <td>1</td>\n",
       "    </tr>\n",
       "    <tr>\n",
       "      <th>1</th>\n",
       "      <td>2</td>\n",
       "      <td>15647311</td>\n",
       "      <td>Hill</td>\n",
       "      <td>608</td>\n",
       "      <td>Spain</td>\n",
       "      <td>Female</td>\n",
       "      <td>41</td>\n",
       "      <td>1.0</td>\n",
       "      <td>83807.86</td>\n",
       "      <td>1</td>\n",
       "      <td>0</td>\n",
       "      <td>1</td>\n",
       "      <td>112542.58</td>\n",
       "      <td>0</td>\n",
       "    </tr>\n",
       "    <tr>\n",
       "      <th>2</th>\n",
       "      <td>3</td>\n",
       "      <td>15619304</td>\n",
       "      <td>Onio</td>\n",
       "      <td>502</td>\n",
       "      <td>France</td>\n",
       "      <td>Female</td>\n",
       "      <td>42</td>\n",
       "      <td>8.0</td>\n",
       "      <td>159660.80</td>\n",
       "      <td>3</td>\n",
       "      <td>1</td>\n",
       "      <td>0</td>\n",
       "      <td>113931.57</td>\n",
       "      <td>1</td>\n",
       "    </tr>\n",
       "    <tr>\n",
       "      <th>3</th>\n",
       "      <td>4</td>\n",
       "      <td>15701354</td>\n",
       "      <td>Boni</td>\n",
       "      <td>699</td>\n",
       "      <td>France</td>\n",
       "      <td>Female</td>\n",
       "      <td>39</td>\n",
       "      <td>1.0</td>\n",
       "      <td>0.00</td>\n",
       "      <td>2</td>\n",
       "      <td>0</td>\n",
       "      <td>0</td>\n",
       "      <td>93826.63</td>\n",
       "      <td>0</td>\n",
       "    </tr>\n",
       "    <tr>\n",
       "      <th>4</th>\n",
       "      <td>5</td>\n",
       "      <td>15737888</td>\n",
       "      <td>Mitchell</td>\n",
       "      <td>850</td>\n",
       "      <td>Spain</td>\n",
       "      <td>Female</td>\n",
       "      <td>43</td>\n",
       "      <td>2.0</td>\n",
       "      <td>125510.82</td>\n",
       "      <td>1</td>\n",
       "      <td>1</td>\n",
       "      <td>1</td>\n",
       "      <td>79084.10</td>\n",
       "      <td>0</td>\n",
       "    </tr>\n",
       "    <tr>\n",
       "      <th>5</th>\n",
       "      <td>6</td>\n",
       "      <td>15574012</td>\n",
       "      <td>Chu</td>\n",
       "      <td>645</td>\n",
       "      <td>Spain</td>\n",
       "      <td>Male</td>\n",
       "      <td>44</td>\n",
       "      <td>8.0</td>\n",
       "      <td>113755.78</td>\n",
       "      <td>2</td>\n",
       "      <td>1</td>\n",
       "      <td>0</td>\n",
       "      <td>149756.71</td>\n",
       "      <td>1</td>\n",
       "    </tr>\n",
       "    <tr>\n",
       "      <th>6</th>\n",
       "      <td>7</td>\n",
       "      <td>15592531</td>\n",
       "      <td>Bartlett</td>\n",
       "      <td>822</td>\n",
       "      <td>France</td>\n",
       "      <td>Male</td>\n",
       "      <td>50</td>\n",
       "      <td>7.0</td>\n",
       "      <td>0.00</td>\n",
       "      <td>2</td>\n",
       "      <td>1</td>\n",
       "      <td>1</td>\n",
       "      <td>10062.80</td>\n",
       "      <td>0</td>\n",
       "    </tr>\n",
       "    <tr>\n",
       "      <th>7</th>\n",
       "      <td>8</td>\n",
       "      <td>15656148</td>\n",
       "      <td>Obinna</td>\n",
       "      <td>376</td>\n",
       "      <td>Germany</td>\n",
       "      <td>Female</td>\n",
       "      <td>29</td>\n",
       "      <td>4.0</td>\n",
       "      <td>115046.74</td>\n",
       "      <td>4</td>\n",
       "      <td>1</td>\n",
       "      <td>0</td>\n",
       "      <td>119346.88</td>\n",
       "      <td>1</td>\n",
       "    </tr>\n",
       "    <tr>\n",
       "      <th>8</th>\n",
       "      <td>9</td>\n",
       "      <td>15792365</td>\n",
       "      <td>He</td>\n",
       "      <td>501</td>\n",
       "      <td>France</td>\n",
       "      <td>Male</td>\n",
       "      <td>44</td>\n",
       "      <td>4.0</td>\n",
       "      <td>142051.07</td>\n",
       "      <td>2</td>\n",
       "      <td>0</td>\n",
       "      <td>1</td>\n",
       "      <td>74940.50</td>\n",
       "      <td>0</td>\n",
       "    </tr>\n",
       "    <tr>\n",
       "      <th>9</th>\n",
       "      <td>10</td>\n",
       "      <td>15592389</td>\n",
       "      <td>H?</td>\n",
       "      <td>684</td>\n",
       "      <td>France</td>\n",
       "      <td>Male</td>\n",
       "      <td>27</td>\n",
       "      <td>2.0</td>\n",
       "      <td>134603.88</td>\n",
       "      <td>1</td>\n",
       "      <td>1</td>\n",
       "      <td>1</td>\n",
       "      <td>71725.73</td>\n",
       "      <td>0</td>\n",
       "    </tr>\n",
       "    <tr>\n",
       "      <th>10</th>\n",
       "      <td>11</td>\n",
       "      <td>15767821</td>\n",
       "      <td>Bearce</td>\n",
       "      <td>528</td>\n",
       "      <td>France</td>\n",
       "      <td>Male</td>\n",
       "      <td>31</td>\n",
       "      <td>6.0</td>\n",
       "      <td>102016.72</td>\n",
       "      <td>2</td>\n",
       "      <td>0</td>\n",
       "      <td>0</td>\n",
       "      <td>80181.12</td>\n",
       "      <td>0</td>\n",
       "    </tr>\n",
       "    <tr>\n",
       "      <th>11</th>\n",
       "      <td>12</td>\n",
       "      <td>15737173</td>\n",
       "      <td>Andrews</td>\n",
       "      <td>497</td>\n",
       "      <td>Spain</td>\n",
       "      <td>Male</td>\n",
       "      <td>24</td>\n",
       "      <td>3.0</td>\n",
       "      <td>0.00</td>\n",
       "      <td>2</td>\n",
       "      <td>1</td>\n",
       "      <td>0</td>\n",
       "      <td>76390.01</td>\n",
       "      <td>0</td>\n",
       "    </tr>\n",
       "    <tr>\n",
       "      <th>12</th>\n",
       "      <td>13</td>\n",
       "      <td>15632264</td>\n",
       "      <td>Kay</td>\n",
       "      <td>476</td>\n",
       "      <td>France</td>\n",
       "      <td>Female</td>\n",
       "      <td>34</td>\n",
       "      <td>10.0</td>\n",
       "      <td>0.00</td>\n",
       "      <td>2</td>\n",
       "      <td>1</td>\n",
       "      <td>0</td>\n",
       "      <td>26260.98</td>\n",
       "      <td>0</td>\n",
       "    </tr>\n",
       "    <tr>\n",
       "      <th>13</th>\n",
       "      <td>14</td>\n",
       "      <td>15691483</td>\n",
       "      <td>Chin</td>\n",
       "      <td>549</td>\n",
       "      <td>France</td>\n",
       "      <td>Female</td>\n",
       "      <td>25</td>\n",
       "      <td>5.0</td>\n",
       "      <td>0.00</td>\n",
       "      <td>2</td>\n",
       "      <td>0</td>\n",
       "      <td>0</td>\n",
       "      <td>190857.79</td>\n",
       "      <td>0</td>\n",
       "    </tr>\n",
       "    <tr>\n",
       "      <th>14</th>\n",
       "      <td>15</td>\n",
       "      <td>15600882</td>\n",
       "      <td>Scott</td>\n",
       "      <td>635</td>\n",
       "      <td>Spain</td>\n",
       "      <td>Female</td>\n",
       "      <td>35</td>\n",
       "      <td>7.0</td>\n",
       "      <td>0.00</td>\n",
       "      <td>2</td>\n",
       "      <td>1</td>\n",
       "      <td>1</td>\n",
       "      <td>65951.65</td>\n",
       "      <td>0</td>\n",
       "    </tr>\n",
       "  </tbody>\n",
       "</table>\n",
       "</div>"
      ],
      "text/plain": [
       "    RowNumber  CustomerId   Surname  CreditScore Geography  Gender  Age  \\\n",
       "0           1    15634602  Hargrave          619    France  Female   42   \n",
       "1           2    15647311      Hill          608     Spain  Female   41   \n",
       "2           3    15619304      Onio          502    France  Female   42   \n",
       "3           4    15701354      Boni          699    France  Female   39   \n",
       "4           5    15737888  Mitchell          850     Spain  Female   43   \n",
       "5           6    15574012       Chu          645     Spain    Male   44   \n",
       "6           7    15592531  Bartlett          822    France    Male   50   \n",
       "7           8    15656148    Obinna          376   Germany  Female   29   \n",
       "8           9    15792365        He          501    France    Male   44   \n",
       "9          10    15592389        H?          684    France    Male   27   \n",
       "10         11    15767821    Bearce          528    France    Male   31   \n",
       "11         12    15737173   Andrews          497     Spain    Male   24   \n",
       "12         13    15632264       Kay          476    France  Female   34   \n",
       "13         14    15691483      Chin          549    France  Female   25   \n",
       "14         15    15600882     Scott          635     Spain  Female   35   \n",
       "\n",
       "    Tenure    Balance  NumOfProducts  HasCrCard  IsActiveMember  \\\n",
       "0      2.0       0.00              1          1               1   \n",
       "1      1.0   83807.86              1          0               1   \n",
       "2      8.0  159660.80              3          1               0   \n",
       "3      1.0       0.00              2          0               0   \n",
       "4      2.0  125510.82              1          1               1   \n",
       "5      8.0  113755.78              2          1               0   \n",
       "6      7.0       0.00              2          1               1   \n",
       "7      4.0  115046.74              4          1               0   \n",
       "8      4.0  142051.07              2          0               1   \n",
       "9      2.0  134603.88              1          1               1   \n",
       "10     6.0  102016.72              2          0               0   \n",
       "11     3.0       0.00              2          1               0   \n",
       "12    10.0       0.00              2          1               0   \n",
       "13     5.0       0.00              2          0               0   \n",
       "14     7.0       0.00              2          1               1   \n",
       "\n",
       "    EstimatedSalary  Exited  \n",
       "0         101348.88       1  \n",
       "1         112542.58       0  \n",
       "2         113931.57       1  \n",
       "3          93826.63       0  \n",
       "4          79084.10       0  \n",
       "5         149756.71       1  \n",
       "6          10062.80       0  \n",
       "7         119346.88       1  \n",
       "8          74940.50       0  \n",
       "9          71725.73       0  \n",
       "10         80181.12       0  \n",
       "11         76390.01       0  \n",
       "12         26260.98       0  \n",
       "13        190857.79       0  \n",
       "14         65951.65       0  "
      ]
     },
     "metadata": {},
     "output_type": "display_data"
    },
    {
     "name": "stdout",
     "output_type": "stream",
     "text": [
      "________________________________________________________________________________________________________________________\n",
      "<class 'pandas.core.frame.DataFrame'>\n",
      "RangeIndex: 10000 entries, 0 to 9999\n",
      "Data columns (total 14 columns):\n",
      " #   Column           Non-Null Count  Dtype  \n",
      "---  ------           --------------  -----  \n",
      " 0   RowNumber        10000 non-null  int64  \n",
      " 1   CustomerId       10000 non-null  int64  \n",
      " 2   Surname          10000 non-null  object \n",
      " 3   CreditScore      10000 non-null  int64  \n",
      " 4   Geography        10000 non-null  object \n",
      " 5   Gender           10000 non-null  object \n",
      " 6   Age              10000 non-null  int64  \n",
      " 7   Tenure           9091 non-null   float64\n",
      " 8   Balance          10000 non-null  float64\n",
      " 9   NumOfProducts    10000 non-null  int64  \n",
      " 10  HasCrCard        10000 non-null  int64  \n",
      " 11  IsActiveMember   10000 non-null  int64  \n",
      " 12  EstimatedSalary  10000 non-null  float64\n",
      " 13  Exited           10000 non-null  int64  \n",
      "dtypes: float64(3), int64(8), object(3)\n",
      "memory usage: 1.1+ MB\n"
     ]
    }
   ],
   "source": [
    "df = pd.read_csv('https://code.s3.yandex.net/datasets/Churn.csv')\n",
    "display(df.head(15))\n",
    "print('________________________________________________________________________________________________________________________')\n",
    "\n",
    "df.info()"
   ]
  },
  {
   "cell_type": "markdown",
   "metadata": {},
   "source": [
    "В таблице присутствуют столбцы, которые не будут учитываться в анализе. От них можно избавиться. "
   ]
  },
  {
   "cell_type": "code",
   "execution_count": 3,
   "metadata": {},
   "outputs": [],
   "source": [
    "del_col=['RowNumber','CustomerId','Surname']\n",
    "df=df.drop(del_col,axis=1)"
   ]
  },
  {
   "cell_type": "markdown",
   "metadata": {},
   "source": [
    "В столбце Tenure - сколько лет человек является клиентом банка - 909 пропусков, которые правильнее всего будет заменить на 0, так как если мы возьмем среднюю или медиану, это может исказить картину анализа. Так как логичнее предположить при пропуске - человек не является клиентом банка. Так же переведенном тип данных в целочесленный"
   ]
  },
  {
   "cell_type": "code",
   "execution_count": 4,
   "metadata": {},
   "outputs": [],
   "source": [
    "df['Tenure']=df['Tenure'].fillna(0).astype('int64')"
   ]
  },
  {
   "cell_type": "code",
   "execution_count": 5,
   "metadata": {},
   "outputs": [
    {
     "name": "stdout",
     "output_type": "stream",
     "text": [
      "<class 'pandas.core.frame.DataFrame'>\n",
      "RangeIndex: 10000 entries, 0 to 9999\n",
      "Data columns (total 11 columns):\n",
      " #   Column           Non-Null Count  Dtype  \n",
      "---  ------           --------------  -----  \n",
      " 0   CreditScore      10000 non-null  int64  \n",
      " 1   Geography        10000 non-null  object \n",
      " 2   Gender           10000 non-null  object \n",
      " 3   Age              10000 non-null  int64  \n",
      " 4   Tenure           10000 non-null  int64  \n",
      " 5   Balance          10000 non-null  float64\n",
      " 6   NumOfProducts    10000 non-null  int64  \n",
      " 7   HasCrCard        10000 non-null  int64  \n",
      " 8   IsActiveMember   10000 non-null  int64  \n",
      " 9   EstimatedSalary  10000 non-null  float64\n",
      " 10  Exited           10000 non-null  int64  \n",
      "dtypes: float64(2), int64(7), object(2)\n",
      "memory usage: 859.5+ KB\n"
     ]
    }
   ],
   "source": [
    "df.info()"
   ]
  },
  {
   "cell_type": "markdown",
   "metadata": {},
   "source": [
    "На всякий случай проверим данные на дубликаты"
   ]
  },
  {
   "cell_type": "code",
   "execution_count": 6,
   "metadata": {},
   "outputs": [
    {
     "name": "stdout",
     "output_type": "stream",
     "text": [
      "Дубликатов в таблице: 0\n"
     ]
    }
   ],
   "source": [
    "print('Дубликатов в таблице:', df.duplicated().sum())"
   ]
  },
  {
   "cell_type": "markdown",
   "metadata": {},
   "source": [
    "В таблице нет дубликатов"
   ]
  },
  {
   "cell_type": "code",
   "execution_count": 7,
   "metadata": {},
   "outputs": [
    {
     "data": {
      "text/html": [
       "<div>\n",
       "<style scoped>\n",
       "    .dataframe tbody tr th:only-of-type {\n",
       "        vertical-align: middle;\n",
       "    }\n",
       "\n",
       "    .dataframe tbody tr th {\n",
       "        vertical-align: top;\n",
       "    }\n",
       "\n",
       "    .dataframe thead th {\n",
       "        text-align: right;\n",
       "    }\n",
       "</style>\n",
       "<table border=\"1\" class=\"dataframe\">\n",
       "  <thead>\n",
       "    <tr style=\"text-align: right;\">\n",
       "      <th></th>\n",
       "      <th>CreditScore</th>\n",
       "      <th>Geography</th>\n",
       "      <th>Gender</th>\n",
       "      <th>Age</th>\n",
       "      <th>Tenure</th>\n",
       "      <th>Balance</th>\n",
       "      <th>NumOfProducts</th>\n",
       "      <th>HasCrCard</th>\n",
       "      <th>IsActiveMember</th>\n",
       "      <th>EstimatedSalary</th>\n",
       "      <th>Exited</th>\n",
       "    </tr>\n",
       "  </thead>\n",
       "  <tbody>\n",
       "    <tr>\n",
       "      <th>0</th>\n",
       "      <td>619</td>\n",
       "      <td>France</td>\n",
       "      <td>Female</td>\n",
       "      <td>42</td>\n",
       "      <td>2</td>\n",
       "      <td>0.00</td>\n",
       "      <td>1</td>\n",
       "      <td>1</td>\n",
       "      <td>1</td>\n",
       "      <td>101348.88</td>\n",
       "      <td>1</td>\n",
       "    </tr>\n",
       "    <tr>\n",
       "      <th>1</th>\n",
       "      <td>608</td>\n",
       "      <td>Spain</td>\n",
       "      <td>Female</td>\n",
       "      <td>41</td>\n",
       "      <td>1</td>\n",
       "      <td>83807.86</td>\n",
       "      <td>1</td>\n",
       "      <td>0</td>\n",
       "      <td>1</td>\n",
       "      <td>112542.58</td>\n",
       "      <td>0</td>\n",
       "    </tr>\n",
       "    <tr>\n",
       "      <th>2</th>\n",
       "      <td>502</td>\n",
       "      <td>France</td>\n",
       "      <td>Female</td>\n",
       "      <td>42</td>\n",
       "      <td>8</td>\n",
       "      <td>159660.80</td>\n",
       "      <td>3</td>\n",
       "      <td>1</td>\n",
       "      <td>0</td>\n",
       "      <td>113931.57</td>\n",
       "      <td>1</td>\n",
       "    </tr>\n",
       "    <tr>\n",
       "      <th>3</th>\n",
       "      <td>699</td>\n",
       "      <td>France</td>\n",
       "      <td>Female</td>\n",
       "      <td>39</td>\n",
       "      <td>1</td>\n",
       "      <td>0.00</td>\n",
       "      <td>2</td>\n",
       "      <td>0</td>\n",
       "      <td>0</td>\n",
       "      <td>93826.63</td>\n",
       "      <td>0</td>\n",
       "    </tr>\n",
       "    <tr>\n",
       "      <th>4</th>\n",
       "      <td>850</td>\n",
       "      <td>Spain</td>\n",
       "      <td>Female</td>\n",
       "      <td>43</td>\n",
       "      <td>2</td>\n",
       "      <td>125510.82</td>\n",
       "      <td>1</td>\n",
       "      <td>1</td>\n",
       "      <td>1</td>\n",
       "      <td>79084.10</td>\n",
       "      <td>0</td>\n",
       "    </tr>\n",
       "    <tr>\n",
       "      <th>5</th>\n",
       "      <td>645</td>\n",
       "      <td>Spain</td>\n",
       "      <td>Male</td>\n",
       "      <td>44</td>\n",
       "      <td>8</td>\n",
       "      <td>113755.78</td>\n",
       "      <td>2</td>\n",
       "      <td>1</td>\n",
       "      <td>0</td>\n",
       "      <td>149756.71</td>\n",
       "      <td>1</td>\n",
       "    </tr>\n",
       "    <tr>\n",
       "      <th>6</th>\n",
       "      <td>822</td>\n",
       "      <td>France</td>\n",
       "      <td>Male</td>\n",
       "      <td>50</td>\n",
       "      <td>7</td>\n",
       "      <td>0.00</td>\n",
       "      <td>2</td>\n",
       "      <td>1</td>\n",
       "      <td>1</td>\n",
       "      <td>10062.80</td>\n",
       "      <td>0</td>\n",
       "    </tr>\n",
       "    <tr>\n",
       "      <th>7</th>\n",
       "      <td>376</td>\n",
       "      <td>Germany</td>\n",
       "      <td>Female</td>\n",
       "      <td>29</td>\n",
       "      <td>4</td>\n",
       "      <td>115046.74</td>\n",
       "      <td>4</td>\n",
       "      <td>1</td>\n",
       "      <td>0</td>\n",
       "      <td>119346.88</td>\n",
       "      <td>1</td>\n",
       "    </tr>\n",
       "    <tr>\n",
       "      <th>8</th>\n",
       "      <td>501</td>\n",
       "      <td>France</td>\n",
       "      <td>Male</td>\n",
       "      <td>44</td>\n",
       "      <td>4</td>\n",
       "      <td>142051.07</td>\n",
       "      <td>2</td>\n",
       "      <td>0</td>\n",
       "      <td>1</td>\n",
       "      <td>74940.50</td>\n",
       "      <td>0</td>\n",
       "    </tr>\n",
       "    <tr>\n",
       "      <th>9</th>\n",
       "      <td>684</td>\n",
       "      <td>France</td>\n",
       "      <td>Male</td>\n",
       "      <td>27</td>\n",
       "      <td>2</td>\n",
       "      <td>134603.88</td>\n",
       "      <td>1</td>\n",
       "      <td>1</td>\n",
       "      <td>1</td>\n",
       "      <td>71725.73</td>\n",
       "      <td>0</td>\n",
       "    </tr>\n",
       "    <tr>\n",
       "      <th>10</th>\n",
       "      <td>528</td>\n",
       "      <td>France</td>\n",
       "      <td>Male</td>\n",
       "      <td>31</td>\n",
       "      <td>6</td>\n",
       "      <td>102016.72</td>\n",
       "      <td>2</td>\n",
       "      <td>0</td>\n",
       "      <td>0</td>\n",
       "      <td>80181.12</td>\n",
       "      <td>0</td>\n",
       "    </tr>\n",
       "    <tr>\n",
       "      <th>11</th>\n",
       "      <td>497</td>\n",
       "      <td>Spain</td>\n",
       "      <td>Male</td>\n",
       "      <td>24</td>\n",
       "      <td>3</td>\n",
       "      <td>0.00</td>\n",
       "      <td>2</td>\n",
       "      <td>1</td>\n",
       "      <td>0</td>\n",
       "      <td>76390.01</td>\n",
       "      <td>0</td>\n",
       "    </tr>\n",
       "    <tr>\n",
       "      <th>12</th>\n",
       "      <td>476</td>\n",
       "      <td>France</td>\n",
       "      <td>Female</td>\n",
       "      <td>34</td>\n",
       "      <td>10</td>\n",
       "      <td>0.00</td>\n",
       "      <td>2</td>\n",
       "      <td>1</td>\n",
       "      <td>0</td>\n",
       "      <td>26260.98</td>\n",
       "      <td>0</td>\n",
       "    </tr>\n",
       "    <tr>\n",
       "      <th>13</th>\n",
       "      <td>549</td>\n",
       "      <td>France</td>\n",
       "      <td>Female</td>\n",
       "      <td>25</td>\n",
       "      <td>5</td>\n",
       "      <td>0.00</td>\n",
       "      <td>2</td>\n",
       "      <td>0</td>\n",
       "      <td>0</td>\n",
       "      <td>190857.79</td>\n",
       "      <td>0</td>\n",
       "    </tr>\n",
       "    <tr>\n",
       "      <th>14</th>\n",
       "      <td>635</td>\n",
       "      <td>Spain</td>\n",
       "      <td>Female</td>\n",
       "      <td>35</td>\n",
       "      <td>7</td>\n",
       "      <td>0.00</td>\n",
       "      <td>2</td>\n",
       "      <td>1</td>\n",
       "      <td>1</td>\n",
       "      <td>65951.65</td>\n",
       "      <td>0</td>\n",
       "    </tr>\n",
       "  </tbody>\n",
       "</table>\n",
       "</div>"
      ],
      "text/plain": [
       "    CreditScore Geography  Gender  Age  Tenure    Balance  NumOfProducts  \\\n",
       "0           619    France  Female   42       2       0.00              1   \n",
       "1           608     Spain  Female   41       1   83807.86              1   \n",
       "2           502    France  Female   42       8  159660.80              3   \n",
       "3           699    France  Female   39       1       0.00              2   \n",
       "4           850     Spain  Female   43       2  125510.82              1   \n",
       "5           645     Spain    Male   44       8  113755.78              2   \n",
       "6           822    France    Male   50       7       0.00              2   \n",
       "7           376   Germany  Female   29       4  115046.74              4   \n",
       "8           501    France    Male   44       4  142051.07              2   \n",
       "9           684    France    Male   27       2  134603.88              1   \n",
       "10          528    France    Male   31       6  102016.72              2   \n",
       "11          497     Spain    Male   24       3       0.00              2   \n",
       "12          476    France  Female   34      10       0.00              2   \n",
       "13          549    France  Female   25       5       0.00              2   \n",
       "14          635     Spain  Female   35       7       0.00              2   \n",
       "\n",
       "    HasCrCard  IsActiveMember  EstimatedSalary  Exited  \n",
       "0           1               1        101348.88       1  \n",
       "1           0               1        112542.58       0  \n",
       "2           1               0        113931.57       1  \n",
       "3           0               0         93826.63       0  \n",
       "4           1               1         79084.10       0  \n",
       "5           1               0        149756.71       1  \n",
       "6           1               1         10062.80       0  \n",
       "7           1               0        119346.88       1  \n",
       "8           0               1         74940.50       0  \n",
       "9           1               1         71725.73       0  \n",
       "10          0               0         80181.12       0  \n",
       "11          1               0         76390.01       0  \n",
       "12          1               0         26260.98       0  \n",
       "13          0               0        190857.79       0  \n",
       "14          1               1         65951.65       0  "
      ]
     },
     "metadata": {},
     "output_type": "display_data"
    }
   ],
   "source": [
    "display(df.head(15))"
   ]
  },
  {
   "cell_type": "markdown",
   "metadata": {},
   "source": [
    "### Предварительный итог:\n",
    " - В результате преобразований в нашем датасете мы имеем 10 признаков, 1 целевой признак (Exited).  - удалили  признаки Surname, customer_id и row_number, т.к. они не играют большой роли в анализе.\n",
    " - Дубликатов нет, пропуски устранены путем заполнения нулевыми значениями\n",
    " - Перевели тип данных в целочесленный в столбце Tenure"
   ]
  },
  {
   "cell_type": "markdown",
   "metadata": {},
   "source": [
    "## Исследование задачи"
   ]
  },
  {
   "cell_type": "markdown",
   "metadata": {},
   "source": [
    "Изучим данные Exited"
   ]
  },
  {
   "cell_type": "code",
   "execution_count": 8,
   "metadata": {},
   "outputs": [
    {
     "data": {
      "text/plain": [
       "<AxesSubplot:title={'center':'факт ухода клиента'}>"
      ]
     },
     "execution_count": 8,
     "metadata": {},
     "output_type": "execute_result"
    },
    {
     "data": {
      "image/png": "[encoded data removed]",
      "text/plain": [
       "<Figure size 432x288 with 1 Axes>"
      ]
     },
     "metadata": {
      "needs_background": "light"
     },
     "output_type": "display_data"
    }
   ],
   "source": [
    "df['Exited'].value_counts().plot(kind='bar',grid=True,color = 'g', title='факт ухода клиента')"
   ]
  },
  {
   "cell_type": "markdown",
   "metadata": {},
   "source": [
    "Отношение ушедних клиентов к оставшимся составляет 1 к 4. Это может говорить о дисбалансе в данных. Посмотрим как влияют различные факторы на отток клиентов "
   ]
  },
  {
   "cell_type": "code",
   "execution_count": 9,
   "metadata": {},
   "outputs": [
    {
     "data": {
      "image/png": "[encoded data removed]",
      "text/plain": [
       "<Figure size 432x288 with 1 Axes>"
      ]
     },
     "metadata": {
      "needs_background": "light"
     },
     "output_type": "display_data"
    }
   ],
   "source": [
    "df.groupby('Gender')['Exited'].sum().plot(kind='bar', grid=True, color = 'y', title='Зависимость оттока от пола')\n",
    "plt.show()"
   ]
  },
  {
   "cell_type": "markdown",
   "metadata": {},
   "source": [
    "На данной гистограмме мы видим, что женщины чаще уходят чем мужчины"
   ]
  },
  {
   "cell_type": "code",
   "execution_count": 10,
   "metadata": {},
   "outputs": [
    {
     "data": {
      "image/png": "[encoded data removed]",
      "text/plain": [
       "<Figure size 1440x720 with 1 Axes>"
      ]
     },
     "metadata": {
      "needs_background": "light"
     },
     "output_type": "display_data"
    }
   ],
   "source": [
    "df.groupby('Age')['Exited'].sum().plot(figsize=(20,10), kind='bar', grid=True, color = 'm', title='Зависимость оттока от возраста')\n",
    "plt.show()"
   ]
  },
  {
   "cell_type": "markdown",
   "metadata": {},
   "source": [
    "Гистограмма показывает нормальное распределние и чаще всего уходят клиенты в возрасте от 40 до 50 лет.\n"
   ]
  },
  {
   "cell_type": "code",
   "execution_count": 11,
   "metadata": {},
   "outputs": [
    {
     "data": {
      "text/plain": [
       "<AxesSubplot:title={'center':'Зависимость оттока от баланса на счёте'}, xlabel='Exited'>"
      ]
     },
     "execution_count": 11,
     "metadata": {},
     "output_type": "execute_result"
    },
    {
     "data": {
      "image/png": "[encoded data removed]",
      "text/plain": [
       "<Figure size 432x288 with 1 Axes>"
      ]
     },
     "metadata": {
      "needs_background": "light"
     },
     "output_type": "display_data"
    }
   ],
   "source": [
    "df.groupby('Exited')['Balance'].mean().plot(kind='bar',grid=True, color = 'b', title='Зависимость оттока от баланса на счёте')\n"
   ]
  },
  {
   "cell_type": "markdown",
   "metadata": {},
   "source": [
    "На гистограмме видно, что зависимость не сильная, но среднее значение баланса немного выше у тех кто ушел."
   ]
  },
  {
   "cell_type": "markdown",
   "metadata": {},
   "source": [
    "### Применение демми-признаков (ohe)"
   ]
  },
  {
   "cell_type": "markdown",
   "metadata": {},
   "source": [
    "Признаки gender, geography - нужно преобразовать в бинарные методологией OHE (one-hot encoding)"
   ]
  },
  {
   "cell_type": "code",
   "execution_count": 12,
   "metadata": {
    "scrolled": true
   },
   "outputs": [
    {
     "data": {
      "text/html": [
       "<div>\n",
       "<style scoped>\n",
       "    .dataframe tbody tr th:only-of-type {\n",
       "        vertical-align: middle;\n",
       "    }\n",
       "\n",
       "    .dataframe tbody tr th {\n",
       "        vertical-align: top;\n",
       "    }\n",
       "\n",
       "    .dataframe thead th {\n",
       "        text-align: right;\n",
       "    }\n",
       "</style>\n",
       "<table border=\"1\" class=\"dataframe\">\n",
       "  <thead>\n",
       "    <tr style=\"text-align: right;\">\n",
       "      <th></th>\n",
       "      <th>CreditScore</th>\n",
       "      <th>Age</th>\n",
       "      <th>Tenure</th>\n",
       "      <th>Balance</th>\n",
       "      <th>NumOfProducts</th>\n",
       "      <th>HasCrCard</th>\n",
       "      <th>IsActiveMember</th>\n",
       "      <th>EstimatedSalary</th>\n",
       "      <th>Exited</th>\n",
       "      <th>Geography_Germany</th>\n",
       "      <th>Geography_Spain</th>\n",
       "      <th>Gender_Male</th>\n",
       "    </tr>\n",
       "  </thead>\n",
       "  <tbody>\n",
       "    <tr>\n",
       "      <th>0</th>\n",
       "      <td>619</td>\n",
       "      <td>42</td>\n",
       "      <td>2</td>\n",
       "      <td>0.00</td>\n",
       "      <td>1</td>\n",
       "      <td>1</td>\n",
       "      <td>1</td>\n",
       "      <td>101348.88</td>\n",
       "      <td>1</td>\n",
       "      <td>0</td>\n",
       "      <td>0</td>\n",
       "      <td>0</td>\n",
       "    </tr>\n",
       "    <tr>\n",
       "      <th>1</th>\n",
       "      <td>608</td>\n",
       "      <td>41</td>\n",
       "      <td>1</td>\n",
       "      <td>83807.86</td>\n",
       "      <td>1</td>\n",
       "      <td>0</td>\n",
       "      <td>1</td>\n",
       "      <td>112542.58</td>\n",
       "      <td>0</td>\n",
       "      <td>0</td>\n",
       "      <td>1</td>\n",
       "      <td>0</td>\n",
       "    </tr>\n",
       "    <tr>\n",
       "      <th>2</th>\n",
       "      <td>502</td>\n",
       "      <td>42</td>\n",
       "      <td>8</td>\n",
       "      <td>159660.80</td>\n",
       "      <td>3</td>\n",
       "      <td>1</td>\n",
       "      <td>0</td>\n",
       "      <td>113931.57</td>\n",
       "      <td>1</td>\n",
       "      <td>0</td>\n",
       "      <td>0</td>\n",
       "      <td>0</td>\n",
       "    </tr>\n",
       "    <tr>\n",
       "      <th>3</th>\n",
       "      <td>699</td>\n",
       "      <td>39</td>\n",
       "      <td>1</td>\n",
       "      <td>0.00</td>\n",
       "      <td>2</td>\n",
       "      <td>0</td>\n",
       "      <td>0</td>\n",
       "      <td>93826.63</td>\n",
       "      <td>0</td>\n",
       "      <td>0</td>\n",
       "      <td>0</td>\n",
       "      <td>0</td>\n",
       "    </tr>\n",
       "    <tr>\n",
       "      <th>4</th>\n",
       "      <td>850</td>\n",
       "      <td>43</td>\n",
       "      <td>2</td>\n",
       "      <td>125510.82</td>\n",
       "      <td>1</td>\n",
       "      <td>1</td>\n",
       "      <td>1</td>\n",
       "      <td>79084.10</td>\n",
       "      <td>0</td>\n",
       "      <td>0</td>\n",
       "      <td>1</td>\n",
       "      <td>0</td>\n",
       "    </tr>\n",
       "  </tbody>\n",
       "</table>\n",
       "</div>"
      ],
      "text/plain": [
       "   CreditScore  Age  Tenure    Balance  NumOfProducts  HasCrCard  \\\n",
       "0          619   42       2       0.00              1          1   \n",
       "1          608   41       1   83807.86              1          0   \n",
       "2          502   42       8  159660.80              3          1   \n",
       "3          699   39       1       0.00              2          0   \n",
       "4          850   43       2  125510.82              1          1   \n",
       "\n",
       "   IsActiveMember  EstimatedSalary  Exited  Geography_Germany  \\\n",
       "0               1        101348.88       1                  0   \n",
       "1               1        112542.58       0                  0   \n",
       "2               0        113931.57       1                  0   \n",
       "3               0         93826.63       0                  0   \n",
       "4               1         79084.10       0                  0   \n",
       "\n",
       "   Geography_Spain  Gender_Male  \n",
       "0                0            0  \n",
       "1                1            0  \n",
       "2                0            0  \n",
       "3                0            0  \n",
       "4                1            0  "
      ]
     },
     "execution_count": 12,
     "metadata": {},
     "output_type": "execute_result"
    }
   ],
   "source": [
    "df_ohe=pd.get_dummies(df,drop_first=True)\n",
    "df_ohe.head()"
   ]
  },
  {
   "cell_type": "code",
   "execution_count": 13,
   "metadata": {},
   "outputs": [],
   "source": [
    "#целевой признак\n",
    "target=df_ohe['Exited']\n",
    "#признаки\n",
    "features=df_ohe.drop(['Exited'],axis=1)"
   ]
  },
  {
   "cell_type": "markdown",
   "metadata": {},
   "source": [
    "С помощью train_test_split разделим наш датасет на следующие выборки:"
   ]
  },
  {
   "cell_type": "code",
   "execution_count": 14,
   "metadata": {},
   "outputs": [],
   "source": [
    "features = df_ohe.drop(['Exited'], axis=1)\n",
    "target = df_ohe['Exited']\n",
    "\n",
    "features_temp, test_features, target_temp, test_target = train_test_split(features, target, test_size=0.2, random_state=12345)\n",
    "train_features, valid_features, train_target, valid_target = train_test_split(features_temp, target_temp, test_size=0.25, random_state=12345)"
   ]
  },
  {
   "cell_type": "markdown",
   "metadata": {},
   "source": [
    "### Модель c дисбалансом"
   ]
  },
  {
   "cell_type": "markdown",
   "metadata": {},
   "source": [
    "#### Дерево решения\n"
   ]
  },
  {
   "cell_type": "markdown",
   "metadata": {},
   "source": [
    "С помощью цикла найдем наилучший гиперпараметр max_depth:"
   ]
  },
  {
   "cell_type": "code",
   "execution_count": 15,
   "metadata": {},
   "outputs": [
    {
     "name": "stdout",
     "output_type": "stream",
     "text": [
      "max_depth: 1 F1: 0.0\n",
      "max_depth: 2 F1: 0.5037037037037037\n",
      "max_depth: 3 F1: 0.39382239382239387\n",
      "max_depth: 4 F1: 0.4318181818181818\n",
      "max_depth: 5 F1: 0.5482866043613708\n",
      "max_depth: 6 F1: 0.5043478260869565\n",
      "max_depth: 7 F1: 0.5488958990536277\n",
      "max_depth: 8 F1: 0.5337423312883436\n",
      "max_depth: 9 F1: 0.5297619047619048\n",
      "max_depth: 10 F1: 0.5319767441860466\n",
      "max_depth: 11 F1: 0.522111269614836\n",
      "max_depth: 12 F1: 0.504881450488145\n",
      "max_depth: 13 F1: 0.5\n",
      "max_depth: 14 F1: 0.48633879781420764\n",
      "max_depth: 15 F1: 0.49736842105263157\n",
      "max_depth: 16 F1: 0.4968152866242038\n",
      "max_depth: 17 F1: 0.48275862068965514\n",
      "max_depth: 18 F1: 0.48101265822784806\n",
      "max_depth: 19 F1: 0.4667503136762861\n"
     ]
    }
   ],
   "source": [
    "for depth in range(1,20,1):\n",
    "    model_tree=DecisionTreeClassifier(max_depth=depth,random_state=1234).fit(train_features,train_target)\n",
    "    prediction=model_tree.predict(valid_features)\n",
    "    print('max_depth:',depth,'F1:',f1_score(valid_target,prediction))"
   ]
  },
  {
   "cell_type": "markdown",
   "metadata": {},
   "source": [
    "Вывод: лучшее значение max_depth=7, при котором F1=0,5489"
   ]
  },
  {
   "cell_type": "markdown",
   "metadata": {},
   "source": [
    "#### Случайный лес"
   ]
  },
  {
   "cell_type": "markdown",
   "metadata": {},
   "source": [
    "С помощью цикла найдем наилучший гиперпораметр max_depth:"
   ]
  },
  {
   "cell_type": "code",
   "execution_count": 16,
   "metadata": {},
   "outputs": [
    {
     "name": "stdout",
     "output_type": "stream",
     "text": [
      "max_depth: 1 F1: 0.005102040816326531\n",
      "max_depth: 2 F1: 0.2054794520547945\n",
      "max_depth: 3 F1: 0.26143790849673204\n",
      "max_depth: 4 F1: 0.3531827515400411\n",
      "max_depth: 5 F1: 0.3929961089494164\n",
      "max_depth: 6 F1: 0.505338078291815\n",
      "max_depth: 7 F1: 0.5398981324278438\n",
      "max_depth: 8 F1: 0.5433333333333333\n",
      "max_depth: 9 F1: 0.5433333333333333\n",
      "max_depth: 10 F1: 0.5442622950819671\n",
      "max_depth: 11 F1: 0.5484400656814451\n",
      "max_depth: 12 F1: 0.5608974358974359\n",
      "max_depth: 13 F1: 0.5627980922098569\n",
      "max_depth: 14 F1: 0.5705329153605017\n",
      "max_depth: 15 F1: 0.5592417061611374\n",
      "max_depth: 16 F1: 0.5592417061611374\n",
      "max_depth: 17 F1: 0.5660964230171073\n",
      "max_depth: 18 F1: 0.5509554140127388\n",
      "max_depth: 19 F1: 0.5532591414944356\n",
      "max_depth: 20 F1: 0.5673534072900159\n",
      "max_depth: 21 F1: 0.5723370429252783\n",
      "max_depth: 22 F1: 0.5571658615136875\n",
      "max_depth: 23 F1: 0.548076923076923\n",
      "max_depth: 24 F1: 0.5515055467511886\n"
     ]
    }
   ],
   "source": [
    "for max_depth in range(1,25,1):\n",
    "    model_forest=RandomForestClassifier(max_depth=max_depth,n_estimators=50,random_state=1234).fit(train_features,train_target)\n",
    "    prediction=model_forest.predict(valid_features)\n",
    "    print('max_depth:',max_depth,'F1:',f1_score(valid_target,prediction))"
   ]
  },
  {
   "cell_type": "markdown",
   "metadata": {},
   "source": [
    "Вывод: лучшее значение max_depth=14, при котором F1=0,5705"
   ]
  },
  {
   "cell_type": "markdown",
   "metadata": {},
   "source": [
    "Циклом подбирем гиперпораметр n_estimators (количество деревьев)"
   ]
  },
  {
   "cell_type": "code",
   "execution_count": 17,
   "metadata": {},
   "outputs": [
    {
     "name": "stdout",
     "output_type": "stream",
     "text": [
      "estim 1 F1: 0.4649933949801849\n",
      "estim 3 F1: 0.5051094890510949\n",
      "estim 5 F1: 0.5142857142857143\n",
      "estim 7 F1: 0.5294117647058824\n",
      "estim 9 F1: 0.546875\n",
      "estim 11 F1: 0.5417322834645669\n",
      "estim 13 F1: 0.55625\n",
      "estim 15 F1: 0.5723270440251572\n",
      "estim 17 F1: 0.567398119122257\n",
      "estim 19 F1: 0.578538102643857\n",
      "estim 21 F1: 0.5790297339593115\n",
      "estim 23 F1: 0.5759493670886076\n",
      "estim 25 F1: 0.5772870662460569\n",
      "estim 27 F1: 0.5745682888540031\n",
      "estim 29 F1: 0.5786163522012578\n",
      "estim 31 F1: 0.5759493670886076\n",
      "estim 33 F1: 0.5777777777777777\n",
      "estim 35 F1: 0.5746031746031746\n",
      "estim 37 F1: 0.5687203791469194\n",
      "estim 39 F1: 0.5691823899371069\n",
      "estim 41 F1: 0.5687203791469194\n",
      "estim 43 F1: 0.5660377358490566\n",
      "estim 45 F1: 0.5646687697160884\n",
      "estim 47 F1: 0.5660377358490566\n",
      "estim 49 F1: 0.5691823899371069\n",
      "estim 51 F1: 0.5714285714285714\n",
      "estim 53 F1: 0.5709779179810726\n"
     ]
    }
   ],
   "source": [
    "for estim in range(1,55,2):\n",
    "    model_forest=RandomForestClassifier(max_depth=14,n_estimators=estim,random_state=1234).fit(train_features,train_target)\n",
    "    prediction=model_forest.predict(valid_features)\n",
    "    print('estim',estim,'F1:',f1_score(valid_target,prediction))"
   ]
  },
  {
   "cell_type": "markdown",
   "metadata": {},
   "source": [
    "Вывод: лучшее значение max_depth=14 и n_estimators=29 при котором F1=0,5786. Значение немного увелисилось."
   ]
  },
  {
   "cell_type": "code",
   "execution_count": 59,
   "metadata": {},
   "outputs": [
    {
     "name": "stdout",
     "output_type": "stream",
     "text": [
      "CPU times: user 1min 29s, sys: 284 ms, total: 1min 30s\n",
      "Wall time: 1min 30s\n"
     ]
    }
   ],
   "source": [
    "%%time\n",
    "\n",
    "accuracy_forest_list = []\n",
    "max_depth_list = []\n",
    "n_estim_list = []\n",
    "\n",
    "for depth in range(1, 25, 1):\n",
    "    for est in range(1, 55, 2):\n",
    "        model_forest = RandomForestClassifier(max_depth=depth, n_estimators=est, random_state=1234).fit(train_features,train_target)\n",
    "        prediction=model_forest.predict(valid_features)\n",
    "        accuracy_forest = round(accuracy_score(valid_target, prediction), 4)\n",
    "        \n",
    "        accuracy_forest_list.append(accuracy_forest)\n",
    "        max_depth_list.append(depth)\n",
    "        n_estim_list.append(est)"
   ]
  },
  {
   "cell_type": "markdown",
   "metadata": {},
   "source": [
    "#### Логистическая регрессия"
   ]
  },
  {
   "cell_type": "code",
   "execution_count": 19,
   "metadata": {},
   "outputs": [
    {
     "name": "stdout",
     "output_type": "stream",
     "text": [
      "F1: 0.09865470852017938\n"
     ]
    }
   ],
   "source": [
    "model_logistic=LogisticRegression().fit(train_features,train_target)\n",
    "prediction=model_logistic.predict(valid_features)\n",
    "print('F1:',f1_score(valid_target,prediction))"
   ]
  },
  {
   "cell_type": "markdown",
   "metadata": {},
   "source": [
    "Вывод: F1 = 0.0986 - совсем печальный результат"
   ]
  },
  {
   "cell_type": "markdown",
   "metadata": {},
   "source": [
    "Общий вывод: Изучив данные на трёх моделях, можно сделать вывод, что саммая лучшая модель оказалась случайный лес. При лучшем значении  max_depth=14 и n_estimators=29 при котором F1=0,5786 на тестовой(валидной) выборке."
   ]
  },
  {
   "cell_type": "markdown",
   "metadata": {},
   "source": [
    "### График ROC"
   ]
  },
  {
   "cell_type": "markdown",
   "metadata": {},
   "source": [
    "#### Дерево решения"
   ]
  },
  {
   "cell_type": "code",
   "execution_count": 20,
   "metadata": {},
   "outputs": [
    {
     "data": {
      "text/plain": [
       "0.6729195907292579"
      ]
     },
     "execution_count": 20,
     "metadata": {},
     "output_type": "execute_result"
    }
   ],
   "source": [
    "probabilities_tree=model_tree.predict_proba(valid_features)\n",
    "probabilities_one_valid_tree=probabilities_tree[:,1]\n",
    "fpr_tree,tpr_tree,thresholds=roc_curve(valid_target,probabilities_one_valid_tree)\n",
    "auc_roc_tree=roc_auc_score(valid_target,probabilities_one_valid_tree)\n",
    "auc_roc_tree"
   ]
  },
  {
   "cell_type": "markdown",
   "metadata": {},
   "source": [
    "#### Случайный лес"
   ]
  },
  {
   "cell_type": "code",
   "execution_count": 21,
   "metadata": {},
   "outputs": [
    {
     "data": {
      "text/plain": [
       "0.8439953331563663"
      ]
     },
     "execution_count": 21,
     "metadata": {},
     "output_type": "execute_result"
    }
   ],
   "source": [
    "probabilities_forest=model_forest.predict_proba(valid_features)\n",
    "probabilities_one_valid_forest=probabilities_forest[:,1]\n",
    "fpr_forest,tpr_forest,thresholds=roc_curve(valid_target,probabilities_one_valid_forest)\n",
    "auc_roc_forest=roc_auc_score(valid_target,probabilities_one_valid_forest)\n",
    "auc_roc_forest"
   ]
  },
  {
   "cell_type": "markdown",
   "metadata": {},
   "source": [
    "#### Логистическая регрессия"
   ]
  },
  {
   "cell_type": "code",
   "execution_count": 22,
   "metadata": {},
   "outputs": [
    {
     "data": {
      "text/plain": [
       "0.6809729160937755"
      ]
     },
     "execution_count": 22,
     "metadata": {},
     "output_type": "execute_result"
    }
   ],
   "source": [
    "probabilities_reg=model_logistic.predict_proba(valid_features)\n",
    "probabilities_one_valid_reg=probabilities_reg[:,1]\n",
    "fpr_log,tpr_log,thresholds=roc_curve(valid_target,probabilities_one_valid_reg)\n",
    "auc_roc_reg=roc_auc_score(valid_target,probabilities_one_valid_reg)\n",
    "auc_roc_reg"
   ]
  },
  {
   "cell_type": "code",
   "execution_count": 23,
   "metadata": {},
   "outputs": [
    {
     "data": {
      "text/plain": [
       "<Figure size 432x288 with 0 Axes>"
      ]
     },
     "metadata": {},
     "output_type": "display_data"
    },
    {
     "data": {
      "image/png": "[encoded data removed]",
      "text/plain": [
       "<Figure size 720x720 with 1 Axes>"
      ]
     },
     "metadata": {
      "needs_background": "light"
     },
     "output_type": "display_data"
    }
   ],
   "source": [
    "plt.figure()\n",
    "\n",
    "plt.figure(figsize=(10,10))\n",
    "plt.plot([0, 1], [0, 1], linestyle='--')\n",
    "plt.xlim([0.0, 1.0])\n",
    "plt.ylim([0.0, 1.0])\n",
    "plt.plot(fpr_log,tpr_log)\n",
    "plt.plot(fpr_tree,tpr_tree)\n",
    "plt.plot(fpr_forest,tpr_forest)\n",
    "plt.xlabel('False Positive Rate')\n",
    "plt.ylabel('True Positive Rate')\n",
    "plt.title('ROC-кривая')\n",
    "plt.legend(('Случайная модель','Случайный лес','Логистическая регрессия','Дерево решения'),\n",
    "           loc= 'upper left') \n",
    "plt.show()"
   ]
  },
  {
   "cell_type": "markdown",
   "metadata": {},
   "source": [
    "## Борьба с дисбалансом"
   ]
  },
  {
   "cell_type": "markdown",
   "metadata": {},
   "source": [
    "### Upsampling"
   ]
  },
  {
   "cell_type": "markdown",
   "metadata": {},
   "source": [
    "Воспользуемся функцией Upsampling и увеличим количество клиентов оттока (target==1)"
   ]
  },
  {
   "cell_type": "code",
   "execution_count": 24,
   "metadata": {},
   "outputs": [],
   "source": [
    "def upsampling (features,target,repeat):\n",
    "    target_one=target[target==1]\n",
    "    target_null=target[target==0]\n",
    "    features_one=features[target==1]\n",
    "    features_null=features[target==0]\n",
    "    \n",
    "    upsampling_features=pd.concat([features_null]+[features_one]*repeat)\n",
    "    upsampling_target=pd.concat([target_null]+[target_one]*repeat)\n",
    "    \n",
    "    upsampling_features,upsampling_target=shuffle(upsampling_features,upsampling_target,random_state=1234)\n",
    "    \n",
    "    return upsampling_features,upsampling_target"
   ]
  },
  {
   "cell_type": "code",
   "execution_count": 25,
   "metadata": {},
   "outputs": [],
   "source": [
    "features_balance_up,target_balance_up=upsampling(train_features,train_target,4)"
   ]
  },
  {
   "cell_type": "markdown",
   "metadata": {},
   "source": [
    "### Downsampling"
   ]
  },
  {
   "cell_type": "markdown",
   "metadata": {},
   "source": [
    "Воспользуемся функцией Downsampling и увеличим количество клиентов оттока (target==1)"
   ]
  },
  {
   "cell_type": "code",
   "execution_count": 26,
   "metadata": {},
   "outputs": [],
   "source": [
    "def downsampling(features,target,fraction):\n",
    "    features_null=features[target==0]\n",
    "    features_one=features[target==1]\n",
    "    target_null=target[target==0]\n",
    "    target_one=target[target==1]\n",
    "    \n",
    "    downsampling_features=pd.concat([features_null.sample(frac=0.4,random_state=1234)]+[features_one])\n",
    "    downsampling_target=pd.concat([target_null.sample(frac=0.4,random_state=1234)]+[target_one])\n",
    "    \n",
    "    downsampling_features,downsampling_target=shuffle(downsampling_features,downsampling_target,random_state=1234)\n",
    "    return downsampling_features,downsampling_target"
   ]
  },
  {
   "cell_type": "code",
   "execution_count": 27,
   "metadata": {},
   "outputs": [],
   "source": [
    "def downsample(features, target, fraction):\n",
    "    features_null = features[target == 0]\n",
    "    features_one = features[target == 1]\n",
    "    target_null = target[target == 0]\n",
    "    target_one = target[target == 1]\n",
    "\n",
    "    features_downsampled = pd.concat(\n",
    "        [features_null.sample(frac=fraction, random_state=12345)] + [features_one])\n",
    "    target_downsampled = pd.concat(\n",
    "        [target_null.sample(frac=fraction, random_state=12345)] + [target_one])\n",
    "\n",
    "    features_downsampled, target_downsampled = shuffle(\n",
    "        features_downsampled, target_downsampled, random_state=12345)\n",
    "\n",
    "    return features_downsampled, target_downsampled\n",
    "\n",
    "# применяем функцию к тренировочным выборкам, уменьшает количество объемтов класса 0 в 4 раза\n",
    "features_train_downsampled, target_train_downsampled = downsample(train_features,train_target, 0.25)"
   ]
  },
  {
   "cell_type": "markdown",
   "metadata": {},
   "source": [
    "### Модель после работы с дисбалансом"
   ]
  },
  {
   "cell_type": "markdown",
   "metadata": {},
   "source": [
    "#### Дерево решения"
   ]
  },
  {
   "cell_type": "code",
   "execution_count": 28,
   "metadata": {},
   "outputs": [
    {
     "name": "stdout",
     "output_type": "stream",
     "text": [
      "max_depth: 1 F1: 0.4750733137829912\n",
      "max_depth: 2 F1: 0.49761677788369874\n",
      "max_depth: 3 F1: 0.49761677788369874\n",
      "max_depth: 4 F1: 0.5170454545454546\n",
      "max_depth: 5 F1: 0.5489078822412156\n",
      "max_depth: 6 F1: 0.5587044534412956\n",
      "max_depth: 7 F1: 0.5531914893617021\n",
      "max_depth: 8 F1: 0.5417989417989418\n",
      "max_depth: 9 F1: 0.5130784708249497\n",
      "max_depth: 10 F1: 0.49292929292929283\n",
      "max_depth: 11 F1: 0.49388209121245835\n",
      "max_depth: 12 F1: 0.48484848484848486\n",
      "max_depth: 13 F1: 0.4777142857142857\n",
      "max_depth: 14 F1: 0.47058823529411775\n",
      "max_depth: 15 F1: 0.4641555285540705\n",
      "max_depth: 16 F1: 0.4716267339218159\n",
      "max_depth: 17 F1: 0.46428571428571425\n",
      "max_depth: 18 F1: 0.4707379134860051\n",
      "max_depth: 19 F1: 0.4728682170542636\n"
     ]
    }
   ],
   "source": [
    "#Циклом ищем лучший гиперпораметр max_depth\n",
    "\n",
    "for depth in range(1,20,1):\n",
    "    model_tree=DecisionTreeClassifier(class_weight='balanced',max_depth=depth,random_state=1234).fit(train_features,train_target)\n",
    "  \n",
    "    prediction=model_tree.predict(valid_features)\n",
    "    print('max_depth:',depth,'F1:',f1_score(valid_target,prediction))"
   ]
  },
  {
   "cell_type": "markdown",
   "metadata": {},
   "source": [
    "Вывод: лучшее значение max_depth=6, при котором F1=0,5587"
   ]
  },
  {
   "cell_type": "code",
   "execution_count": 29,
   "metadata": {},
   "outputs": [
    {
     "name": "stdout",
     "output_type": "stream",
     "text": [
      "max_depth: 1 F1: 0.4750733137829912\n",
      "max_depth: 2 F1: 0.49761677788369874\n",
      "max_depth: 3 F1: 0.49761677788369874\n",
      "max_depth: 4 F1: 0.5170454545454546\n",
      "max_depth: 5 F1: 0.5489078822412156\n",
      "max_depth: 6 F1: 0.5587044534412956\n",
      "max_depth: 7 F1: 0.5517241379310345\n",
      "max_depth: 8 F1: 0.5423728813559322\n",
      "max_depth: 9 F1: 0.5090543259557344\n",
      "max_depth: 10 F1: 0.4853977844914401\n",
      "max_depth: 11 F1: 0.49115044247787604\n",
      "max_depth: 12 F1: 0.4701986754966888\n",
      "max_depth: 13 F1: 0.4853273137697517\n",
      "max_depth: 14 F1: 0.4812206572769953\n",
      "max_depth: 15 F1: 0.47630619684082626\n",
      "max_depth: 16 F1: 0.4640605296343001\n",
      "max_depth: 17 F1: 0.4599745870393901\n",
      "max_depth: 18 F1: 0.47028423772609823\n",
      "max_depth: 19 F1: 0.45595854922279794\n"
     ]
    }
   ],
   "source": [
    "#Циклом ищем лучший гиперпораметр max_depth\n",
    "\n",
    "for depth in range(1,20,1):\n",
    "    model_tree=DecisionTreeClassifier(max_depth=depth,random_state=1234).fit(features_balance_up,target_balance_up)\n",
    "  \n",
    "    prediction=model_tree.predict(valid_features)\n",
    "    print('max_depth:',depth,'F1:',f1_score(valid_target,prediction))"
   ]
  },
  {
   "cell_type": "markdown",
   "metadata": {},
   "source": [
    "Вывод: лучшее значение max_depth=6, при котором F1=0,5587"
   ]
  },
  {
   "cell_type": "markdown",
   "metadata": {},
   "source": [
    "#### Случайный лес"
   ]
  },
  {
   "cell_type": "code",
   "execution_count": 30,
   "metadata": {},
   "outputs": [
    {
     "name": "stdout",
     "output_type": "stream",
     "text": [
      "max_depth: 1 F1: 0.5021872265966755\n",
      "max_depth: 2 F1: 0.5419103313840157\n",
      "max_depth: 3 F1: 0.5450861195542047\n",
      "max_depth: 4 F1: 0.5404858299595142\n",
      "max_depth: 5 F1: 0.5568065506653019\n",
      "max_depth: 6 F1: 0.5666316894018888\n",
      "max_depth: 7 F1: 0.5787139689578714\n",
      "max_depth: 8 F1: 0.5909090909090908\n",
      "max_depth: 9 F1: 0.5801886792452831\n",
      "max_depth: 10 F1: 0.589263420724095\n",
      "max_depth: 11 F1: 0.5778364116094987\n",
      "max_depth: 12 F1: 0.6055555555555556\n",
      "max_depth: 13 F1: 0.5816618911174785\n",
      "max_depth: 14 F1: 0.5727272727272726\n",
      "max_depth: 15 F1: 0.5564142194744977\n",
      "max_depth: 16 F1: 0.5579937304075235\n",
      "max_depth: 17 F1: 0.5587301587301587\n",
      "max_depth: 18 F1: 0.5428109854604201\n",
      "max_depth: 19 F1: 0.5421487603305786\n",
      "max_depth: 20 F1: 0.5472312703583062\n",
      "max_depth: 21 F1: 0.5481239804241436\n",
      "max_depth: 22 F1: 0.5454545454545455\n",
      "max_depth: 23 F1: 0.5448613376835236\n",
      "max_depth: 24 F1: 0.5428109854604201\n"
     ]
    }
   ],
   "source": [
    "#Циклом ищем лучший гиперпораметр max_depth\n",
    "for max_depth in range(1,25,1):\n",
    "    model_forest=RandomForestClassifier(class_weight='balanced',max_depth=max_depth,n_estimators=50,random_state=1234).fit(train_features,train_target)\n",
    "    prediction=model_forest.predict(valid_features)\n",
    "    print('max_depth:',max_depth,'F1:',f1_score(valid_target,prediction))"
   ]
  },
  {
   "cell_type": "markdown",
   "metadata": {},
   "source": [
    "Вывод: лучшее значение max_depth=12, при котором F1=0,6055"
   ]
  },
  {
   "cell_type": "code",
   "execution_count": 31,
   "metadata": {},
   "outputs": [
    {
     "name": "stdout",
     "output_type": "stream",
     "text": [
      "estim 1 F1: 0.5010615711252654\n",
      "estim 2 F1: 0.5059920106524634\n",
      "estim 3 F1: 0.5275779376498801\n",
      "estim 4 F1: 0.5225225225225225\n",
      "estim 5 F1: 0.532484076433121\n",
      "estim 6 F1: 0.5449871465295629\n",
      "estim 7 F1: 0.5880861850443599\n",
      "estim 8 F1: 0.577023498694517\n",
      "estim 9 F1: 0.5844155844155844\n",
      "estim 10 F1: 0.5885416666666666\n",
      "estim 11 F1: 0.5981794538361509\n",
      "estim 12 F1: 0.5918097754293263\n",
      "estim 13 F1: 0.6024096385542169\n",
      "estim 14 F1: 0.6061415220293724\n",
      "estim 15 F1: 0.5978552278820375\n",
      "estim 16 F1: 0.5997322623828648\n",
      "estim 17 F1: 0.6005434782608696\n",
      "estim 18 F1: 0.5975443383356072\n",
      "estim 19 F1: 0.5909712722298222\n",
      "estim 20 F1: 0.5959183673469387\n",
      "estim 21 F1: 0.6000000000000001\n",
      "estim 22 F1: 0.5956284153005464\n",
      "estim 23 F1: 0.6040816326530613\n",
      "estim 24 F1: 0.6054794520547944\n",
      "estim 25 F1: 0.6043956043956045\n",
      "estim 26 F1: 0.6060606060606061\n",
      "estim 27 F1: 0.5991678224687933\n",
      "estim 28 F1: 0.6005509641873279\n",
      "estim 29 F1: 0.6013793103448275\n",
      "estim 30 F1: 0.6049723756906078\n",
      "estim 31 F1: 0.5972222222222222\n",
      "estim 32 F1: 0.6049723756906078\n",
      "estim 33 F1: 0.6019417475728156\n",
      "estim 34 F1: 0.6033057851239669\n",
      "estim 35 F1: 0.6016483516483516\n",
      "estim 36 F1: 0.6033057851239669\n",
      "estim 37 F1: 0.6022099447513811\n",
      "estim 38 F1: 0.5963938973647711\n",
      "estim 39 F1: 0.5988857938718664\n",
      "estim 40 F1: 0.598337950138504\n",
      "estim 41 F1: 0.6052998605299861\n",
      "estim 42 F1: 0.6019417475728156\n",
      "estim 43 F1: 0.6036161335187761\n",
      "estim 44 F1: 0.6011080332409972\n",
      "estim 45 F1: 0.5994475138121547\n",
      "estim 46 F1: 0.5966850828729282\n",
      "estim 47 F1: 0.6008344923504868\n",
      "estim 48 F1: 0.5991678224687933\n",
      "estim 49 F1: 0.6027777777777777\n",
      "estim 50 F1: 0.6055555555555556\n",
      "estim 51 F1: 0.6011080332409972\n",
      "estim 52 F1: 0.6022099447513811\n",
      "estim 53 F1: 0.603042876901798\n",
      "estim 54 F1: 0.6038781163434902\n"
     ]
    }
   ],
   "source": [
    "#Циклом подбираем гиперпораметр n_estimators (количество деревьев)\n",
    "for estim in range(1,55,1):\n",
    "    model_forest=RandomForestClassifier(class_weight='balanced',max_depth=12,n_estimators=estim,random_state=1234).fit(train_features,train_target)\n",
    "    prediction=model_forest.predict(valid_features)\n",
    "    print('estim',estim,'F1:',f1_score(valid_target,prediction))\n",
    "    "
   ]
  },
  {
   "cell_type": "markdown",
   "metadata": {},
   "source": [
    "Вывод: лучшее значение max_depth=12 и n_estimators=14 при котором F1=0,6061"
   ]
  },
  {
   "cell_type": "code",
   "execution_count": 32,
   "metadata": {},
   "outputs": [],
   "source": [
    " model_forest=RandomForestClassifier(class_weight='balanced',max_depth=12,n_estimators=14,random_state=1234).fit(train_features,train_target)"
   ]
  },
  {
   "cell_type": "code",
   "execution_count": 33,
   "metadata": {},
   "outputs": [
    {
     "name": "stdout",
     "output_type": "stream",
     "text": [
      "max_depth: 1 F1: 0.48817567567567566\n",
      "max_depth: 2 F1: 0.5325670498084291\n",
      "max_depth: 3 F1: 0.5383867832847425\n",
      "max_depth: 4 F1: 0.5415860735009671\n",
      "max_depth: 5 F1: 0.5510406342913775\n",
      "max_depth: 6 F1: 0.5603271983640081\n",
      "max_depth: 7 F1: 0.5714285714285714\n",
      "max_depth: 8 F1: 0.5787781350482315\n",
      "max_depth: 9 F1: 0.5873362445414847\n",
      "max_depth: 10 F1: 0.5802047781569966\n",
      "max_depth: 11 F1: 0.5904317386231039\n",
      "max_depth: 12 F1: 0.5924112607099142\n",
      "max_depth: 13 F1: 0.5903307888040712\n",
      "max_depth: 14 F1: 0.5929778933680104\n",
      "max_depth: 15 F1: 0.5941644562334216\n",
      "max_depth: 16 F1: 0.5779569892473119\n",
      "max_depth: 17 F1: 0.5726027397260275\n",
      "max_depth: 18 F1: 0.5824175824175823\n",
      "max_depth: 19 F1: 0.5988857938718664\n",
      "max_depth: 20 F1: 0.5742574257425742\n",
      "max_depth: 21 F1: 0.5798319327731092\n",
      "max_depth: 22 F1: 0.5789473684210527\n",
      "max_depth: 23 F1: 0.5870786516853932\n",
      "max_depth: 24 F1: 0.5730337078651685\n"
     ]
    }
   ],
   "source": [
    "for max_depth in range(1,25,1):\n",
    "    model_forest=RandomForestClassifier(max_depth=max_depth,n_estimators=50,random_state=1234).fit(features_balance_up,target_balance_up)\n",
    "    prediction=model_forest.predict(valid_features)\n",
    "    print('max_depth:',max_depth,'F1:',f1_score(valid_target,prediction))"
   ]
  },
  {
   "cell_type": "markdown",
   "metadata": {},
   "source": [
    "Вывод: лучшее значение max_depth=19, при котором F1=0,5988"
   ]
  },
  {
   "cell_type": "code",
   "execution_count": 34,
   "metadata": {},
   "outputs": [
    {
     "name": "stdout",
     "output_type": "stream",
     "text": [
      "estim 1 F1: 0.48053392658509453\n",
      "estim 2 F1: 0.45482866043613707\n",
      "estim 3 F1: 0.5359317904993911\n",
      "estim 4 F1: 0.5235294117647059\n",
      "estim 5 F1: 0.5535714285714285\n",
      "estim 6 F1: 0.5358711566617863\n",
      "estim 7 F1: 0.5634920634920635\n",
      "estim 8 F1: 0.563953488372093\n",
      "estim 9 F1: 0.5560053981106613\n",
      "estim 10 F1: 0.5542521994134897\n",
      "estim 11 F1: 0.5604395604395604\n",
      "estim 12 F1: 0.5660919540229884\n",
      "estim 13 F1: 0.559670781893004\n",
      "estim 14 F1: 0.5689900426742532\n",
      "estim 15 F1: 0.5749318801089918\n",
      "estim 16 F1: 0.5738396624472574\n",
      "estim 17 F1: 0.5745554035567715\n",
      "estim 18 F1: 0.5750000000000001\n",
      "estim 19 F1: 0.5702592087312415\n",
      "estim 20 F1: 0.5694249649368864\n",
      "estim 21 F1: 0.5706521739130435\n",
      "estim 22 F1: 0.5580110497237568\n",
      "estim 23 F1: 0.5659863945578231\n",
      "estim 24 F1: 0.5646067415730337\n",
      "estim 25 F1: 0.5726027397260275\n",
      "estim 26 F1: 0.5810055865921788\n",
      "estim 27 F1: 0.5785123966942148\n",
      "estim 28 F1: 0.5694249649368864\n",
      "estim 29 F1: 0.5761772853185596\n",
      "estim 30 F1: 0.5734265734265735\n",
      "estim 31 F1: 0.5820689655172414\n",
      "estim 32 F1: 0.5770308123249299\n",
      "estim 33 F1: 0.5801104972375691\n",
      "estim 34 F1: 0.579020979020979\n",
      "estim 35 F1: 0.5817174515235458\n",
      "estim 36 F1: 0.5818181818181819\n",
      "estim 37 F1: 0.5908460471567268\n",
      "estim 38 F1: 0.5908460471567268\n",
      "estim 39 F1: 0.5991678224687933\n",
      "estim 40 F1: 0.594142259414226\n",
      "estim 41 F1: 0.5942228335625859\n",
      "estim 42 F1: 0.5927977839335179\n",
      "estim 43 F1: 0.5931034482758621\n",
      "estim 44 F1: 0.5924895688456191\n",
      "estim 45 F1: 0.598901098901099\n",
      "estim 46 F1: 0.6016713091922006\n",
      "estim 47 F1: 0.6041379310344827\n",
      "estim 48 F1: 0.596931659693166\n",
      "estim 49 F1: 0.6041379310344827\n",
      "estim 50 F1: 0.5988857938718664\n",
      "estim 51 F1: 0.5966850828729282\n",
      "estim 52 F1: 0.5926966292134832\n",
      "estim 53 F1: 0.5963938973647711\n",
      "estim 54 F1: 0.5902097902097901\n"
     ]
    }
   ],
   "source": [
    "#Циклом подбираем гиперпораметр n_estimators (количество деревьев)\n",
    "for estim in range(1,55,1):\n",
    "    model_forest=RandomForestClassifier(max_depth=19,n_estimators=estim,random_state=1234).fit(features_balance_up,target_balance_up)\n",
    "    prediction=model_forest.predict(valid_features)\n",
    "    print('estim',estim,'F1:',f1_score(valid_target,prediction))"
   ]
  },
  {
   "cell_type": "markdown",
   "metadata": {},
   "source": [
    "Вывод: лучшее значение max_depth=19 и n_estimators=47, 49 при котором F1=0,6041"
   ]
  },
  {
   "cell_type": "markdown",
   "metadata": {},
   "source": [
    "#### Логистическая регрессия"
   ]
  },
  {
   "cell_type": "code",
   "execution_count": 35,
   "metadata": {},
   "outputs": [
    {
     "name": "stdout",
     "output_type": "stream",
     "text": [
      "F1: 0.5902097902097901\n"
     ]
    }
   ],
   "source": [
    "model = LogisticRegression(random_state=12345, solver='liblinear', class_weight='balanced')\n",
    "model.fit(train_features,train_target)\n",
    "predicted_valid = model.predict(valid_features)\n",
    "print(\"F1:\", f1_score(valid_target,prediction))"
   ]
  },
  {
   "cell_type": "code",
   "execution_count": 36,
   "metadata": {},
   "outputs": [
    {
     "name": "stdout",
     "output_type": "stream",
     "text": [
      "F1: 0.43423137876386686\n"
     ]
    }
   ],
   "source": [
    "\n",
    "model = LogisticRegression(random_state=12345, solver='liblinear')\n",
    "model.fit(features_balance_up,target_balance_up)\n",
    "predicted_valid = model.predict(valid_features)\n",
    "print(\"F1:\", f1_score(valid_target,predicted_valid))"
   ]
  },
  {
   "cell_type": "markdown",
   "metadata": {},
   "source": [
    "Из полученных даннах можно сделать вывод, что метод балансировки весов классов немного лучше справился с задачей по сравнению с увеличением выборки - 0.4773 против 0.4342"
   ]
  },
  {
   "cell_type": "markdown",
   "metadata": {},
   "source": [
    "Вывод: Мера F1 стала гораздо лучше. F1=0.4773"
   ]
  },
  {
   "cell_type": "markdown",
   "metadata": {},
   "source": [
    "### график AUC-ROC\n"
   ]
  },
  {
   "cell_type": "markdown",
   "metadata": {},
   "source": [
    "#### Дерево решения"
   ]
  },
  {
   "cell_type": "code",
   "execution_count": 37,
   "metadata": {},
   "outputs": [
    {
     "data": {
      "text/plain": [
       "0.6623595853884559"
      ]
     },
     "execution_count": 37,
     "metadata": {},
     "output_type": "execute_result"
    }
   ],
   "source": [
    "probabilities_tree=model_tree.predict_proba(valid_features)\n",
    "probabilities_one_valid_tree=probabilities_tree[:,1]\n",
    "fpr_tree,tpr_tree,thresholds=roc_curve(valid_target,probabilities_one_valid_tree)\n",
    "auc_roc_tree=roc_auc_score(valid_target,probabilities_one_valid_tree)\n",
    "auc_roc_tree"
   ]
  },
  {
   "cell_type": "markdown",
   "metadata": {},
   "source": [
    "#### Случайный лес"
   ]
  },
  {
   "cell_type": "code",
   "execution_count": 38,
   "metadata": {},
   "outputs": [
    {
     "data": {
      "text/plain": [
       "0.8464527378763"
      ]
     },
     "execution_count": 38,
     "metadata": {},
     "output_type": "execute_result"
    }
   ],
   "source": [
    "probabilities_forest=model_forest.predict_proba(valid_features)\n",
    "probabilities_one_valid_forest=probabilities_forest[:,1]\n",
    "fpr_forest,tpr_forest,thresholds=roc_curve(valid_target,probabilities_one_valid_forest)\n",
    "auc_roc_forest=roc_auc_score(valid_target,probabilities_one_valid_forest)\n",
    "auc_roc_forest"
   ]
  },
  {
   "cell_type": "markdown",
   "metadata": {},
   "source": [
    "#### Логистичекая регрессия"
   ]
  },
  {
   "cell_type": "code",
   "execution_count": 39,
   "metadata": {},
   "outputs": [
    {
     "name": "stdout",
     "output_type": "stream",
     "text": [
      "F1: 0.4378029079159936\n"
     ]
    }
   ],
   "source": [
    "model_logistic=LogisticRegression(class_weight='balanced',solver='liblinear').fit(features_balance_up,target_balance_up)\n",
    "prediction=model_logistic.predict(valid_features)\n",
    "print('F1:',f1_score(prediction, valid_target))"
   ]
  },
  {
   "cell_type": "code",
   "execution_count": 40,
   "metadata": {},
   "outputs": [
    {
     "data": {
      "text/plain": [
       "0.7167435731554762"
      ]
     },
     "execution_count": 40,
     "metadata": {},
     "output_type": "execute_result"
    }
   ],
   "source": [
    "probabilities_reg=model_logistic.predict_proba(valid_features)\n",
    "probabilities_one_valid_reg=probabilities_reg[:,1]\n",
    "fpr_log,tpr_log,thresholds=roc_curve(valid_target,probabilities_one_valid_reg)\n",
    "auc_roc_reg=roc_auc_score(valid_target,probabilities_one_valid_reg)\n",
    "auc_roc_reg"
   ]
  },
  {
   "cell_type": "code",
   "execution_count": 41,
   "metadata": {},
   "outputs": [
    {
     "data": {
      "text/plain": [
       "<Figure size 432x288 with 0 Axes>"
      ]
     },
     "metadata": {},
     "output_type": "display_data"
    },
    {
     "data": {
      "image/png": "[encoded data removed]",
      "text/plain": [
       "<Figure size 720x720 with 1 Axes>"
      ]
     },
     "metadata": {
      "needs_background": "light"
     },
     "output_type": "display_data"
    }
   ],
   "source": [
    "plt.figure()\n",
    "\n",
    "plt.figure(figsize=(10,10))\n",
    "plt.plot([0, 1], [0, 1], linestyle='--')\n",
    "plt.xlim([0.0, 1.0])\n",
    "plt.ylim([0.0, 1.0])\n",
    "plt.plot(fpr_log,tpr_log)\n",
    "plt.plot(fpr_tree,tpr_tree)\n",
    "plt.plot(fpr_forest,tpr_forest)\n",
    "plt.xlabel('False Positive')\n",
    "plt.ylabel('True Positive')\n",
    "plt.title('ROC-кривая')\n",
    "plt.legend(('Случайная модель','Случайный лес','Логистическая регрессия','Дерево решения'),\n",
    "           loc= 'upper left') \n",
    "plt.show()"
   ]
  },
  {
   "cell_type": "markdown",
   "metadata": {},
   "source": [
    "Лучшее значение метрики auc roc=0.8412 у модели Случайный лес"
   ]
  },
  {
   "cell_type": "markdown",
   "metadata": {},
   "source": [
    "### обучение моделей с уменьшенным классом\n"
   ]
  },
  {
   "cell_type": "code",
   "execution_count": 42,
   "metadata": {},
   "outputs": [],
   "source": [
    "def downsample(features, target, fraction):\n",
    "    features_null = features[target == 0]\n",
    "    features_one = features[target == 1]\n",
    "    target_null = target[target == 0]\n",
    "    target_one = target[target == 1]\n",
    "\n",
    "    features_downsampled = pd.concat(\n",
    "        [features_null.sample(frac=fraction, random_state=12345)] + [features_one])\n",
    "    target_downsampled = pd.concat(\n",
    "        [target_null.sample(frac=fraction, random_state=12345)] + [target_one])\n",
    "\n",
    "    features_downsampled, target_downsampled = shuffle(\n",
    "        features_downsampled, target_downsampled, random_state=12345)\n",
    "\n",
    "    return features_downsampled, target_downsampled\n",
    "\n",
    "# применяем функцию к тренировочным выборкам, уменьшает количество объемтов класса 0 в 4 раза\n",
    "features_train_downsampled, target_train_downsampled = downsample(train_features,train_target, 0.25)"
   ]
  },
  {
   "cell_type": "markdown",
   "metadata": {},
   "source": [
    "#### дерево решения"
   ]
  },
  {
   "cell_type": "code",
   "execution_count": 43,
   "metadata": {},
   "outputs": [
    {
     "name": "stdout",
     "output_type": "stream",
     "text": [
      "max_depth: 1 F1: 0.4750733137829912\n",
      "max_depth: 2 F1: 0.49761677788369874\n",
      "max_depth: 3 F1: 0.5118376550169109\n",
      "max_depth: 4 F1: 0.49569377990430613\n",
      "max_depth: 5 F1: 0.5327659574468085\n",
      "max_depth: 6 F1: 0.5405405405405406\n",
      "max_depth: 7 F1: 0.5459662288930582\n",
      "max_depth: 8 F1: 0.5091258405379444\n",
      "max_depth: 9 F1: 0.5\n",
      "max_depth: 10 F1: 0.491588785046729\n",
      "max_depth: 11 F1: 0.47947761194029853\n",
      "max_depth: 12 F1: 0.4821917808219177\n",
      "max_depth: 13 F1: 0.4889705882352941\n",
      "max_depth: 14 F1: 0.4699646643109541\n",
      "max_depth: 15 F1: 0.4755120213713268\n",
      "max_depth: 16 F1: 0.47173144876325085\n",
      "max_depth: 17 F1: 0.48042704626334526\n",
      "max_depth: 18 F1: 0.4719298245614034\n",
      "max_depth: 19 F1: 0.4719298245614034\n"
     ]
    }
   ],
   "source": [
    "\n",
    "for depth in range(1,20,1):\n",
    "    model_tree=DecisionTreeClassifier(max_depth=depth,random_state=12345).fit(features_train_downsampled, target_train_downsampled)\n",
    "    prediction=model_tree.predict(valid_features)\n",
    "    print('max_depth:',depth,'F1:',f1_score(valid_target,prediction))"
   ]
  },
  {
   "cell_type": "markdown",
   "metadata": {},
   "source": [
    "Вывод: лучшее значение max_depth=7, при котором F1=0,5460"
   ]
  },
  {
   "cell_type": "markdown",
   "metadata": {},
   "source": [
    "#### случайный лес"
   ]
  },
  {
   "cell_type": "code",
   "execution_count": 44,
   "metadata": {},
   "outputs": [
    {
     "name": "stdout",
     "output_type": "stream",
     "text": [
      "max_depth: 1 F1: 0.5176470588235295\n",
      "max_depth: 2 F1: 0.5432835820895523\n",
      "max_depth: 3 F1: 0.542406311637081\n",
      "max_depth: 4 F1: 0.5468599033816426\n",
      "max_depth: 5 F1: 0.545101842870999\n",
      "max_depth: 6 F1: 0.5742771684945165\n",
      "max_depth: 7 F1: 0.5663010967098704\n",
      "max_depth: 8 F1: 0.5675934803451582\n",
      "max_depth: 9 F1: 0.5642023346303502\n",
      "max_depth: 10 F1: 0.5597667638483965\n",
      "max_depth: 11 F1: 0.5673352435530086\n",
      "max_depth: 12 F1: 0.5614035087719298\n",
      "max_depth: 13 F1: 0.5560882070949185\n",
      "max_depth: 14 F1: 0.5622032288698956\n",
      "max_depth: 15 F1: 0.5531100478468899\n",
      "max_depth: 16 F1: 0.5623800383877159\n",
      "max_depth: 17 F1: 0.5506149479659413\n",
      "max_depth: 18 F1: 0.5577841451766954\n",
      "max_depth: 19 F1: 0.5601539942252166\n",
      "max_depth: 20 F1: 0.552657004830918\n",
      "max_depth: 21 F1: 0.5568400770712909\n",
      "max_depth: 22 F1: 0.5531914893617023\n",
      "max_depth: 23 F1: 0.5543792107795957\n",
      "max_depth: 24 F1: 0.5551257253384912\n"
     ]
    }
   ],
   "source": [
    "\n",
    "for max_depth in range(1,25,1):\n",
    "    model_forest=RandomForestClassifier(max_depth=max_depth,n_estimators=50,random_state=1234).fit(features_train_downsampled, target_train_downsampled)\n",
    "    prediction=model_forest.predict(valid_features)\n",
    "    print('max_depth:',max_depth,'F1:',f1_score(valid_target,prediction))"
   ]
  },
  {
   "cell_type": "markdown",
   "metadata": {},
   "source": [
    "Вывод: лучшее значение max_depth=6, при котором F1=0,5743"
   ]
  },
  {
   "cell_type": "code",
   "execution_count": 45,
   "metadata": {},
   "outputs": [
    {
     "name": "stdout",
     "output_type": "stream",
     "text": [
      "estim 1 F1: 0.4323886639676114\n",
      "estim 2 F1: 0.5050675675675674\n",
      "estim 3 F1: 0.5171171171171172\n",
      "estim 4 F1: 0.5407407407407407\n",
      "estim 5 F1: 0.5434583714547119\n",
      "estim 6 F1: 0.5540540540540541\n",
      "estim 7 F1: 0.548076923076923\n",
      "estim 8 F1: 0.5531100478468899\n",
      "estim 9 F1: 0.5468599033816426\n",
      "estim 10 F1: 0.5502439024390243\n",
      "estim 11 F1: 0.5438765670202508\n",
      "estim 12 F1: 0.5523255813953489\n",
      "estim 13 F1: 0.5577689243027888\n",
      "estim 14 F1: 0.5502008032128514\n",
      "estim 15 F1: 0.5562130177514794\n",
      "estim 16 F1: 0.5606361829025845\n",
      "estim 17 F1: 0.5552238805970149\n",
      "estim 18 F1: 0.5528942115768463\n",
      "estim 19 F1: 0.5656970912738215\n",
      "estim 20 F1: 0.5702891326021934\n",
      "estim 21 F1: 0.5646594274432379\n",
      "estim 22 F1: 0.56071076011846\n",
      "estim 23 F1: 0.5644051130776795\n",
      "estim 24 F1: 0.5580933465739821\n",
      "estim 25 F1: 0.5588822355289421\n",
      "estim 26 F1: 0.5566600397614314\n",
      "estim 27 F1: 0.561122244488978\n",
      "estim 28 F1: 0.566\n",
      "estim 29 F1: 0.562874251497006\n",
      "estim 30 F1: 0.5674044265593561\n",
      "estim 31 F1: 0.570273003033367\n",
      "estim 32 F1: 0.5685483870967742\n",
      "estim 33 F1: 0.570273003033367\n",
      "estim 34 F1: 0.5673758865248227\n",
      "estim 35 F1: 0.5645645645645646\n",
      "estim 36 F1: 0.5691382765531061\n",
      "estim 37 F1: 0.5682730923694779\n",
      "estim 38 F1: 0.5662650602409639\n",
      "estim 39 F1: 0.5665322580645161\n",
      "estim 40 F1: 0.572289156626506\n",
      "estim 41 F1: 0.5694164989939638\n",
      "estim 42 F1: 0.5742971887550201\n",
      "estim 43 F1: 0.5717151454363089\n",
      "estim 44 F1: 0.5694444444444444\n",
      "estim 45 F1: 0.5711442786069653\n",
      "estim 46 F1: 0.5717131474103585\n",
      "estim 47 F1: 0.5708582834331338\n",
      "estim 48 F1: 0.5711442786069653\n",
      "estim 49 F1: 0.5708582834331338\n",
      "estim 50 F1: 0.5742771684945165\n",
      "estim 51 F1: 0.5776892430278885\n",
      "estim 52 F1: 0.574826560951437\n",
      "estim 53 F1: 0.5719960278053624\n",
      "estim 54 F1: 0.5736894164193868\n"
     ]
    }
   ],
   "source": [
    "#Циклом подбираем гиперпораметр n_estimators (количество деревьев)\n",
    "for estim in range(1,55,1):\n",
    "    model_forest=RandomForestClassifier(max_depth=6,n_estimators=estim,random_state=1234).fit(features_train_downsampled, target_train_downsampled)\n",
    "    prediction=model_forest.predict(valid_features)\n",
    "    print('estim',estim,'F1:',f1_score(valid_target,prediction))"
   ]
  },
  {
   "cell_type": "markdown",
   "metadata": {},
   "source": [
    "Вывод: лучшее значение max_depth=6 и n_estimators=51 при котором F1=0,5776"
   ]
  },
  {
   "cell_type": "markdown",
   "metadata": {},
   "source": [
    "#### логистическая регрессия"
   ]
  },
  {
   "cell_type": "code",
   "execution_count": 46,
   "metadata": {},
   "outputs": [
    {
     "name": "stdout",
     "output_type": "stream",
     "text": [
      "F1: 0.43925985518905875\n"
     ]
    }
   ],
   "source": [
    "\n",
    "model_logistic=LogisticRegression(class_weight='balanced',solver='liblinear').fit(features_train_downsampled, target_train_downsampled)\n",
    "prediction=model_logistic.predict(valid_features)\n",
    "print('F1:',f1_score(valid_target,prediction))"
   ]
  },
  {
   "cell_type": "markdown",
   "metadata": {},
   "source": [
    "## Тестирование модели"
   ]
  },
  {
   "cell_type": "code",
   "execution_count": 47,
   "metadata": {},
   "outputs": [
    {
     "name": "stdout",
     "output_type": "stream",
     "text": [
      "F1: 0.6210131332082552\n"
     ]
    }
   ],
   "source": [
    "prediction=model_forest.predict(test_features)\n",
    "print('F1:',f1_score(test_target, prediction))"
   ]
  },
  {
   "cell_type": "code",
   "execution_count": 48,
   "metadata": {},
   "outputs": [
    {
     "name": "stdout",
     "output_type": "stream",
     "text": [
      "ROC-AUC: 0.863759191628044\n"
     ]
    }
   ],
   "source": [
    "probabilities_forest=model_forest.predict_proba(test_features)\n",
    "probabilities_one_test_forest=probabilities_forest[:,1]\n",
    "fpr_forest,tpr_forest,thresholds=roc_curve(test_target,probabilities_one_test_forest)\n",
    "print('ROC-AUC:', roc_auc_score(test_target,probabilities_one_test_forest))"
   ]
  },
  {
   "cell_type": "code",
   "execution_count": 49,
   "metadata": {},
   "outputs": [
    {
     "data": {
      "text/html": [
       "<div>\n",
       "<style scoped>\n",
       "    .dataframe tbody tr th:only-of-type {\n",
       "        vertical-align: middle;\n",
       "    }\n",
       "\n",
       "    .dataframe tbody tr th {\n",
       "        vertical-align: top;\n",
       "    }\n",
       "\n",
       "    .dataframe thead th {\n",
       "        text-align: right;\n",
       "    }\n",
       "</style>\n",
       "<table border=\"1\" class=\"dataframe\">\n",
       "  <thead>\n",
       "    <tr style=\"text-align: right;\">\n",
       "      <th></th>\n",
       "      <th>Дерево Решения</th>\n",
       "      <th>Случайный лес</th>\n",
       "      <th>Логистическая регрессия</th>\n",
       "    </tr>\n",
       "  </thead>\n",
       "  <tbody>\n",
       "    <tr>\n",
       "      <th>F1 без учета дисбаланса</th>\n",
       "      <td>0.5489</td>\n",
       "      <td>0.5786</td>\n",
       "      <td>0.0986</td>\n",
       "    </tr>\n",
       "    <tr>\n",
       "      <th>F1 с учетом дисбаланса методом class_weight</th>\n",
       "      <td>0.5587</td>\n",
       "      <td>0.6061</td>\n",
       "      <td>0.4773</td>\n",
       "    </tr>\n",
       "    <tr>\n",
       "      <th>F1 с учетом дисбаланса методом увеличения класса</th>\n",
       "      <td>0.5587</td>\n",
       "      <td>0.6041</td>\n",
       "      <td>0.4342</td>\n",
       "    </tr>\n",
       "    <tr>\n",
       "      <th>F1 с учетом дисбаланса методом уменьшения класса</th>\n",
       "      <td>0.5460</td>\n",
       "      <td>0.5776</td>\n",
       "      <td>0.4393</td>\n",
       "    </tr>\n",
       "  </tbody>\n",
       "</table>\n",
       "</div>"
      ],
      "text/plain": [
       "                                                  Дерево Решения  \\\n",
       "F1 без учета дисбаланса                                   0.5489   \n",
       "F1 с учетом дисбаланса методом class_weight               0.5587   \n",
       "F1 с учетом дисбаланса методом увеличения класса          0.5587   \n",
       "F1 с учетом дисбаланса методом уменьшения класса          0.5460   \n",
       "\n",
       "                                                  Случайный лес  \\\n",
       "F1 без учета дисбаланса                                  0.5786   \n",
       "F1 с учетом дисбаланса методом class_weight              0.6061   \n",
       "F1 с учетом дисбаланса методом увеличения класса         0.6041   \n",
       "F1 с учетом дисбаланса методом уменьшения класса         0.5776   \n",
       "\n",
       "                                                  Логистическая регрессия  \n",
       "F1 без учета дисбаланса                                            0.0986  \n",
       "F1 с учетом дисбаланса методом class_weight                        0.4773  \n",
       "F1 с учетом дисбаланса методом увеличения класса                   0.4342  \n",
       "F1 с учетом дисбаланса методом уменьшения класса                   0.4393  "
      ]
     },
     "execution_count": 49,
     "metadata": {},
     "output_type": "execute_result"
    }
   ],
   "source": [
    "rezult1={'Дерево Решения':np.array([0.5489,0.5587,0.5587,0.5460]),'Случайный лес':np.array([0.5786,0.6061,0.6041,0.5776]),'Логистическая регрессия':np.array([0.0986,0.4773,0.4342,0.4393])}\n",
    "rezult_df=pd.DataFrame(rezult1,index=['F1 без учета дисбаланса','F1 с учетом дисбаланса методом class_weight', 'F1 с учетом дисбаланса методом увеличения класса', 'F1 с учетом дисбаланса методом уменьшения класса' ])\n",
    "rezult_df"
   ]
  },
  {
   "cell_type": "markdown",
   "metadata": {},
   "source": [
    "ВЫВОД: Рассматривая данные с учетом дисбаланса и без учета дисбаланса тремя моделями можно сделать вывод, что самая лучшая модель оказалась Случайный лес. При лучшем значении max_depth=12, n_estimators=14, мы имеем F1 меру =0,6061 на тестовой(валидной) выборке. Хуже всего себя показала модель Логистическая регрессия."
   ]
  },
  {
   "cell_type": "markdown",
   "metadata": {},
   "source": [
    "## Вывод"
   ]
  },
  {
   "cell_type": "markdown",
   "metadata": {},
   "source": [
    "В ходе работыбыли выполнены следующие этапы работы:\n",
    " - Предобработка данных:\n",
    "     * В результате преобразований в нашем датасете мы имеем 10 признаков, 1 целевой признак (Exited). - удалили признаки Surname, customer_id и row_number, т.к. они не играют большой роли в анализе.\n",
    "     * Дубликатов нет, пропуски устранены путем заполнения нулевыми значениями\n",
    "     * Перевели тип данных в целочесленный в столбце Tenure\n",
    " - Признаки gender, geography преобразованы  в бинарные методом OHE\n",
    " - Обучение трех моделей без учета дисбаланса\n",
    " - Построение кривой ошибок (ROC-кривая)\n",
    " - Борьба с дисбалансом методами Upsampling и Downsampling\n",
    " - Обучение трех моделей с учетом дисбаланса с помощью меодов:\n",
    "     * балансировка весов классов\n",
    "     * увеличение класса\n",
    "     * уменьшение класса\n",
    " - Выбран оптимальная модель и метод учета дисбаланса - наилучшие результаты показала модель Случайный лес при методе борьбы с дисбалансом class_weigth  - При лучшем значении max_depth=12, n_estimators=14, мы имеем F1 меру =0,6061 на тестовой(валидной) выборке."
   ]
  }
 ],
 "metadata": {
  "ExecuteTimeLog": [
   {
    "duration": 1726,
    "start_time": "2022-09-13T11:42:16.176Z"
   },
   {
    "duration": 123,
    "start_time": "2022-09-13T11:44:25.477Z"
   },
   {
    "duration": 58,
    "start_time": "2022-09-13T11:44:39.277Z"
   },
   {
    "duration": 62,
    "start_time": "2022-09-13T11:44:45.504Z"
   },
   {
    "duration": 87,
    "start_time": "2022-09-13T11:45:01.195Z"
   },
   {
    "duration": 83,
    "start_time": "2022-09-13T11:45:17.601Z"
   },
   {
    "duration": 5,
    "start_time": "2022-09-13T12:09:56.747Z"
   },
   {
    "duration": 5,
    "start_time": "2022-09-13T12:10:46.288Z"
   },
   {
    "duration": 11,
    "start_time": "2022-09-13T12:10:54.939Z"
   },
   {
    "duration": 96,
    "start_time": "2022-09-13T12:12:16.564Z"
   },
   {
    "duration": 8,
    "start_time": "2022-09-13T12:12:23.770Z"
   },
   {
    "duration": 11,
    "start_time": "2022-09-13T12:12:27.241Z"
   },
   {
    "duration": 9,
    "start_time": "2022-09-13T12:13:00.646Z"
   },
   {
    "duration": 8,
    "start_time": "2022-09-13T12:13:13.299Z"
   },
   {
    "duration": 8,
    "start_time": "2022-09-13T12:13:28.151Z"
   },
   {
    "duration": 8,
    "start_time": "2022-09-13T12:13:32.405Z"
   },
   {
    "duration": 17,
    "start_time": "2022-09-13T12:14:00.457Z"
   },
   {
    "duration": 87,
    "start_time": "2022-09-13T12:14:12.343Z"
   },
   {
    "duration": 4,
    "start_time": "2022-09-13T12:14:15.375Z"
   },
   {
    "duration": 5,
    "start_time": "2022-09-13T12:14:17.802Z"
   },
   {
    "duration": 10,
    "start_time": "2022-09-13T12:14:19.905Z"
   },
   {
    "duration": 7,
    "start_time": "2022-09-13T12:23:23.199Z"
   },
   {
    "duration": 8,
    "start_time": "2022-09-13T12:24:22.273Z"
   },
   {
    "duration": 9,
    "start_time": "2022-09-13T12:24:45.670Z"
   },
   {
    "duration": 8,
    "start_time": "2022-09-13T12:24:52.066Z"
   },
   {
    "duration": 12,
    "start_time": "2022-09-13T12:29:18.600Z"
   },
   {
    "duration": 69,
    "start_time": "2022-09-13T12:29:21.766Z"
   },
   {
    "duration": 5,
    "start_time": "2022-09-13T12:29:24.969Z"
   },
   {
    "duration": 4,
    "start_time": "2022-09-13T12:29:28.862Z"
   },
   {
    "duration": 13,
    "start_time": "2022-09-13T12:29:31.266Z"
   },
   {
    "duration": 10,
    "start_time": "2022-09-13T12:54:35.463Z"
   },
   {
    "duration": 144,
    "start_time": "2022-09-13T12:54:41.546Z"
   },
   {
    "duration": 14,
    "start_time": "2022-09-13T12:55:14.850Z"
   },
   {
    "duration": 142,
    "start_time": "2022-09-13T13:01:06.949Z"
   },
   {
    "duration": 109,
    "start_time": "2022-09-13T13:01:46.350Z"
   },
   {
    "duration": 108,
    "start_time": "2022-09-13T13:01:55.913Z"
   },
   {
    "duration": 107,
    "start_time": "2022-09-13T13:02:34.913Z"
   },
   {
    "duration": 128,
    "start_time": "2022-09-13T13:03:49.038Z"
   },
   {
    "duration": 182,
    "start_time": "2022-09-13T13:04:01.179Z"
   },
   {
    "duration": 100,
    "start_time": "2022-09-13T13:05:14.123Z"
   },
   {
    "duration": 150,
    "start_time": "2022-09-13T13:06:30.950Z"
   },
   {
    "duration": 172,
    "start_time": "2022-09-13T13:07:03.292Z"
   },
   {
    "duration": 877,
    "start_time": "2022-09-13T13:07:12.976Z"
   },
   {
    "duration": 848,
    "start_time": "2022-09-13T13:07:42.369Z"
   },
   {
    "duration": 943,
    "start_time": "2022-09-13T13:09:43.560Z"
   },
   {
    "duration": 172,
    "start_time": "2022-09-13T13:10:04.266Z"
   },
   {
    "duration": 201,
    "start_time": "2022-09-13T13:11:51.249Z"
   },
   {
    "duration": 107,
    "start_time": "2022-09-13T13:12:41.955Z"
   },
   {
    "duration": 133,
    "start_time": "2022-09-13T13:13:17.415Z"
   },
   {
    "duration": 107,
    "start_time": "2022-09-13T13:14:51.201Z"
   },
   {
    "duration": 107,
    "start_time": "2022-09-13T13:15:44.853Z"
   },
   {
    "duration": 108,
    "start_time": "2022-09-13T13:15:53.279Z"
   },
   {
    "duration": 116,
    "start_time": "2022-09-13T13:16:01.393Z"
   },
   {
    "duration": 95,
    "start_time": "2022-09-13T13:16:05.689Z"
   },
   {
    "duration": 43,
    "start_time": "2022-09-13T13:18:14.805Z"
   },
   {
    "duration": 16,
    "start_time": "2022-09-13T13:18:55.250Z"
   },
   {
    "duration": 23,
    "start_time": "2022-09-13T13:19:11.774Z"
   },
   {
    "duration": 6,
    "start_time": "2022-09-13T13:20:33.402Z"
   },
   {
    "duration": 9,
    "start_time": "2022-09-13T13:20:57.791Z"
   },
   {
    "duration": 10,
    "start_time": "2022-09-13T13:21:01.662Z"
   },
   {
    "duration": 198,
    "start_time": "2022-09-13T13:21:45.854Z"
   },
   {
    "duration": 9,
    "start_time": "2022-09-13T13:21:52.604Z"
   },
   {
    "duration": 53,
    "start_time": "2022-09-13T13:21:53.869Z"
   },
   {
    "duration": 5,
    "start_time": "2022-09-13T13:22:11.658Z"
   },
   {
    "duration": 8,
    "start_time": "2022-09-13T13:22:15.359Z"
   },
   {
    "duration": 55,
    "start_time": "2022-09-13T13:22:16.088Z"
   },
   {
    "duration": 20,
    "start_time": "2022-09-13T13:22:19.906Z"
   },
   {
    "duration": 5,
    "start_time": "2022-09-13T13:22:20.946Z"
   },
   {
    "duration": 10,
    "start_time": "2022-09-13T13:22:22.755Z"
   },
   {
    "duration": 58,
    "start_time": "2022-09-13T13:22:23.870Z"
   },
   {
    "duration": 34,
    "start_time": "2022-09-13T13:22:30.165Z"
   },
   {
    "duration": 10,
    "start_time": "2022-09-13T13:22:49.081Z"
   },
   {
    "duration": 29,
    "start_time": "2022-09-13T13:22:50.105Z"
   },
   {
    "duration": 47,
    "start_time": "2022-09-13T13:23:03.210Z"
   },
   {
    "duration": 272,
    "start_time": "2022-09-13T13:23:28.351Z"
   },
   {
    "duration": 6325,
    "start_time": "2022-09-13T13:24:20.593Z"
   },
   {
    "duration": 4832,
    "start_time": "2022-09-13T13:24:52.093Z"
   },
   {
    "duration": 35,
    "start_time": "2022-09-13T13:25:29.117Z"
   },
   {
    "duration": 108,
    "start_time": "2022-09-13T13:26:05.772Z"
   },
   {
    "duration": 8,
    "start_time": "2022-09-13T13:26:18.088Z"
   },
   {
    "duration": 12,
    "start_time": "2022-09-13T13:26:33.088Z"
   },
   {
    "duration": 39,
    "start_time": "2022-09-13T13:26:54.424Z"
   },
   {
    "duration": 126,
    "start_time": "2022-09-13T13:27:20.684Z"
   },
   {
    "duration": 127,
    "start_time": "2022-09-13T13:27:30.187Z"
   },
   {
    "duration": 15,
    "start_time": "2022-09-13T13:27:54.981Z"
   },
   {
    "duration": 191,
    "start_time": "2022-09-13T13:28:07.666Z"
   },
   {
    "duration": 4,
    "start_time": "2022-09-13T13:28:48.279Z"
   },
   {
    "duration": 10,
    "start_time": "2022-09-13T13:28:57.548Z"
   },
   {
    "duration": 4,
    "start_time": "2022-09-13T13:29:15.062Z"
   },
   {
    "duration": 5,
    "start_time": "2022-09-13T13:29:50.361Z"
   },
   {
    "duration": 2754,
    "start_time": "2022-09-13T13:29:55.676Z"
   },
   {
    "duration": 6495,
    "start_time": "2022-09-13T13:30:30.855Z"
   },
   {
    "duration": 10300,
    "start_time": "2022-09-13T13:30:51.194Z"
   },
   {
    "duration": 364,
    "start_time": "2022-09-13T13:31:04.456Z"
   },
   {
    "duration": 34,
    "start_time": "2022-09-13T13:31:26.980Z"
   },
   {
    "duration": 34,
    "start_time": "2022-09-13T13:31:57.054Z"
   },
   {
    "duration": 8,
    "start_time": "2022-09-13T13:32:22.716Z"
   },
   {
    "duration": 31,
    "start_time": "2022-09-13T13:32:47.521Z"
   },
   {
    "duration": 47,
    "start_time": "2022-09-13T13:33:11.993Z"
   },
   {
    "duration": 161,
    "start_time": "2022-09-13T13:33:21.678Z"
   },
   {
    "duration": 28,
    "start_time": "2022-09-13T13:33:54.912Z"
   },
   {
    "duration": 31,
    "start_time": "2022-09-13T13:34:01.658Z"
   },
   {
    "duration": 4,
    "start_time": "2022-09-13T13:34:10.244Z"
   },
   {
    "duration": 12,
    "start_time": "2022-09-13T13:34:18.087Z"
   },
   {
    "duration": 1292,
    "start_time": "2022-09-13T13:35:23.376Z"
   },
   {
    "duration": 78,
    "start_time": "2022-09-13T13:35:24.670Z"
   },
   {
    "duration": 4,
    "start_time": "2022-09-13T13:35:24.750Z"
   },
   {
    "duration": 18,
    "start_time": "2022-09-13T13:35:24.755Z"
   },
   {
    "duration": 26,
    "start_time": "2022-09-13T13:35:24.775Z"
   },
   {
    "duration": 27,
    "start_time": "2022-09-13T13:35:24.802Z"
   },
   {
    "duration": 22,
    "start_time": "2022-09-13T13:35:24.831Z"
   },
   {
    "duration": 22,
    "start_time": "2022-09-13T13:35:24.854Z"
   },
   {
    "duration": 18,
    "start_time": "2022-09-13T13:35:24.877Z"
   },
   {
    "duration": 153,
    "start_time": "2022-09-13T13:35:24.897Z"
   },
   {
    "duration": 119,
    "start_time": "2022-09-13T13:35:25.052Z"
   },
   {
    "duration": 945,
    "start_time": "2022-09-13T13:35:25.173Z"
   },
   {
    "duration": 184,
    "start_time": "2022-09-13T13:35:26.120Z"
   },
   {
    "duration": 16,
    "start_time": "2022-09-13T13:35:26.307Z"
   },
   {
    "duration": 14,
    "start_time": "2022-09-13T13:35:26.337Z"
   },
   {
    "duration": 31,
    "start_time": "2022-09-13T13:35:26.353Z"
   },
   {
    "duration": 51,
    "start_time": "2022-09-13T13:35:26.386Z"
   },
   {
    "duration": 305,
    "start_time": "2022-09-13T13:35:26.439Z"
   },
   {
    "duration": 6761,
    "start_time": "2022-09-13T13:35:26.746Z"
   },
   {
    "duration": 5111,
    "start_time": "2022-09-13T13:35:33.509Z"
   },
   {
    "duration": 326,
    "start_time": "2022-09-13T13:35:38.622Z"
   },
   {
    "duration": 13,
    "start_time": "2022-09-13T13:35:39.039Z"
   },
   {
    "duration": 50,
    "start_time": "2022-09-13T13:35:39.053Z"
   },
   {
    "duration": 43,
    "start_time": "2022-09-13T13:35:39.105Z"
   },
   {
    "duration": 367,
    "start_time": "2022-09-13T13:35:39.150Z"
   },
   {
    "duration": 4,
    "start_time": "2022-09-13T13:35:39.519Z"
   },
   {
    "duration": 47,
    "start_time": "2022-09-13T13:35:39.524Z"
   },
   {
    "duration": 41,
    "start_time": "2022-09-13T13:35:39.573Z"
   },
   {
    "duration": 2780,
    "start_time": "2022-09-13T13:35:39.616Z"
   },
   {
    "duration": 6663,
    "start_time": "2022-09-13T13:35:42.398Z"
   },
   {
    "duration": 10857,
    "start_time": "2022-09-13T13:35:49.063Z"
   },
   {
    "duration": 459,
    "start_time": "2022-09-13T13:35:59.922Z"
   },
   {
    "duration": 156,
    "start_time": "2022-09-13T13:36:00.383Z"
   },
   {
    "duration": 195,
    "start_time": "2022-09-13T13:36:00.543Z"
   },
   {
    "duration": 98,
    "start_time": "2022-09-13T13:36:00.741Z"
   },
   {
    "duration": 33,
    "start_time": "2022-09-13T13:36:00.843Z"
   },
   {
    "duration": 159,
    "start_time": "2022-09-13T13:36:00.878Z"
   },
   {
    "duration": 200,
    "start_time": "2022-09-13T13:36:01.039Z"
   },
   {
    "duration": 31,
    "start_time": "2022-09-13T13:36:01.242Z"
   },
   {
    "duration": 61,
    "start_time": "2022-09-13T13:36:01.276Z"
   },
   {
    "duration": 11,
    "start_time": "2022-09-13T13:36:01.342Z"
   },
   {
    "duration": 47,
    "start_time": "2022-09-15T12:19:56.536Z"
   },
   {
    "duration": 1578,
    "start_time": "2022-09-15T12:19:59.073Z"
   },
   {
    "duration": 4,
    "start_time": "2022-09-15T12:20:05.639Z"
   },
   {
    "duration": 452,
    "start_time": "2022-09-15T12:20:08.280Z"
   },
   {
    "duration": 5,
    "start_time": "2022-09-15T12:20:22.439Z"
   },
   {
    "duration": 4,
    "start_time": "2022-09-15T12:20:27.710Z"
   },
   {
    "duration": 10,
    "start_time": "2022-09-15T12:20:30.165Z"
   },
   {
    "duration": 8,
    "start_time": "2022-09-15T12:20:39.346Z"
   },
   {
    "duration": 4,
    "start_time": "2022-09-15T12:20:56.292Z"
   },
   {
    "duration": 102,
    "start_time": "2022-09-15T12:20:57.973Z"
   },
   {
    "duration": 11,
    "start_time": "2022-09-15T12:21:02.075Z"
   },
   {
    "duration": 5,
    "start_time": "2022-09-15T12:21:04.492Z"
   },
   {
    "duration": 12,
    "start_time": "2022-09-15T12:21:05.588Z"
   },
   {
    "duration": 18,
    "start_time": "2022-09-15T12:21:40.075Z"
   },
   {
    "duration": 8,
    "start_time": "2022-09-15T12:21:52.208Z"
   },
   {
    "duration": 122,
    "start_time": "2022-09-15T12:22:35.197Z"
   },
   {
    "duration": 99,
    "start_time": "2022-09-15T12:22:56.104Z"
   },
   {
    "duration": 985,
    "start_time": "2022-09-15T12:23:07.469Z"
   },
   {
    "duration": 172,
    "start_time": "2022-09-15T12:23:17.050Z"
   },
   {
    "duration": 18,
    "start_time": "2022-09-15T12:24:20.910Z"
   },
   {
    "duration": 5,
    "start_time": "2022-09-15T12:24:30.292Z"
   },
   {
    "duration": 10,
    "start_time": "2022-09-15T12:24:43.399Z"
   },
   {
    "duration": 30,
    "start_time": "2022-09-15T12:25:24.635Z"
   },
   {
    "duration": 27,
    "start_time": "2022-09-15T12:30:33.379Z"
   },
   {
    "duration": 29,
    "start_time": "2022-09-15T12:30:40.369Z"
   },
   {
    "duration": 9,
    "start_time": "2022-09-15T12:30:45.843Z"
   },
   {
    "duration": 271,
    "start_time": "2022-09-15T12:30:56.074Z"
   },
   {
    "duration": 28,
    "start_time": "2022-09-15T12:31:13.827Z"
   },
   {
    "duration": 308,
    "start_time": "2022-09-15T12:31:17.893Z"
   },
   {
    "duration": 9,
    "start_time": "2022-09-15T12:31:45.422Z"
   },
   {
    "duration": 278,
    "start_time": "2022-09-15T12:31:47.248Z"
   },
   {
    "duration": 112,
    "start_time": "2022-09-15T12:33:30.493Z"
   },
   {
    "duration": 278,
    "start_time": "2022-09-15T12:33:41.309Z"
   },
   {
    "duration": 6419,
    "start_time": "2022-09-15T12:36:41.720Z"
   },
   {
    "duration": 4857,
    "start_time": "2022-09-15T12:37:53.839Z"
   },
   {
    "duration": 4745,
    "start_time": "2022-09-15T12:38:04.875Z"
   },
   {
    "duration": 697,
    "start_time": "2022-09-15T12:40:36.198Z"
   },
   {
    "duration": 10,
    "start_time": "2022-09-15T12:45:51.324Z"
   },
   {
    "duration": 38,
    "start_time": "2022-09-15T12:45:52.958Z"
   },
   {
    "duration": 14,
    "start_time": "2022-09-15T12:45:55.219Z"
   },
   {
    "duration": 188,
    "start_time": "2022-09-15T12:47:47.949Z"
   },
   {
    "duration": 179,
    "start_time": "2022-09-15T12:48:44.015Z"
   },
   {
    "duration": 209,
    "start_time": "2022-09-15T12:49:24.215Z"
   },
   {
    "duration": 4,
    "start_time": "2022-09-15T12:50:32.292Z"
   },
   {
    "duration": 12,
    "start_time": "2022-09-15T12:50:39.918Z"
   },
   {
    "duration": 7,
    "start_time": "2022-09-15T12:51:18.080Z"
   },
   {
    "duration": 10,
    "start_time": "2022-09-15T12:51:18.736Z"
   },
   {
    "duration": 7,
    "start_time": "2022-09-15T12:51:22.750Z"
   },
   {
    "duration": 67,
    "start_time": "2022-09-15T12:52:18.103Z"
   },
   {
    "duration": 435,
    "start_time": "2022-09-15T12:53:13.737Z"
   },
   {
    "duration": 552,
    "start_time": "2022-09-15T12:53:35.159Z"
   },
   {
    "duration": 95,
    "start_time": "2022-09-15T12:54:37.839Z"
   },
   {
    "duration": 9261,
    "start_time": "2022-09-15T12:54:59.327Z"
   },
   {
    "duration": 8934,
    "start_time": "2022-09-15T12:56:27.079Z"
   },
   {
    "duration": 10229,
    "start_time": "2022-09-15T12:56:42.129Z"
   },
   {
    "duration": 13049,
    "start_time": "2022-09-15T12:57:15.809Z"
   },
   {
    "duration": 13993,
    "start_time": "2022-09-15T12:58:25.603Z"
   },
   {
    "duration": 424,
    "start_time": "2022-09-15T12:59:53.114Z"
   },
   {
    "duration": 42,
    "start_time": "2022-09-15T13:00:13.189Z"
   },
   {
    "duration": 10,
    "start_time": "2022-09-15T13:02:39.700Z"
   },
   {
    "duration": 35,
    "start_time": "2022-09-15T13:03:06.409Z"
   },
   {
    "duration": 75,
    "start_time": "2022-09-15T13:03:37.615Z"
   },
   {
    "duration": 27,
    "start_time": "2022-09-15T13:03:58.078Z"
   },
   {
    "duration": 187,
    "start_time": "2022-09-15T13:06:14.310Z"
   },
   {
    "duration": 30,
    "start_time": "2022-09-15T13:07:44.523Z"
   },
   {
    "duration": 44,
    "start_time": "2022-09-15T13:07:50.871Z"
   },
   {
    "duration": 11,
    "start_time": "2022-09-15T13:11:44.693Z"
   },
   {
    "duration": 1247,
    "start_time": "2022-09-15T13:14:45.941Z"
   },
   {
    "duration": 93,
    "start_time": "2022-09-15T13:14:47.190Z"
   },
   {
    "duration": 4,
    "start_time": "2022-09-15T13:14:47.285Z"
   },
   {
    "duration": 15,
    "start_time": "2022-09-15T13:14:47.291Z"
   },
   {
    "duration": 15,
    "start_time": "2022-09-15T13:14:47.307Z"
   },
   {
    "duration": 13,
    "start_time": "2022-09-15T13:14:47.324Z"
   },
   {
    "duration": 13,
    "start_time": "2022-09-15T13:14:47.338Z"
   },
   {
    "duration": 126,
    "start_time": "2022-09-15T13:14:47.353Z"
   },
   {
    "duration": 111,
    "start_time": "2022-09-15T13:14:47.481Z"
   },
   {
    "duration": 945,
    "start_time": "2022-09-15T13:14:47.596Z"
   },
   {
    "duration": 164,
    "start_time": "2022-09-15T13:14:48.543Z"
   },
   {
    "duration": 16,
    "start_time": "2022-09-15T13:14:48.709Z"
   },
   {
    "duration": 4,
    "start_time": "2022-09-15T13:14:48.727Z"
   },
   {
    "duration": 8,
    "start_time": "2022-09-15T13:14:48.732Z"
   },
   {
    "duration": 413,
    "start_time": "2022-09-15T13:14:48.742Z"
   },
   {
    "duration": 6132,
    "start_time": "2022-09-15T13:14:49.157Z"
   },
   {
    "duration": 4514,
    "start_time": "2022-09-15T13:14:55.291Z"
   },
   {
    "duration": 371,
    "start_time": "2022-09-15T13:14:59.807Z"
   },
   {
    "duration": 98,
    "start_time": "2022-09-15T13:15:00.180Z"
   },
   {
    "duration": 33,
    "start_time": "2022-09-15T13:15:00.280Z"
   },
   {
    "duration": 62,
    "start_time": "2022-09-15T13:15:00.315Z"
   },
   {
    "duration": 281,
    "start_time": "2022-09-15T13:15:00.379Z"
   },
   {
    "duration": 4,
    "start_time": "2022-09-15T13:15:00.662Z"
   },
   {
    "duration": 11,
    "start_time": "2022-09-15T13:15:00.677Z"
   },
   {
    "duration": 4,
    "start_time": "2022-09-15T13:15:00.690Z"
   },
   {
    "duration": 559,
    "start_time": "2022-09-15T13:15:00.696Z"
   },
   {
    "duration": 8525,
    "start_time": "2022-09-15T13:15:01.257Z"
   },
   {
    "duration": 13220,
    "start_time": "2022-09-15T13:15:09.785Z"
   },
   {
    "duration": 402,
    "start_time": "2022-09-15T13:15:23.006Z"
   },
   {
    "duration": 75,
    "start_time": "2022-09-15T13:15:23.410Z"
   },
   {
    "duration": 9,
    "start_time": "2022-09-15T13:15:23.577Z"
   },
   {
    "duration": 33,
    "start_time": "2022-09-15T13:15:23.588Z"
   },
   {
    "duration": 58,
    "start_time": "2022-09-15T13:15:23.624Z"
   },
   {
    "duration": 99,
    "start_time": "2022-09-15T13:15:23.684Z"
   },
   {
    "duration": 308,
    "start_time": "2022-09-15T13:15:23.785Z"
   },
   {
    "duration": 34,
    "start_time": "2022-09-15T13:15:24.095Z"
   },
   {
    "duration": 50,
    "start_time": "2022-09-15T13:15:24.131Z"
   },
   {
    "duration": 9,
    "start_time": "2022-09-15T13:15:24.183Z"
   },
   {
    "duration": 170,
    "start_time": "2022-09-15T13:16:58.603Z"
   },
   {
    "duration": 173,
    "start_time": "2022-09-15T13:17:44.323Z"
   },
   {
    "duration": 177,
    "start_time": "2022-09-15T13:18:20.961Z"
   },
   {
    "duration": 173,
    "start_time": "2022-09-15T13:18:56.727Z"
   },
   {
    "duration": 1529,
    "start_time": "2022-09-16T12:01:26.189Z"
   },
   {
    "duration": 91,
    "start_time": "2022-09-16T12:01:27.720Z"
   },
   {
    "duration": 5,
    "start_time": "2022-09-16T12:01:27.814Z"
   },
   {
    "duration": 15,
    "start_time": "2022-09-16T12:01:27.822Z"
   },
   {
    "duration": 20,
    "start_time": "2022-09-16T12:01:27.840Z"
   },
   {
    "duration": 10,
    "start_time": "2022-09-16T12:01:27.862Z"
   },
   {
    "duration": 14,
    "start_time": "2022-09-16T12:01:27.874Z"
   },
   {
    "duration": 168,
    "start_time": "2022-09-16T12:01:27.890Z"
   },
   {
    "duration": 109,
    "start_time": "2022-09-16T12:01:28.060Z"
   },
   {
    "duration": 878,
    "start_time": "2022-09-16T12:01:28.172Z"
   },
   {
    "duration": 103,
    "start_time": "2022-09-16T12:01:29.051Z"
   },
   {
    "duration": 16,
    "start_time": "2022-09-16T12:01:29.156Z"
   },
   {
    "duration": 4,
    "start_time": "2022-09-16T12:01:29.173Z"
   },
   {
    "duration": 8,
    "start_time": "2022-09-16T12:01:29.179Z"
   },
   {
    "duration": 505,
    "start_time": "2022-09-16T12:01:29.188Z"
   },
   {
    "duration": 7530,
    "start_time": "2022-09-16T12:01:29.695Z"
   },
   {
    "duration": 5430,
    "start_time": "2022-09-16T12:01:37.227Z"
   },
   {
    "duration": 254,
    "start_time": "2022-09-16T12:01:42.658Z"
   },
   {
    "duration": 95,
    "start_time": "2022-09-16T12:01:42.914Z"
   },
   {
    "duration": 111,
    "start_time": "2022-09-16T12:01:43.012Z"
   },
   {
    "duration": 11,
    "start_time": "2022-09-16T12:01:43.125Z"
   },
   {
    "duration": 352,
    "start_time": "2022-09-16T12:01:43.138Z"
   },
   {
    "duration": 3,
    "start_time": "2022-09-16T12:01:43.492Z"
   },
   {
    "duration": 19,
    "start_time": "2022-09-16T12:01:43.497Z"
   },
   {
    "duration": 3,
    "start_time": "2022-09-16T12:01:43.517Z"
   },
   {
    "duration": 646,
    "start_time": "2022-09-16T12:01:43.522Z"
   },
   {
    "duration": 10119,
    "start_time": "2022-09-16T12:01:44.170Z"
   },
   {
    "duration": 15212,
    "start_time": "2022-09-16T12:01:54.293Z"
   },
   {
    "duration": 486,
    "start_time": "2022-09-16T12:02:09.508Z"
   },
   {
    "duration": 49,
    "start_time": "2022-09-16T12:02:09.996Z"
   },
   {
    "duration": 97,
    "start_time": "2022-09-16T12:02:10.117Z"
   },
   {
    "duration": 47,
    "start_time": "2022-09-16T12:02:10.215Z"
   },
   {
    "duration": 47,
    "start_time": "2022-09-16T12:02:10.264Z"
   },
   {
    "duration": 95,
    "start_time": "2022-09-16T12:02:10.323Z"
   },
   {
    "duration": 283,
    "start_time": "2022-09-16T12:02:10.510Z"
   },
   {
    "duration": 38,
    "start_time": "2022-09-16T12:02:10.794Z"
   },
   {
    "duration": 29,
    "start_time": "2022-09-16T12:02:10.834Z"
   },
   {
    "duration": 9,
    "start_time": "2022-09-16T12:02:10.865Z"
   },
   {
    "duration": 193116,
    "start_time": "2022-09-16T12:11:34.809Z"
   },
   {
    "duration": 2936,
    "start_time": "2022-09-16T12:17:36.590Z"
   },
   {
    "duration": 205877,
    "start_time": "2022-09-16T12:20:58.928Z"
   },
   {
    "duration": 221140,
    "start_time": "2022-09-16T12:24:30.408Z"
   },
   {
    "duration": 9,
    "start_time": "2022-09-16T12:32:01.442Z"
   },
   {
    "duration": 13,
    "start_time": "2022-09-16T12:32:32.891Z"
   },
   {
    "duration": 15,
    "start_time": "2022-09-16T12:38:44.543Z"
   },
   {
    "duration": 504,
    "start_time": "2022-09-16T12:38:53.083Z"
   },
   {
    "duration": 325,
    "start_time": "2022-09-16T12:43:16.348Z"
   },
   {
    "duration": 153,
    "start_time": "2022-09-16T12:46:32.258Z"
   },
   {
    "duration": 83,
    "start_time": "2022-09-16T12:46:46.935Z"
   },
   {
    "duration": 42,
    "start_time": "2022-09-16T12:48:39.857Z"
   },
   {
    "duration": 72,
    "start_time": "2022-09-16T12:49:10.475Z"
   },
   {
    "duration": 96,
    "start_time": "2022-09-16T12:50:33.018Z"
   },
   {
    "duration": 74,
    "start_time": "2022-09-16T12:51:46.192Z"
   },
   {
    "duration": 10,
    "start_time": "2022-09-16T12:55:32.199Z"
   },
   {
    "duration": 9,
    "start_time": "2022-09-16T12:55:41.578Z"
   },
   {
    "duration": 9,
    "start_time": "2022-09-16T12:58:04.957Z"
   },
   {
    "duration": 38,
    "start_time": "2022-09-16T13:05:28.587Z"
   },
   {
    "duration": 1001,
    "start_time": "2022-09-16T13:06:32.228Z"
   },
   {
    "duration": 1012,
    "start_time": "2022-09-16T13:07:38.462Z"
   },
   {
    "duration": 183,
    "start_time": "2022-09-16T13:07:41.387Z"
   },
   {
    "duration": 485,
    "start_time": "2022-09-16T13:09:06.350Z"
   },
   {
    "duration": 587,
    "start_time": "2022-09-16T13:09:19.046Z"
   },
   {
    "duration": 12,
    "start_time": "2022-09-16T13:09:51.129Z"
   },
   {
    "duration": 40,
    "start_time": "2022-09-16T13:11:28.340Z"
   },
   {
    "duration": 38,
    "start_time": "2022-09-16T13:14:45.280Z"
   },
   {
    "duration": 37,
    "start_time": "2022-09-16T13:15:18.466Z"
   },
   {
    "duration": 84,
    "start_time": "2022-09-16T13:15:55.132Z"
   },
   {
    "duration": 37,
    "start_time": "2022-09-16T13:15:57.615Z"
   },
   {
    "duration": 6848,
    "start_time": "2022-09-16T13:16:28.164Z"
   },
   {
    "duration": 49,
    "start_time": "2022-09-16T13:17:53.612Z"
   },
   {
    "duration": 9853,
    "start_time": "2022-09-16T13:18:51.973Z"
   },
   {
    "duration": 10129,
    "start_time": "2022-09-16T13:20:03.022Z"
   },
   {
    "duration": 91,
    "start_time": "2022-09-16T13:22:00.292Z"
   },
   {
    "duration": 45,
    "start_time": "2022-09-16T13:22:17.928Z"
   },
   {
    "duration": 96,
    "start_time": "2022-09-16T13:22:25.716Z"
   },
   {
    "duration": 55,
    "start_time": "2022-09-16T13:23:05.437Z"
   },
   {
    "duration": 600,
    "start_time": "2022-09-16T13:23:26.236Z"
   },
   {
    "duration": 4,
    "start_time": "2022-09-16T13:27:56.369Z"
   },
   {
    "duration": 10,
    "start_time": "2022-09-16T13:28:58.764Z"
   },
   {
    "duration": 11,
    "start_time": "2022-09-16T13:29:22.060Z"
   },
   {
    "duration": 253,
    "start_time": "2022-09-16T13:30:24.197Z"
   },
   {
    "duration": 3762,
    "start_time": "2022-09-16T13:32:36.480Z"
   },
   {
    "duration": 21,
    "start_time": "2022-09-16T13:33:38.931Z"
   },
   {
    "duration": 5381,
    "start_time": "2022-09-16T13:35:19.003Z"
   },
   {
    "duration": 482,
    "start_time": "2022-09-16T13:39:58.328Z"
   },
   {
    "duration": 53,
    "start_time": "2022-09-16T13:41:16.614Z"
   },
   {
    "duration": 586,
    "start_time": "2022-09-16T13:42:05.131Z"
   },
   {
    "duration": 4,
    "start_time": "2022-09-16T13:43:10.702Z"
   },
   {
    "duration": 3,
    "start_time": "2022-09-16T13:43:31.731Z"
   },
   {
    "duration": 12,
    "start_time": "2022-09-16T13:43:50.546Z"
   },
   {
    "duration": 10,
    "start_time": "2022-09-16T13:44:49.958Z"
   },
   {
    "duration": 584,
    "start_time": "2022-09-16T13:45:05.327Z"
   },
   {
    "duration": 573,
    "start_time": "2022-09-16T13:45:33.624Z"
   },
   {
    "duration": 9722,
    "start_time": "2022-09-16T13:49:07.778Z"
   },
   {
    "duration": 5307,
    "start_time": "2022-09-16T13:52:06.753Z"
   },
   {
    "duration": 13390,
    "start_time": "2022-09-16T13:52:57.871Z"
   },
   {
    "duration": 15231,
    "start_time": "2022-09-16T13:53:11.535Z"
   },
   {
    "duration": 49,
    "start_time": "2022-09-16T13:54:19.691Z"
   },
   {
    "duration": 79,
    "start_time": "2022-09-16T13:57:02.677Z"
   },
   {
    "duration": 3998,
    "start_time": "2022-09-16T13:59:29.027Z"
   },
   {
    "duration": 24,
    "start_time": "2022-09-16T14:01:24.590Z"
   },
   {
    "duration": 23,
    "start_time": "2022-09-16T14:05:37.062Z"
   },
   {
    "duration": 9,
    "start_time": "2022-09-16T14:06:03.042Z"
   },
   {
    "duration": 9,
    "start_time": "2022-09-16T14:10:59.641Z"
   },
   {
    "duration": 73,
    "start_time": "2022-09-16T14:13:47.575Z"
   },
   {
    "duration": 1418,
    "start_time": "2022-09-17T02:04:20.501Z"
   },
   {
    "duration": 140,
    "start_time": "2022-09-17T02:04:21.921Z"
   },
   {
    "duration": 3,
    "start_time": "2022-09-17T02:04:22.063Z"
   },
   {
    "duration": 6,
    "start_time": "2022-09-17T02:04:22.068Z"
   },
   {
    "duration": 13,
    "start_time": "2022-09-17T02:04:22.075Z"
   },
   {
    "duration": 7,
    "start_time": "2022-09-17T02:04:22.089Z"
   },
   {
    "duration": 26,
    "start_time": "2022-09-17T02:04:22.097Z"
   },
   {
    "duration": 122,
    "start_time": "2022-09-17T02:04:22.124Z"
   },
   {
    "duration": 102,
    "start_time": "2022-09-17T02:04:22.248Z"
   },
   {
    "duration": 848,
    "start_time": "2022-09-17T02:04:22.353Z"
   },
   {
    "duration": 167,
    "start_time": "2022-09-17T02:04:23.203Z"
   },
   {
    "duration": 16,
    "start_time": "2022-09-17T02:04:23.372Z"
   },
   {
    "duration": 5,
    "start_time": "2022-09-17T02:04:23.390Z"
   },
   {
    "duration": 29,
    "start_time": "2022-09-17T02:04:23.397Z"
   },
   {
    "duration": 412,
    "start_time": "2022-09-17T02:04:23.428Z"
   },
   {
    "duration": 6192,
    "start_time": "2022-09-17T02:04:23.842Z"
   },
   {
    "duration": 4510,
    "start_time": "2022-09-17T02:04:30.036Z"
   },
   {
    "duration": 90439,
    "start_time": "2022-09-17T02:04:34.548Z"
   },
   {
    "duration": 534,
    "start_time": "2022-09-17T02:06:04.989Z"
   },
   {
    "duration": 97,
    "start_time": "2022-09-17T02:06:05.525Z"
   },
   {
    "duration": 36,
    "start_time": "2022-09-17T02:06:05.624Z"
   },
   {
    "duration": 63,
    "start_time": "2022-09-17T02:06:05.662Z"
   },
   {
    "duration": 270,
    "start_time": "2022-09-17T02:06:05.728Z"
   },
   {
    "duration": 3,
    "start_time": "2022-09-17T02:06:05.999Z"
   },
   {
    "duration": 23,
    "start_time": "2022-09-17T02:06:06.004Z"
   },
   {
    "duration": 4,
    "start_time": "2022-09-17T02:06:06.029Z"
   },
   {
    "duration": 15,
    "start_time": "2022-09-17T02:06:06.034Z"
   },
   {
    "duration": 430,
    "start_time": "2022-09-17T02:06:06.053Z"
   },
   {
    "duration": 512,
    "start_time": "2022-09-17T02:06:06.485Z"
   },
   {
    "duration": 6158,
    "start_time": "2022-09-17T02:06:06.998Z"
   },
   {
    "duration": 8682,
    "start_time": "2022-09-17T02:06:13.158Z"
   },
   {
    "duration": 83,
    "start_time": "2022-09-17T02:06:21.842Z"
   },
   {
    "duration": 8399,
    "start_time": "2022-09-17T02:06:21.927Z"
   },
   {
    "duration": 13061,
    "start_time": "2022-09-17T02:06:30.327Z"
   },
   {
    "duration": 44,
    "start_time": "2022-09-17T02:06:43.389Z"
   },
   {
    "duration": 213,
    "start_time": "2022-09-17T02:06:43.434Z"
   },
   {
    "duration": 77,
    "start_time": "2022-09-17T02:06:43.649Z"
   },
   {
    "duration": 141,
    "start_time": "2022-09-17T02:06:43.729Z"
   },
   {
    "duration": 51,
    "start_time": "2022-09-17T02:06:43.872Z"
   },
   {
    "duration": 98,
    "start_time": "2022-09-17T02:06:43.924Z"
   },
   {
    "duration": 267,
    "start_time": "2022-09-17T02:06:44.025Z"
   },
   {
    "duration": 29,
    "start_time": "2022-09-17T02:06:44.294Z"
   },
   {
    "duration": 288,
    "start_time": "2022-09-17T02:06:44.325Z"
   },
   {
    "duration": 3486,
    "start_time": "2022-09-17T02:06:44.622Z"
   },
   {
    "duration": 3773,
    "start_time": "2022-09-17T02:06:48.109Z"
   },
   {
    "duration": 43,
    "start_time": "2022-09-17T02:06:51.884Z"
   },
   {
    "duration": 107,
    "start_time": "2022-09-17T02:06:51.930Z"
   },
   {
    "duration": 22,
    "start_time": "2022-09-17T02:06:52.038Z"
   },
   {
    "duration": 9,
    "start_time": "2022-09-17T02:06:52.061Z"
   },
   {
    "duration": 90420,
    "start_time": "2022-09-17T02:08:11.008Z"
   },
   {
    "duration": 36,
    "start_time": "2022-09-17T02:13:30.312Z"
   },
   {
    "duration": 35,
    "start_time": "2022-09-17T02:13:54.793Z"
   },
   {
    "duration": 31,
    "start_time": "2022-09-17T02:14:00.901Z"
   },
   {
    "duration": 32,
    "start_time": "2022-09-17T02:14:20.768Z"
   },
   {
    "duration": 90225,
    "start_time": "2022-09-17T02:14:34.313Z"
   },
   {
    "duration": 89938,
    "start_time": "2022-09-17T02:16:17.930Z"
   },
   {
    "duration": 90184,
    "start_time": "2022-09-17T02:21:03.576Z"
   }
  ],
  "kernelspec": {
   "display_name": "Python 3 (ipykernel)",
   "language": "python",
   "name": "python3"
  },
  "language_info": {
   "codemirror_mode": {
    "name": "ipython",
    "version": 3
   },
   "file_extension": ".py",
   "mimetype": "text/x-python",
   "name": "python",
   "nbconvert_exporter": "python",
   "pygments_lexer": "ipython3",
   "version": "3.9.13"
  },
  "toc": {
   "base_numbering": 1,
   "nav_menu": {},
   "number_sections": true,
   "sideBar": true,
   "skip_h1_title": true,
   "title_cell": "Содержание",
   "title_sidebar": "Contents",
   "toc_cell": true,
   "toc_position": {
    "height": "calc(100% - 180px)",
    "left": "10px",
    "top": "150px",
    "width": "301px"
   },
   "toc_section_display": true,
   "toc_window_display": true
  }
 },
 "nbformat": 4,
 "nbformat_minor": 2
}
